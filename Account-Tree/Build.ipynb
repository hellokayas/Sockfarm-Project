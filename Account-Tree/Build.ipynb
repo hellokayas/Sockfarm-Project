{
 "cells": [
  {
   "cell_type": "code",
   "execution_count": 1,
   "metadata": {},
   "outputs": [],
   "source": [
    "import numpy as np\n",
    "import pandas as pd\n",
    "from numpy.random import rand\n",
    "import gzip\n",
    "import json\n",
    "import ast\n",
    "from scipy.cluster.vq import kmeans2\n",
    "import matplotlib.pyplot as plt"
   ]
  },
  {
   "cell_type": "code",
   "execution_count": 7,
   "metadata": {},
   "outputs": [
    {
     "data": {
      "text/plain": [
       "0"
      ]
     },
     "execution_count": 7,
     "metadata": {},
     "output_type": "execute_result"
    }
   ],
   "source": [
    "# we test with bin matrices which has say 20 columns, this value should be 300\n",
    "# we take 10 rows which is the number of accounts, this value should be around 10^6\n",
    "mu = 0\n",
    "sigma = 1.0\n",
    "A = np.random.normal(mu, sigma, (10,10))\n",
    "#Now do the 2-means and get the output.\n",
    "centroid, label = kmeans2(A, 2, minit='points')\n",
    "#centroid will be two arrays each of 10 dimension for the two clusters\n",
    "# label[i] is the code or index of the centroid the ith observation is closest to.\n",
    "label[2]"
   ]
  },
  {
   "cell_type": "code",
   "execution_count": 16,
   "metadata": {},
   "outputs": [
    {
     "data": {
      "text/plain": [
       "[0, 2, 3, 5, 7, 8]"
      ]
     },
     "execution_count": 16,
     "metadata": {},
     "output_type": "execute_result"
    }
   ],
   "source": [
    "# Now we write the function that partitons A into A0 and A1\n",
    "# A0 and A1 are lists which will contain only the indices of the rows which are supposed to be in A0 and A1\n",
    "# partition takes an arr which means it contains the matrix made up of A[arr[i]]\n",
    "# we need to form matrix from the rows of A as mentioned in arr\n",
    "arr = [0,1,2,3,4,5,6,7,8,9]\n",
    "def partition(arr):\n",
    "    matrix = []\n",
    "    for i in range(len(arr)):\n",
    "        matrix.append(A[i,:])\n",
    "    matrix = np.array(matrix)\n",
    "    centroid, label = kmeans2(matrix, 2, minit='points')\n",
    "    A0,A1 = [],[]\n",
    "    for i in range(len(arr)):# this is the num of the rows, i.e. the num of accts\n",
    "        if label[i] == 0:\n",
    "            A0.append(i)# means A[i] should be in this as a row\n",
    "        else:\n",
    "            A1.append(i)# means A[i] should be in this as a row\n",
    "    #A0 = np.array(A0)\n",
    "    #A1 = np.array(A1)\n",
    "    return (A0,A1)# returns two lists so that x = A0[i], A[x] will give the reqd row\n",
    "\n",
    "x,y = partition(A)\n",
    "x"
   ]
  },
  {
   "cell_type": "code",
   "execution_count": null,
   "metadata": {},
   "outputs": [],
   "source": [
    "tau = 3\n",
    "# data contains lists which contain indices i. A[i] will be the reqd rows, to start with data = [0,...,9]\n",
    "class Node:\n",
    "    def __init__ (self, data, parent = None):\n",
    "        #self.width = width\n",
    "        #self.height = height\n",
    "        self.parent = parent\n",
    "        self.children = []\n",
    "        self.data = data\n",
    "\n",
    "    @property\n",
    "    def level (self):\n",
    "        return 0 if not self.parent else 1 + self.parent.level\n",
    "\n",
    "    def split (self):\n",
    "        if self.children == []: return\n",
    "        numrow = len(self.data)\n",
    "        if numrow <= tau:\n",
    "            self.children = []\n",
    "        A1,A2 = partition(self.data)\n",
    "        self.children = [Node(A1, self),Node(A2, self)]\n",
    "        \n",
    "    def splitUntilLevel (self, maxLevel):\n",
    "        if maxLevel <= self.level: return\n",
    "        self.split ()\n",
    "        for child in self.children: child.splitUntilLevel (maxLevel)\n",
    "\n",
    "    def __str__ (self):\n",
    "        s = \"{} x {}\".format(self.data.size[0], self.data.size[1])\n",
    "        for child in self.children: s += str (child)\n",
    "        return s"
   ]
  }
 ],
 "metadata": {
  "kernelspec": {
   "display_name": "Python 3",
   "language": "python",
   "name": "python3"
  },
  "language_info": {
   "codemirror_mode": {
    "name": "ipython",
    "version": 3
   },
   "file_extension": ".py",
   "mimetype": "text/x-python",
   "name": "python",
   "nbconvert_exporter": "python",
   "pygments_lexer": "ipython3",
   "version": "3.8.5"
  }
 },
 "nbformat": 4,
 "nbformat_minor": 4
}

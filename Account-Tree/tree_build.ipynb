{
 "cells": [
  {
   "cell_type": "code",
   "execution_count": 1,
   "metadata": {},
   "outputs": [],
   "source": [
    "import numpy as np\n",
    "import pandas as pd\n",
    "from numpy.random import rand\n",
    "import gzip\n",
    "import json\n",
    "import ast\n",
    "from scipy.cluster.vq import kmeans2\n",
    "import matplotlib.pyplot as plt"
   ]
  },
  {
   "cell_type": "code",
   "execution_count": 2,
   "metadata": {},
   "outputs": [
    {
     "data": {
      "text/plain": [
       "array([[ 1.49531783,  1.30287202, -0.34395735, ...,  0.13080379,\n",
       "         0.83533574, -0.38015671],\n",
       "       [-1.38729941, -1.45238562,  0.57005743, ..., -0.72508667,\n",
       "         0.51879238,  0.51545811],\n",
       "       [ 0.28205511, -0.43806339, -1.46566083, ..., -0.32824124,\n",
       "        -2.63896932,  0.51711023],\n",
       "       ...,\n",
       "       [ 1.01155266,  1.47383056, -2.30059413, ...,  0.11161373,\n",
       "        -0.25409758, -0.03986065],\n",
       "       [-1.95235299,  1.16765143,  0.13485157, ...,  0.32211166,\n",
       "         0.04093508, -0.76477956],\n",
       "       [-1.76966433, -0.21423662, -0.57425174, ...,  1.70790009,\n",
       "         0.63273017, -0.37517276]])"
      ]
     },
     "execution_count": 2,
     "metadata": {},
     "output_type": "execute_result"
    }
   ],
   "source": [
    "mu = 0\n",
    "sigma = 1.0\n",
    "A = np.random.normal(mu, sigma, (10,300))\n",
    "A"
   ]
  },
  {
   "cell_type": "code",
   "execution_count": 3,
   "metadata": {},
   "outputs": [
    {
     "name": "stdout",
     "output_type": "stream",
     "text": [
      "0\n",
      "0\n",
      "1\n",
      "1\n",
      "1\n",
      "1\n",
      "1\n",
      "1\n",
      "0\n",
      "1\n"
     ]
    }
   ],
   "source": [
    "centroid, label = kmeans2(A, 2, minit='points')\n",
    "for i in range(10):\n",
    "    print(label[i])"
   ]
  },
  {
   "cell_type": "code",
   "execution_count": 4,
   "metadata": {},
   "outputs": [
    {
     "data": {
      "text/plain": [
       "array([3, 7], dtype=int64)"
      ]
     },
     "execution_count": 4,
     "metadata": {},
     "output_type": "execute_result"
    }
   ],
   "source": [
    "counts = np.bincount(label)\n",
    "counts"
   ]
  },
  {
   "cell_type": "code",
   "execution_count": 5,
   "metadata": {},
   "outputs": [],
   "source": [
    "def partition(A):\n",
    "    centroid, label = kmeans2(A, 2, minit='points')\n",
    "    A0,A1 = [],[]\n",
    "    for i in range(10):\n",
    "        if label[i] == 0:\n",
    "            A0.append(A[i,:])\n",
    "        else:\n",
    "            A1.append(A[i,:])\n",
    "    A0 = np.array(A0)\n",
    "    A1 = np.array(A1)\n",
    "    return (A0,A1)"
   ]
  },
  {
   "cell_type": "code",
   "execution_count": 6,
   "metadata": {},
   "outputs": [
    {
     "data": {
      "text/plain": [
       "9"
      ]
     },
     "execution_count": 6,
     "metadata": {},
     "output_type": "execute_result"
    }
   ],
   "source": [
    "x,y = partition(A)\n",
    "num_row,num_col = x.shape\n",
    "num_row"
   ]
  },
  {
   "cell_type": "code",
   "execution_count": 8,
   "metadata": {},
   "outputs": [
    {
     "name": "stdout",
     "output_type": "stream",
     "text": [
      "[[-0.06051571  1.81421476 -1.80176172 ...  0.75251048  0.55390197\n",
      "   0.32961278]\n",
      " [-1.19496629 -1.70335251  0.45493366 ... -1.48885837 -0.46498978\n",
      "  -0.9305189 ]\n",
      " [ 0.06033165 -0.80784667  1.16156487 ... -0.34948278 -1.82583457\n",
      "  -0.53140815]\n",
      " ...\n",
      " [ 0.62221719  0.68916232  2.19524539 ...  1.16642529  0.30434166\n",
      "   0.14012133]\n",
      " [ 0.43802122 -1.733677    0.13354434 ... -0.73235339 -0.28527902\n",
      "   0.18751389]\n",
      " [ 1.25336017 -0.52650336 -1.61513716 ...  2.060299    0.60011176\n",
      "  -0.99184089]]\n"
     ]
    }
   ],
   "source": [
    "class Node:\n",
    "    def __init__(self, value):\n",
    "        self.left = None\n",
    "        self.data = value\n",
    "        self.right = None\n",
    "        #self.children = []\n",
    "        \n",
    "    def PrintTree(self):\n",
    "        if self.left:\n",
    "            self.left.PrintTree()\n",
    "        print(self.data),\n",
    "        if self.right:\n",
    "            self.right.PrintTree()\n",
    "            \n",
    "root = Node(A)\n",
    "root.PrintTree()"
   ]
  },
  {
   "cell_type": "code",
   "execution_count": 34,
   "metadata": {},
   "outputs": [],
   "source": [
    "tau = 3\n",
    "def build(root):\n",
    "    numrow,numcol = root.data.shape\n",
    "    if numrow <= tau:\n",
    "        return root\n",
    "    A1,A2 = partition(root.data)\n",
    "    root1 = Node(A1)\n",
    "    root2 = Node(A2)\n",
    "    #L = build(root1)\n",
    "    #R = build(root2)\n",
    "    root.left = build(root1)\n",
    "    root.right = build(root2)\n",
    "    #Node(s).children = [L,R]\n",
    "    return root"
   ]
  },
  {
   "cell_type": "code",
   "execution_count": 48,
   "metadata": {},
   "outputs": [],
   "source": [
    "def ourprint(some_root):\n",
    "        if some_root.left:\n",
    "            ourprint(some_root.left)\n",
    "        print(some_root.data)\n",
    "        if some_root.right:\n",
    "            ourprint(some_root.right)\n",
    "#ourprint(root)\n"
   ]
  },
  {
   "cell_type": "code",
   "execution_count": 7,
   "metadata": {},
   "outputs": [
    {
     "ename": "NameError",
     "evalue": "name 'Node' is not defined",
     "output_type": "error",
     "traceback": [
      "\u001b[1;31m---------------------------------------------------------------------------\u001b[0m",
      "\u001b[1;31mNameError\u001b[0m                                 Traceback (most recent call last)",
      "\u001b[1;32m<ipython-input-7-de12c1ee4135>\u001b[0m in \u001b[0;36m<module>\u001b[1;34m\u001b[0m\n\u001b[0;32m      1\u001b[0m \u001b[1;31m# now we will test the above methods using 10 points each in 2 dimension\u001b[0m\u001b[1;33m\u001b[0m\u001b[1;33m\u001b[0m\u001b[1;33m\u001b[0m\u001b[0m\n\u001b[0;32m      2\u001b[0m \u001b[0mB\u001b[0m \u001b[1;33m=\u001b[0m \u001b[0mnp\u001b[0m\u001b[1;33m.\u001b[0m\u001b[0mrandom\u001b[0m\u001b[1;33m.\u001b[0m\u001b[0mnormal\u001b[0m\u001b[1;33m(\u001b[0m\u001b[1;36m0\u001b[0m\u001b[1;33m,\u001b[0m \u001b[1;36m1.0\u001b[0m\u001b[1;33m,\u001b[0m \u001b[1;33m(\u001b[0m\u001b[1;36m10\u001b[0m\u001b[1;33m,\u001b[0m\u001b[1;36m2\u001b[0m\u001b[1;33m)\u001b[0m\u001b[1;33m)\u001b[0m\u001b[1;33m\u001b[0m\u001b[1;33m\u001b[0m\u001b[0m\n\u001b[1;32m----> 3\u001b[1;33m \u001b[0mnew_root\u001b[0m \u001b[1;33m=\u001b[0m \u001b[0mNode\u001b[0m\u001b[1;33m(\u001b[0m\u001b[0mB\u001b[0m\u001b[1;33m)\u001b[0m\u001b[1;33m\u001b[0m\u001b[1;33m\u001b[0m\u001b[0m\n\u001b[0m\u001b[0;32m      4\u001b[0m \u001b[0mnumrow\u001b[0m\u001b[1;33m,\u001b[0m\u001b[0mnumcol\u001b[0m \u001b[1;33m=\u001b[0m \u001b[0mnew_root\u001b[0m\u001b[1;33m.\u001b[0m\u001b[0mdata\u001b[0m\u001b[1;33m.\u001b[0m\u001b[0mshape\u001b[0m\u001b[1;33m\u001b[0m\u001b[1;33m\u001b[0m\u001b[0m\n\u001b[0;32m      5\u001b[0m \u001b[0mnumrow\u001b[0m\u001b[1;33m\u001b[0m\u001b[1;33m\u001b[0m\u001b[0m\n",
      "\u001b[1;31mNameError\u001b[0m: name 'Node' is not defined"
     ]
    }
   ],
   "source": [
    "# now we will test the above methods using 10 points each in 2 dimension\n",
    "B = np.random.normal(0, 1.0, (10,2))\n",
    "new_root = Node(B)\n",
    "numrow,numcol = new_root.data.shape\n",
    "numrow"
   ]
  },
  {
   "cell_type": "code",
   "execution_count": 7,
   "metadata": {},
   "outputs": [],
   "source": [
    "a,b = partition(new_root.data)\n",
    "new_root1 = Node(a)\n",
    "new_root2 = Node(b)\n",
    "n,m = new_root1.data.shape\n",
    "#print(new_root1.data)\n",
    "#print(new_root2.data)\n",
    "#print(a)\n",
    "#print(b)\n",
    "new_root.left = new_root1\n",
    "new_root.right = new_root2"
   ]
  },
  {
   "cell_type": "code",
   "execution_count": 8,
   "metadata": {},
   "outputs": [
    {
     "data": {
      "text/plain": [
       "array([[ True,  True],\n",
       "       [ True,  True],\n",
       "       [ True,  True],\n",
       "       [ True,  True],\n",
       "       [ True,  True],\n",
       "       [ True,  True],\n",
       "       [ True,  True]])"
      ]
     },
     "execution_count": 8,
     "metadata": {},
     "output_type": "execute_result"
    }
   ],
   "source": [
    "new_root.left.data == new_root1.data"
   ]
  },
  {
   "cell_type": "code",
   "execution_count": 66,
   "metadata": {},
   "outputs": [
    {
     "name": "stdout",
     "output_type": "stream",
     "text": [
      "100 x 100\n",
      "  100 x 32\n",
      "    29 x 32\n",
      "    71 x 32\n",
      "  100 x 68\n",
      "    32 x 68\n",
      "    68 x 68\n",
      "\n"
     ]
    }
   ],
   "source": [
    "import random\n",
    "class Rectangle:\n",
    "    def __init__ (self, width, height, parent = None):\n",
    "        self.width = width\n",
    "        self.height = height\n",
    "        self.parent = parent\n",
    "        self.children = []\n",
    "\n",
    "    @property\n",
    "    def level (self):\n",
    "        return 0 if not self.parent else 1 + self.parent.level\n",
    "\n",
    "    def split (self):\n",
    "        if self.children: raise Exception ('Already split')\n",
    "        ratio = random.random () * .5 + .25 #split between 1/4 and 3/4\n",
    "        if self.width > self.height:\n",
    "            width = int (ratio * self.width)\n",
    "            self.children = [Rectangle (width, self.height, self),\n",
    "                Rectangle (self.width - width, self.height, self) ]\n",
    "        else:\n",
    "            height = int (ratio * self.height)\n",
    "            self.children = [Rectangle (self.width, height, self),\n",
    "                Rectangle (self.width, self.height - height, self) ]\n",
    "\n",
    "    def splitUntilLevel (self, maxLevel):\n",
    "        if maxLevel <= self.level: return\n",
    "        self.split ()\n",
    "        for child in self.children: child.splitUntilLevel (maxLevel)\n",
    "\n",
    "    def __str__ (self):\n",
    "        s = '{}{} x {}\\n'.format (' ' * (2 * self.level), self.width, self.height)\n",
    "        for child in self.children: s += str (child)\n",
    "        return s\n",
    "\n",
    "r = Rectangle (100, 100)\n",
    "r.splitUntilLevel (2)\n",
    "print (r)"
   ]
  },
  {
   "cell_type": "code",
   "execution_count": 11,
   "metadata": {},
   "outputs": [
    {
     "ename": "IndexError",
     "evalue": "Replacement index 2 out of range for positional args tuple",
     "output_type": "error",
     "traceback": [
      "\u001b[1;31m---------------------------------------------------------------------------\u001b[0m",
      "\u001b[1;31mIndexError\u001b[0m                                Traceback (most recent call last)",
      "\u001b[1;32m<ipython-input-11-06b718ea1013>\u001b[0m in \u001b[0;36m<module>\u001b[1;34m\u001b[0m\n\u001b[0;32m     32\u001b[0m \u001b[0mN\u001b[0m \u001b[1;33m=\u001b[0m \u001b[0mNode\u001b[0m\u001b[1;33m(\u001b[0m\u001b[0mB\u001b[0m\u001b[1;33m)\u001b[0m\u001b[1;33m\u001b[0m\u001b[1;33m\u001b[0m\u001b[0m\n\u001b[0;32m     33\u001b[0m \u001b[0mN\u001b[0m\u001b[1;33m.\u001b[0m\u001b[0msplitUntilLevel\u001b[0m \u001b[1;33m(\u001b[0m\u001b[1;36m1\u001b[0m\u001b[1;33m)\u001b[0m\u001b[1;33m\u001b[0m\u001b[1;33m\u001b[0m\u001b[0m\n\u001b[1;32m---> 34\u001b[1;33m \u001b[0mprint\u001b[0m \u001b[1;33m(\u001b[0m\u001b[0mN\u001b[0m\u001b[1;33m)\u001b[0m\u001b[1;33m\u001b[0m\u001b[1;33m\u001b[0m\u001b[0m\n\u001b[0m",
      "\u001b[1;32m<ipython-input-11-06b718ea1013>\u001b[0m in \u001b[0;36m__str__\u001b[1;34m(self)\u001b[0m\n\u001b[0;32m     26\u001b[0m \u001b[1;33m\u001b[0m\u001b[0m\n\u001b[0;32m     27\u001b[0m     \u001b[1;32mdef\u001b[0m \u001b[0m__str__\u001b[0m \u001b[1;33m(\u001b[0m\u001b[0mself\u001b[0m\u001b[1;33m)\u001b[0m\u001b[1;33m:\u001b[0m\u001b[1;33m\u001b[0m\u001b[1;33m\u001b[0m\u001b[0m\n\u001b[1;32m---> 28\u001b[1;33m         \u001b[0ms\u001b[0m \u001b[1;33m=\u001b[0m \u001b[1;34m'{}{} x {}\\n'\u001b[0m\u001b[1;33m.\u001b[0m\u001b[0mformat\u001b[0m \u001b[1;33m(\u001b[0m\u001b[1;34m' '\u001b[0m \u001b[1;33m*\u001b[0m \u001b[1;33m(\u001b[0m\u001b[1;36m2\u001b[0m \u001b[1;33m*\u001b[0m \u001b[0mself\u001b[0m\u001b[1;33m.\u001b[0m\u001b[0mlevel\u001b[0m\u001b[1;33m)\u001b[0m\u001b[1;33m,\u001b[0m \u001b[0mself\u001b[0m\u001b[1;33m.\u001b[0m\u001b[0mdata\u001b[0m\u001b[1;33m)\u001b[0m\u001b[1;33m\u001b[0m\u001b[1;33m\u001b[0m\u001b[0m\n\u001b[0m\u001b[0;32m     29\u001b[0m         \u001b[1;32mfor\u001b[0m \u001b[0mchild\u001b[0m \u001b[1;32min\u001b[0m \u001b[0mself\u001b[0m\u001b[1;33m.\u001b[0m\u001b[0mchildren\u001b[0m\u001b[1;33m:\u001b[0m \u001b[0ms\u001b[0m \u001b[1;33m+=\u001b[0m \u001b[0mstr\u001b[0m \u001b[1;33m(\u001b[0m\u001b[0mchild\u001b[0m\u001b[1;33m)\u001b[0m\u001b[1;33m\u001b[0m\u001b[1;33m\u001b[0m\u001b[0m\n\u001b[0;32m     30\u001b[0m         \u001b[1;32mreturn\u001b[0m \u001b[0ms\u001b[0m\u001b[1;33m\u001b[0m\u001b[1;33m\u001b[0m\u001b[0m\n",
      "\u001b[1;31mIndexError\u001b[0m: Replacement index 2 out of range for positional args tuple"
     ]
    }
   ],
   "source": [
    "import random\n",
    "class Node:\n",
    "    def __init__ (self, data, parent = None):\n",
    "        #self.width = width\n",
    "        #self.height = height\n",
    "        self.parent = parent\n",
    "        self.children = []\n",
    "        self.data = data\n",
    "\n",
    "    @property\n",
    "    def level (self):\n",
    "        return 0 if not self.parent else 1 + self.parent.level\n",
    "\n",
    "    def split (self):\n",
    "        if self.children == []: return\n",
    "        numrow,numcol = self.data.shape\n",
    "        if numrow <= tau:\n",
    "            self.children = []\n",
    "        A1,A2 = partition(self.data)\n",
    "        self.children = [Node(A1, self),Node(A2, self)]\n",
    "        \n",
    "    def splitUntilLevel (self, maxLevel):\n",
    "        if maxLevel <= self.level: return\n",
    "        self.split ()\n",
    "        for child in self.children: child.splitUntilLevel (maxLevel)\n",
    "\n",
    "    def __str__ (self):\n",
    "        s = \"{} x {}\".format(self.data.size[0], self.data.size[1])\n",
    "        for child in self.children: s += str (child)\n",
    "        return s\n",
    "\n",
    "N = Node(B)\n",
    "N.splitUntilLevel (1)\n",
    "print (N)"
   ]
  },
  {
   "cell_type": "code",
   "execution_count": null,
   "metadata": {},
   "outputs": [],
   "source": []
  }
 ],
 "metadata": {
  "kernelspec": {
   "display_name": "Python 3",
   "language": "python",
   "name": "python3"
  },
  "language_info": {
   "codemirror_mode": {
    "name": "ipython",
    "version": 3
   },
   "file_extension": ".py",
   "mimetype": "text/x-python",
   "name": "python",
   "nbconvert_exporter": "python",
   "pygments_lexer": "ipython3",
   "version": "3.8.5"
  }
 },
 "nbformat": 4,
 "nbformat_minor": 4
}

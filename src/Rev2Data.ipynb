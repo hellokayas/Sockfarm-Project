{
 "cells": [
  {
   "cell_type": "code",
   "execution_count": 1,
   "metadata": {},
   "outputs": [],
   "source": [
    "import numpy as np\n",
    "import pandas as pd\n",
    "import seaborn as sns"
   ]
  },
  {
   "cell_type": "code",
   "execution_count": null,
   "metadata": {},
   "outputs": [],
   "source": [
    "alpha_network_data = pd.read_csv(\"alpha_network.csv\")\n",
    "alpha_network_data.columns=[\"src\", \"Dest\", \"Rating\", \"Timestamp\"]\n",
    "alpha_network_data = alpha_network_data[[\"src\", \"Dest\"]]\n",
    "alpha_network_data1 = alpha_network_data.astype(str).groupby(\"Dest\").agg(','.join).reset_index()\n",
    "alpha_network_data1"
   ]
  },
  {
   "cell_type": "code",
   "execution_count": null,
   "metadata": {},
   "outputs": [],
   "source": [
    "alpha_gt_data = pd.read_csv(\"alpha_gt.csv\")\n",
    "alpha_gt_data.columns = [\"ID\",\"Label\"]\n",
    "alpha_gt_data"
   ]
  },
  {
   "cell_type": "code",
   "execution_count": null,
   "metadata": {},
   "outputs": [],
   "source": [
    "amazon_network_data = pd.read_csv(\"amazon_network.csv\")\n",
    "amazon_network_data.columns=[\"src\", \"Dest\", \"Rating\", \"Timestamp\"]\n",
    "amazon_network_data = amazon_network_data[[\"src\", \"Dest\"]]\n",
    "amazon_network_data1 = amazon_network_data.astype(str).groupby(\"src\").agg(','.join).reset_index()\n",
    "amazon_network_data1"
   ]
  },
  {
   "cell_type": "code",
   "execution_count": null,
   "metadata": {},
   "outputs": [],
   "source": [
    "amazon_gt_data = pd.read_csv(\"amazon_gt.csv\")\n",
    "amazon_gt_data.columns = [\"ID\",\"Label\"]\n",
    "amazon_gt_data"
   ]
  },
  {
   "cell_type": "code",
   "execution_count": null,
   "metadata": {},
   "outputs": [],
   "source": [
    "epinions_network_data = pd.read_csv(\"epinions_network.csv\")\n",
    "epinions_network_data.columns=[\"src\", \"Dest\", \"Rating\", \"Timestamp\"]\n",
    "epinions_network_data = epinions_network_data[[\"src\", \"Dest\"]]\n",
    "epinions_network_data1 = epinions_network_data.astype(str).groupby(\"Dest\").agg(','.join).reset_index()\n",
    "epinions_network_data1"
   ]
  },
  {
   "cell_type": "code",
   "execution_count": null,
   "metadata": {},
   "outputs": [],
   "source": [
    "epinions_gt_data = pd.read_csv(\"epinions_gt.csv\")\n",
    "epinions_gt_data.columns = [\"ID\",\"Label\"]\n",
    "epinions_gt_data"
   ]
  },
  {
   "cell_type": "code",
   "execution_count": null,
   "metadata": {},
   "outputs": [],
   "source": [
    "otc_network_data = pd.read_csv(\"otc_network.csv\")\n",
    "otc_network_data.columns=[\"src\", \"Dest\", \"Rating\", \"Timestamp\"]\n",
    "otc_network_data = otc_network_data[[\"src\", \"Dest\"]]\n",
    "otc_network_data1 = otc_network_data.astype(str).groupby(\"Dest\").agg(','.join).reset_index()\n",
    "otc_network_data1"
   ]
  },
  {
   "cell_type": "code",
   "execution_count": null,
   "metadata": {},
   "outputs": [],
   "source": [
    "otc_gt_data = pd.read_csv(\"otc_gt.csv\")\n",
    "otc_gt_data.columns = [\"ID\",\"Label\"]\n",
    "otc_gt_data"
   ]
  },
  {
   "cell_type": "code",
   "execution_count": 29,
   "metadata": {},
   "outputs": [],
   "source": [
    "nw_df = pd.read_csv(\"../rev2data/amazon/amazon_network.csv\", header=None, names=['src', 'dest', 'rating', 'timestamp'], parse_dates=[3], infer_datetime_format=True)\n",
    "gt_df = pd.read_csv(\"../rev2data/amazon/amazon_gt.csv\", header=None, names=['id', 'label'])"
   ]
  },
  {
   "cell_type": "code",
   "execution_count": 30,
   "metadata": {},
   "outputs": [
    {
     "data": {
      "text/plain": [
       "<AxesSubplot:ylabel='Probability'>"
      ]
     },
     "execution_count": 30,
     "metadata": {},
     "output_type": "execute_result"
    },
    {
     "data": {
      "image/png": "[encoded data removed]",
      "text/plain": [
       "<Figure size 432x288 with 1 Axes>"
      ]
     },
     "metadata": {
      "needs_background": "light"
     },
     "output_type": "display_data"
    }
   ],
   "source": [
    "src_cnt = nw_df.groupby(\"src\").size()\n",
    "sns.histplot(src_cnt, stat=\"probability\", bins=50, kde=False)"
   ]
  },
  {
   "cell_type": "code",
   "execution_count": 31,
   "metadata": {},
   "outputs": [
    {
     "data": {
      "text/plain": [
       "<AxesSubplot:ylabel='Probability'>"
      ]
     },
     "execution_count": 31,
     "metadata": {},
     "output_type": "execute_result"
    },
    {
     "data": {
      "image/png": "[encoded data removed]",
      "text/plain": [
       "<Figure size 432x288 with 1 Axes>"
      ]
     },
     "metadata": {
      "needs_background": "light"
     },
     "output_type": "display_data"
    }
   ],
   "source": [
    "dest_cnt = nw_df.groupby(\"dest\").size()\n",
    "sns.histplot(dest_cnt, stat=\"probability\", bins=50, kde=False)"
   ]
  },
  {
   "cell_type": "code",
   "execution_count": 38,
   "metadata": {},
   "outputs": [
    {
     "name": "stdout",
     "output_type": "stream",
     "text": [
      "(41488, 4)\n"
     ]
    },
    {
     "data": {
      "text/plain": [
       "<AxesSubplot:ylabel='Probability'>"
      ]
     },
     "execution_count": 38,
     "metadata": {},
     "output_type": "execute_result"
    },
    {
     "data": {
      "image/png": "[encoded data removed]",
      "text/plain": [
       "<Figure size 432x288 with 1 Axes>"
      ]
     },
     "metadata": {
      "needs_background": "light"
     },
     "output_type": "display_data"
    }
   ],
   "source": [
    "nw_gt = nw_df[nw_df[\"src\"].isin(gt_df[\"id\"])]\n",
    "print(nw_gt.shape)\n",
    "\n",
    "src_cnt = nw_gt.groupby(\"src\").size()\n",
    "sns.histplot(src_cnt, stat=\"probability\", bins=50, kde=False)"
   ]
  },
  {
   "cell_type": "code",
   "execution_count": 39,
   "metadata": {},
   "outputs": [
    {
     "data": {
      "text/plain": [
       "<AxesSubplot:ylabel='Probability'>"
      ]
     },
     "execution_count": 39,
     "metadata": {},
     "output_type": "execute_result"
    },
    {
     "data": {
      "image/png": "[encoded data removed]",
      "text/plain": [
       "<Figure size 432x288 with 1 Axes>"
      ]
     },
     "metadata": {
      "needs_background": "light"
     },
     "output_type": "display_data"
    }
   ],
   "source": [
    "dest_cnt = nw_gt.groupby(\"dest\").size()\n",
    "sns.histplot(dest_cnt, stat=\"probability\", bins=50, kde=False)"
   ]
  }
 ],
 "metadata": {
  "kernelspec": {
   "display_name": "gcn",
   "language": "python",
   "name": "gcn"
  },
  "language_info": {
   "codemirror_mode": {
    "name": "ipython",
    "version": 3
   },
   "file_extension": ".py",
   "mimetype": "text/x-python",
   "name": "python",
   "nbconvert_exporter": "python",
   "pygments_lexer": "ipython3",
   "version": "3.8.5"
  }
 },
 "nbformat": 4,
 "nbformat_minor": 4
}

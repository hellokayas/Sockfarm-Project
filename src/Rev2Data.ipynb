{
 "cells": [
  {
   "cell_type": "code",
   "execution_count": 1,
   "metadata": {},
   "outputs": [],
   "source": [
    "import numpy as np\n",
    "import pandas as pd\n",
    "import seaborn as sns"
   ]
  },
  {
   "cell_type": "code",
   "execution_count": null,
   "metadata": {},
   "outputs": [],
   "source": [
    "alpha_network_data = pd.read_csv(\"alpha_network.csv\")\n",
    "alpha_network_data.columns=[\"src\", \"Dest\", \"Rating\", \"Timestamp\"]\n",
    "alpha_network_data = alpha_network_data[[\"src\", \"Dest\"]]\n",
    "alpha_network_data1 = alpha_network_data.astype(str).groupby(\"Dest\").agg(','.join).reset_index()\n",
    "alpha_network_data1"
   ]
  },
  {
   "cell_type": "code",
   "execution_count": null,
   "metadata": {},
   "outputs": [],
   "source": [
    "alpha_gt_data = pd.read_csv(\"alpha_gt.csv\")\n",
    "alpha_gt_data.columns = [\"ID\",\"Label\"]\n",
    "alpha_gt_data"
   ]
  },
  {
   "cell_type": "code",
   "execution_count": null,
   "metadata": {},
   "outputs": [],
   "source": [
    "amazon_network_data = pd.read_csv(\"amazon_network.csv\")\n",
    "amazon_network_data.columns=[\"src\", \"Dest\", \"Rating\", \"Timestamp\"]\n",
    "amazon_network_data = amazon_network_data[[\"src\", \"Dest\"]]\n",
    "amazon_network_data1 = amazon_network_data.astype(str).groupby(\"src\").agg(','.join).reset_index()\n",
    "amazon_network_data1"
   ]
  },
  {
   "cell_type": "code",
   "execution_count": null,
   "metadata": {},
   "outputs": [],
   "source": [
    "amazon_gt_data = pd.read_csv(\"amazon_gt.csv\")\n",
    "amazon_gt_data.columns = [\"ID\",\"Label\"]\n",
    "amazon_gt_data"
   ]
  },
  {
   "cell_type": "code",
   "execution_count": null,
   "metadata": {},
   "outputs": [],
   "source": [
    "epinions_network_data = pd.read_csv(\"epinions_network.csv\")\n",
    "epinions_network_data.columns=[\"src\", \"Dest\", \"Rating\", \"Timestamp\"]\n",
    "epinions_network_data = epinions_network_data[[\"src\", \"Dest\"]]\n",
    "epinions_network_data1 = epinions_network_data.astype(str).groupby(\"Dest\").agg(','.join).reset_index()\n",
    "epinions_network_data1"
   ]
  },
  {
   "cell_type": "code",
   "execution_count": null,
   "metadata": {},
   "outputs": [],
   "source": [
    "epinions_gt_data = pd.read_csv(\"epinions_gt.csv\")\n",
    "epinions_gt_data.columns = [\"ID\",\"Label\"]\n",
    "epinions_gt_data"
   ]
  },
  {
   "cell_type": "code",
   "execution_count": null,
   "metadata": {},
   "outputs": [],
   "source": [
    "otc_network_data = pd.read_csv(\"otc_network.csv\")\n",
    "otc_network_data.columns=[\"src\", \"Dest\", \"Rating\", \"Timestamp\"]\n",
    "otc_network_data = otc_network_data[[\"src\", \"Dest\"]]\n",
    "otc_network_data1 = otc_network_data.astype(str).groupby(\"Dest\").agg(','.join).reset_index()\n",
    "otc_network_data1"
   ]
  },
  {
   "cell_type": "code",
   "execution_count": null,
   "metadata": {},
   "outputs": [],
   "source": [
    "otc_gt_data = pd.read_csv(\"otc_gt.csv\")\n",
    "otc_gt_data.columns = [\"ID\",\"Label\"]\n",
    "otc_gt_data"
   ]
  },
  {
   "cell_type": "code",
   "execution_count": 2,
   "metadata": {},
   "outputs": [],
   "source": [
    "amazon_nw_df = pd.read_csv(\"amazon_network.csv\", header=None, names=['src', 'dest', 'rating', 'timestamp'], parse_dates=[3], infer_datetime_format=True)\n",
    "amazon_gt_df = pd.read_csv(\"amazon_gt.csv\", header=None, names=['id', 'label'])"
   ]
  },
  {
   "cell_type": "code",
   "execution_count": 20,
   "metadata": {},
   "outputs": [
    {
     "data": {
      "text/plain": [
       "<AxesSubplot:ylabel='Probability'>"
      ]
     },
     "execution_count": 20,
     "metadata": {},
     "output_type": "execute_result"
    },
    {
     "data": {
      "image/png": "[encoded data removed]",
      "text/plain": [
       "<Figure size 432x288 with 1 Axes>"
      ]
     },
     "metadata": {
      "needs_background": "light"
     },
     "output_type": "display_data"
    }
   ],
   "source": [
    "amazon_src_cnt = amazon_nw_df.groupby(\"src\").size()\n",
    "sns.histplot(amazon_src_cnt, stat=\"probability\", bins=50, kde=False)"
   ]
  },
  {
   "cell_type": "code",
   "execution_count": 4,
   "metadata": {},
   "outputs": [
    {
     "data": {
      "text/plain": [
       "<AxesSubplot:ylabel='Probability'>"
      ]
     },
     "execution_count": 4,
     "metadata": {},
     "output_type": "execute_result"
    },
    {
     "data": {
      "image/png": "[encoded data removed]",
      "text/plain": [
       "<Figure size 432x288 with 1 Axes>"
      ]
     },
     "metadata": {
      "needs_background": "light"
     },
     "output_type": "display_data"
    }
   ],
   "source": [
    "amazon_dest_cnt = amazon_nw_df.groupby(\"dest\").size()\n",
    "sns.histplot(amazon_dest_cnt, stat=\"probability\", bins=50, kde=False)"
   ]
  },
  {
   "cell_type": "code",
   "execution_count": 5,
   "metadata": {},
   "outputs": [
    {
     "name": "stdout",
     "output_type": "stream",
     "text": [
      "(41488, 4)\n"
     ]
    },
    {
     "data": {
      "text/plain": [
       "<AxesSubplot:ylabel='Probability'>"
      ]
     },
     "execution_count": 5,
     "metadata": {},
     "output_type": "execute_result"
    },
    {
     "data": {
      "image/png": "[encoded data removed]",
      "text/plain": [
       "<Figure size 432x288 with 1 Axes>"
      ]
     },
     "metadata": {
      "needs_background": "light"
     },
     "output_type": "display_data"
    }
   ],
   "source": [
    "amazon_nw_gt = amazon_nw_df[amazon_nw_df[\"src\"].isin(amazon_gt_df[\"id\"])]\n",
    "print(amazon_nw_gt.shape)\n",
    "\n",
    "amazon_src_cnt = amazon_nw_gt.groupby(\"src\").size()\n",
    "sns.histplot(amazon_src_cnt, stat=\"probability\", bins=50, kde=False)"
   ]
  },
  {
   "cell_type": "code",
   "execution_count": 6,
   "metadata": {},
   "outputs": [
    {
     "data": {
      "text/plain": [
       "<AxesSubplot:ylabel='Probability'>"
      ]
     },
     "execution_count": 6,
     "metadata": {},
     "output_type": "execute_result"
    },
    {
     "data": {
      "image/png": "[encoded data removed]",
      "text/plain": [
       "<Figure size 432x288 with 1 Axes>"
      ]
     },
     "metadata": {
      "needs_background": "light"
     },
     "output_type": "display_data"
    }
   ],
   "source": [
    "amazon_dest_cnt = amazon_nw_gt.groupby(\"dest\").size()\n",
    "sns.histplot(amazon_dest_cnt, stat=\"probability\", bins=50, kde=False)"
   ]
  },
  {
   "cell_type": "code",
   "execution_count": 7,
   "metadata": {},
   "outputs": [],
   "source": [
    "otc_nw_df = pd.read_csv(\"otc_network.csv\", header=None, names=['src', 'dest', 'rating', 'timestamp'], parse_dates=[3], infer_datetime_format=True)\n",
    "otc_gt_df = pd.read_csv(\"otc_gt.csv\", header=None, names=['id', 'label'])"
   ]
  },
  {
   "cell_type": "code",
   "execution_count": 8,
   "metadata": {},
   "outputs": [
    {
     "data": {
      "text/plain": [
       "<AxesSubplot:ylabel='Probability'>"
      ]
     },
     "execution_count": 8,
     "metadata": {},
     "output_type": "execute_result"
    },
    {
     "data": {
      "image/png": "[encoded data removed]",
      "text/plain": [
       "<Figure size 432x288 with 1 Axes>"
      ]
     },
     "metadata": {
      "needs_background": "light"
     },
     "output_type": "display_data"
    }
   ],
   "source": [
    "otc_src_cnt = otc_nw_df.groupby(\"src\").size()\n",
    "sns.histplot(otc_src_cnt, stat=\"probability\", bins=50, kde=False)"
   ]
  },
  {
   "cell_type": "code",
   "execution_count": 9,
   "metadata": {},
   "outputs": [
    {
     "data": {
      "text/plain": [
       "<AxesSubplot:ylabel='Probability'>"
      ]
     },
     "execution_count": 9,
     "metadata": {},
     "output_type": "execute_result"
    },
    {
     "data": {
      "image/png": "[encoded data removed]",
      "text/plain": [
       "<Figure size 432x288 with 1 Axes>"
      ]
     },
     "metadata": {
      "needs_background": "light"
     },
     "output_type": "display_data"
    }
   ],
   "source": [
    "otc_dest_cnt = otc_nw_df.groupby(\"dest\").size()\n",
    "sns.histplot(otc_dest_cnt, stat=\"probability\", bins=50, kde=False)"
   ]
  },
  {
   "cell_type": "code",
   "execution_count": 10,
   "metadata": {},
   "outputs": [
    {
     "name": "stdout",
     "output_type": "stream",
     "text": [
      "(8372, 4)\n"
     ]
    },
    {
     "data": {
      "text/plain": [
       "<AxesSubplot:ylabel='Probability'>"
      ]
     },
     "execution_count": 10,
     "metadata": {},
     "output_type": "execute_result"
    },
    {
     "data": {
      "image/png": "[encoded data removed]",
      "text/plain": [
       "<Figure size 432x288 with 1 Axes>"
      ]
     },
     "metadata": {
      "needs_background": "light"
     },
     "output_type": "display_data"
    }
   ],
   "source": [
    "otc_nw_gt = otc_nw_df[otc_nw_df[\"src\"].isin(otc_gt_df[\"id\"])]\n",
    "print(otc_nw_gt.shape)\n",
    "\n",
    "otc_src_cnt = otc_nw_gt.groupby(\"src\").size()\n",
    "sns.histplot(otc_src_cnt, stat=\"probability\", bins=50, kde=False)"
   ]
  },
  {
   "cell_type": "code",
   "execution_count": 11,
   "metadata": {},
   "outputs": [
    {
     "data": {
      "text/plain": [
       "<AxesSubplot:ylabel='Probability'>"
      ]
     },
     "execution_count": 11,
     "metadata": {},
     "output_type": "execute_result"
    },
    {
     "data": {
      "image/png": "[encoded data removed]",
      "text/plain": [
       "<Figure size 432x288 with 1 Axes>"
      ]
     },
     "metadata": {
      "needs_background": "light"
     },
     "output_type": "display_data"
    }
   ],
   "source": [
    "otc_dest_cnt = otc_nw_gt.groupby(\"dest\").size()\n",
    "sns.histplot(otc_dest_cnt, stat=\"probability\", bins=50, kde=False)"
   ]
  },
  {
   "cell_type": "code",
   "execution_count": 12,
   "metadata": {},
   "outputs": [],
   "source": [
    "alpha_nw_df = pd.read_csv(\"alpha_network.csv\", header=None, names=['src', 'dest', 'rating', 'timestamp'], parse_dates=[3], infer_datetime_format=True)\n",
    "alpha_gt_df = pd.read_csv(\"alpha_gt.csv\", header=None, names=['id', 'label'])"
   ]
  },
  {
   "cell_type": "code",
   "execution_count": 13,
   "metadata": {},
   "outputs": [
    {
     "data": {
      "text/plain": [
       "<AxesSubplot:ylabel='Probability'>"
      ]
     },
     "execution_count": 13,
     "metadata": {},
     "output_type": "execute_result"
    },
    {
     "data": {
      "image/png": "[encoded data removed]",
      "text/plain": [
       "<Figure size 432x288 with 1 Axes>"
      ]
     },
     "metadata": {
      "needs_background": "light"
     },
     "output_type": "display_data"
    }
   ],
   "source": [
    "alpha_src_cnt = alpha_nw_df.groupby(\"src\").size()\n",
    "sns.histplot(alpha_src_cnt, stat=\"probability\", bins=50, kde=False)"
   ]
  },
  {
   "cell_type": "code",
   "execution_count": 14,
   "metadata": {},
   "outputs": [
    {
     "data": {
      "text/plain": [
       "<AxesSubplot:ylabel='Probability'>"
      ]
     },
     "execution_count": 14,
     "metadata": {},
     "output_type": "execute_result"
    },
    {
     "data": {
      "image/png": "[encoded data removed]",
      "text/plain": [
       "<Figure size 432x288 with 1 Axes>"
      ]
     },
     "metadata": {
      "needs_background": "light"
     },
     "output_type": "display_data"
    }
   ],
   "source": [
    "alpha_dest_cnt = alpha_nw_df.groupby(\"dest\").size()\n",
    "sns.histplot(alpha_dest_cnt, stat=\"probability\", bins=50, kde=False)"
   ]
  },
  {
   "cell_type": "code",
   "execution_count": 15,
   "metadata": {},
   "outputs": [
    {
     "name": "stdout",
     "output_type": "stream",
     "text": [
      "(7955, 4)\n"
     ]
    },
    {
     "data": {
      "text/plain": [
       "<AxesSubplot:ylabel='Probability'>"
      ]
     },
     "execution_count": 15,
     "metadata": {},
     "output_type": "execute_result"
    },
    {
     "data": {
      "image/png": "[encoded data removed]",
      "text/plain": [
       "<Figure size 432x288 with 1 Axes>"
      ]
     },
     "metadata": {
      "needs_background": "light"
     },
     "output_type": "display_data"
    }
   ],
   "source": [
    "alpha_nw_gt = alpha_nw_df[alpha_nw_df[\"src\"].isin(alpha_gt_df[\"id\"])]\n",
    "print(alpha_nw_gt.shape)\n",
    "\n",
    "alpha_src_cnt = alpha_nw_gt.groupby(\"src\").size()\n",
    "sns.histplot(alpha_src_cnt, stat=\"probability\", bins=50, kde=False)"
   ]
  },
  {
   "cell_type": "code",
   "execution_count": 16,
   "metadata": {},
   "outputs": [
    {
     "data": {
      "text/plain": [
       "<AxesSubplot:ylabel='Probability'>"
      ]
     },
     "execution_count": 16,
     "metadata": {},
     "output_type": "execute_result"
    },
    {
     "data": {
      "image/png": "[encoded data removed]",
      "text/plain": [
       "<Figure size 432x288 with 1 Axes>"
      ]
     },
     "metadata": {
      "needs_background": "light"
     },
     "output_type": "display_data"
    }
   ],
   "source": [
    "alpha_dest_cnt = alpha_nw_gt.groupby(\"dest\").size()\n",
    "sns.histplot(alpha_dest_cnt, stat=\"probability\", bins=50, kde=False)"
   ]
  },
  {
   "cell_type": "code",
   "execution_count": 21,
   "metadata": {},
   "outputs": [],
   "source": [
    "epinions_nw_df = pd.read_csv(\"epinions_network.csv\", header=None, names=['src', 'dest', 'rating', 'timestamp'], parse_dates=[3], infer_datetime_format=True)\n",
    "epinions_gt_df = pd.read_csv(\"epinions_gt.csv\", header=None, names=['id', 'label'])"
   ]
  },
  {
   "cell_type": "code",
   "execution_count": 22,
   "metadata": {},
   "outputs": [
    {
     "data": {
      "text/plain": [
       "<AxesSubplot:ylabel='Probability'>"
      ]
     },
     "execution_count": 22,
     "metadata": {},
     "output_type": "execute_result"
    },
    {
     "data": {
      "image/png": "[encoded data removed]",
      "text/plain": [
       "<Figure size 432x288 with 1 Axes>"
      ]
     },
     "metadata": {
      "needs_background": "light"
     },
     "output_type": "display_data"
    }
   ],
   "source": [
    "epinions_src_cnt = epinions_nw_df.groupby(\"src\").size()\n",
    "sns.histplot(epinions_src_cnt, stat=\"probability\", bins=50, kde=False)"
   ]
  },
  {
   "cell_type": "code",
   "execution_count": 23,
   "metadata": {},
   "outputs": [
    {
     "data": {
      "text/plain": [
       "<AxesSubplot:ylabel='Probability'>"
      ]
     },
     "execution_count": 23,
     "metadata": {},
     "output_type": "execute_result"
    },
    {
     "data": {
      "image/png": "[encoded data removed]",
      "text/plain": [
       "<Figure size 432x288 with 1 Axes>"
      ]
     },
     "metadata": {
      "needs_background": "light"
     },
     "output_type": "display_data"
    }
   ],
   "source": [
    "epinions_dest_cnt = epinions_nw_df.groupby(\"dest\").size()\n",
    "sns.histplot(epinions_dest_cnt, stat=\"probability\", bins=50, kde=False)"
   ]
  },
  {
   "cell_type": "code",
   "execution_count": 24,
   "metadata": {},
   "outputs": [
    {
     "name": "stdout",
     "output_type": "stream",
     "text": [
      "(12107766, 4)\n"
     ]
    },
    {
     "data": {
      "text/plain": [
       "<AxesSubplot:ylabel='Probability'>"
      ]
     },
     "execution_count": 24,
     "metadata": {},
     "output_type": "execute_result"
    },
    {
     "data": {
      "image/png": "[encoded data removed]",
      "text/plain": [
       "<Figure size 432x288 with 1 Axes>"
      ]
     },
     "metadata": {
      "needs_background": "light"
     },
     "output_type": "display_data"
    }
   ],
   "source": [
    "epinions_nw_gt = epinions_nw_df[epinions_nw_df[\"src\"].isin(epinions_gt_df[\"id\"])]\n",
    "print(epinions_nw_gt.shape)\n",
    "\n",
    "epinions_src_cnt = epinions_nw_gt.groupby(\"src\").size()\n",
    "sns.histplot(epinions_src_cnt, stat=\"probability\", bins=50, kde=False)"
   ]
  },
  {
   "cell_type": "code",
   "execution_count": 25,
   "metadata": {},
   "outputs": [
    {
     "data": {
      "text/plain": [
       "<AxesSubplot:ylabel='Probability'>"
      ]
     },
     "execution_count": 25,
     "metadata": {},
     "output_type": "execute_result"
    },
    {
     "data": {
      "image/png": "[encoded data removed]",
      "text/plain": [
       "<Figure size 432x288 with 1 Axes>"
      ]
     },
     "metadata": {
      "needs_background": "light"
     },
     "output_type": "display_data"
    }
   ],
   "source": [
    "epinions_dest_cnt = epinions_nw_gt.groupby(\"dest\").size()\n",
    "sns.histplot(epinions_dest_cnt, stat=\"probability\", bins=50, kde=False)"
   ]
  },
  {
   "cell_type": "code",
   "execution_count": null,
   "metadata": {},
   "outputs": [],
   "source": []
  }
 ],
 "metadata": {
  "kernelspec": {
   "display_name": "Python 3",
   "language": "python",
   "name": "python3"
  },
  "language_info": {
   "codemirror_mode": {
    "name": "ipython",
    "version": 3
   },
   "file_extension": ".py",
   "mimetype": "text/x-python",
   "name": "python",
   "nbconvert_exporter": "python",
   "pygments_lexer": "ipython3",
   "version": "3.8.5"
  }
 },
 "nbformat": 4,
 "nbformat_minor": 4
}

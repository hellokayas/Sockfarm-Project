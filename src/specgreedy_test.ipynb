{
 "cells": [
  {
   "cell_type": "code",
   "execution_count": 4,
   "id": "portuguese-frame",
   "metadata": {},
   "outputs": [],
   "source": [
    "import pickle\n",
    "from pathlib import Path\n",
    "\n",
    "import numpy as np\n",
    "import pandas as pd\n",
    "import multiprocessing as mp\n",
    "\n",
    "from utils import load_data, split_data_by_time, build_nx, normalize_dict\n",
    "from detecters import do_fraudar, do_rev2, do_rsd\n",
    "\n",
    "import cvxpy\n",
    "import networkx as nx"
   ]
  },
  {
   "cell_type": "code",
   "execution_count": 32,
   "id": "starting-browser",
   "metadata": {},
   "outputs": [],
   "source": [
    "data_nw_df, data_gt_df = load_data(data_name=\"alpha\")\n",
    "G = build_nx(data_nw_df)\n",
    "G_nodes = list(G.nodes)"
   ]
  },
  {
   "cell_type": "code",
   "execution_count": 35,
   "id": "naval-declaration",
   "metadata": {},
   "outputs": [],
   "source": [
    "sm = nx.to_scipy_sparse_matrix(G, nodelist = G_nodes)"
   ]
  },
  {
   "cell_type": "code",
   "execution_count": 36,
   "id": "promotional-zimbabwe",
   "metadata": {},
   "outputs": [
    {
     "name": "stdout",
     "output_type": "stream",
     "text": [
      "number of edge 24186 == 24186\n"
     ]
    }
   ],
   "source": [
    "es = sm.sum()\n",
    "print(f\"number of edge {es} == {len(G.edges)}\")"
   ]
  },
  {
   "cell_type": "code",
   "execution_count": 37,
   "id": "black-layer",
   "metadata": {},
   "outputs": [
    {
     "data": {
      "text/plain": [
       "(7040, 7040)"
      ]
     },
     "execution_count": 37,
     "metadata": {},
     "output_type": "execute_result"
    }
   ],
   "source": [
    "sm.shape"
   ]
  },
  {
   "cell_type": "code",
   "execution_count": 38,
   "id": "early-division",
   "metadata": {},
   "outputs": [],
   "source": [
    "from specgreedy.greedy import *"
   ]
  },
  {
   "cell_type": "code",
   "execution_count": 39,
   "id": "blessed-holder",
   "metadata": {},
   "outputs": [
    {
     "name": "stdout",
     "output_type": "stream",
     "text": [
      "graph: #node: (7040, 7040),  #edge: 24186\n",
      "matrix max: 1, min: 0, shape: (7040, 7040)\n",
      "\n"
     ]
    }
   ],
   "source": [
    "w_g = \"even\"\n",
    "topk = 10\n",
    "#scale = args.scale\n",
    "alpha = 1.0\n",
    "\n",
    "greedy_func = None\n",
    "\n",
    "if w_g == 'even':\n",
    "    greedy_func = avgdeg_even\n",
    "elif w_g == 'sqrt':\n",
    "    greedy_func = avgdeg_sqrt\n",
    "else:\n",
    "    greedy_func = avgdeg_log\n",
    "\n",
    "# t0 = time.time()\n",
    "\n",
    "if not w_g:\n",
    "    print(\"max edge weight: {}\".format(sm.max()))\n",
    "    sm = sm > 0\n",
    "    sm = sm.astype('int')\n",
    "es = sm.sum()\n",
    "ms, ns = sm.shape\n",
    "# print(\"load graph time @ {}s\".format(time.time() - t0))\n",
    "print(\"graph: #node: {},  #edge: {}\".format((ms, ns), es))\n",
    "print(\"matrix max: {}, min: {}, shape: {}\\n\".format(sm.max(), sm.min(), sm.shape))"
   ]
  },
  {
   "cell_type": "code",
   "execution_count": 40,
   "id": "introductory-musician",
   "metadata": {},
   "outputs": [
    {
     "name": "stdout",
     "output_type": "stream",
     "text": [
      "\n",
      "current ks: 3\n",
      "lambdas: [42.35891874 23.69143501 21.83563143]\n",
      "k_cur: 0 size: (136, 133), density: 14.059479553903346\n",
      "+++=== svd tops shape (candidates size): (434, 472)\n",
      "+++=== size: (136, 133), score: 14.059479553903346\n",
      "\n",
      "k_cur = 1,  optimal density: 14.059479553903346, compare: 23.6914350087886\n",
      "\n",
      "optimal k: 2, density: 14.059479553903346\n"
     ]
    }
   ],
   "source": [
    "opt_k = -1\n",
    "opt_density = 0.0\n",
    "orgnds, cans = None, None\n",
    "fin_pms, fin_pns = 0, 0\n",
    "\n",
    "k = 0\n",
    "decom_n = 0\n",
    "\n",
    "start = 3\n",
    "step = 3\n",
    "isbreak = False\n",
    "# t1 = time.time()\n",
    "while k < topk:\n",
    "    print(\"\\ncurrent ks: {}\".format(start + decom_n * step))\n",
    "    U, S, V = linalg.svds(sm.asfptype(), k=start + decom_n * step, which='LM', tol=1e-4)\n",
    "    U, S, V = U[:, ::-1], S[::-1], V.T[:, ::-1]\n",
    "    print(\"lambdas: {}\".format(S))\n",
    "    kth  = k\n",
    "    while kth < start + decom_n * step - 1 and kth < topk:\n",
    "        if abs(max(U[:, kth])) < abs(min(U[:, kth])):\n",
    "            U[:, kth] *= -1\n",
    "        if abs(max(V[:, kth])) < abs(min(V[:, kth])):\n",
    "            V[:, kth] *= -1\n",
    "        row_cans = list(np.where(U[:, kth] >= 1.0 / np.sqrt(ms))[0])\n",
    "        col_cans = list(np.where(V[:, kth] >= 1.0 / np.sqrt(ns))[0])\n",
    "        if len(row_cans) <= 1 or len(col_cans) <= 1:\n",
    "            print(\"SKIP_ERROR: candidates size: {}\".format((len(row_cans), len(col_cans))))\n",
    "            kth += 1\n",
    "            k += 1\n",
    "            continue\n",
    "        sm_part = sm[row_cans, :][:, col_cans]\n",
    "        nds_gs, avgsc_gs = greedy_func(sm_part, alpha)\n",
    "        print(\"k_cur: {} size: {}, density: {}\".format(kth, (len(nds_gs[0]), len(nds_gs[1])), \n",
    "                                                              avgsc_gs))\n",
    "        kth += 1\n",
    "        k += 1\n",
    "        if avgsc_gs > opt_density:\n",
    "            opt_k, opt_density = kth + 1, avgsc_gs\n",
    "            (sm_pms, sm_pns) = sm_part.shape\n",
    "            fin_pms, fin_pns = len(nds_gs[0]), len(nds_gs[1])\n",
    "            print(\"+++=== svd tops shape (candidates size): {}\".format((sm_pms, sm_pns)))\n",
    "            print(\"+++=== size: {}, score: {}\\n\".format((fin_pms, fin_pns), avgsc_gs))\n",
    "\n",
    "            row_idx = dict(zip(range(sm_pms), sorted(row_cans)))\n",
    "            col_idx = dict(zip(range(sm_pns), sorted(col_cans)))\n",
    "            org_rownds = [row_idx[id] for id in nds_gs[0]]\n",
    "            org_calnds = [col_idx[id] for id in nds_gs[1]]\n",
    "            cans = [row_cans, col_cans]\n",
    "            orgnds = [org_rownds, org_calnds]\n",
    "\n",
    "        if 2.0 * opt_density >= S[kth]: # kth < topk and\n",
    "            print(\"k_cur = {},  optimal density: {}, compare: {}\".format(kth, opt_density, S[kth]))\n",
    "            isbreak = True\n",
    "            break\n",
    "    if isbreak:\n",
    "        break\n",
    "    decom_n += 1\n",
    "\n",
    "print(\"\\noptimal k: {}, density: {}\".format(opt_k, opt_density))    \n",
    "# print(\"total time @ {}s\".format(time.time() - t1))"
   ]
  },
  {
   "cell_type": "code",
   "execution_count": 49,
   "id": "marked-agent",
   "metadata": {},
   "outputs": [
    {
     "data": {
      "text/plain": [
       "3875"
      ]
     },
     "execution_count": 49,
     "metadata": {},
     "output_type": "execute_result"
    }
   ],
   "source": [
    "max(cans[0])"
   ]
  },
  {
   "cell_type": "code",
   "execution_count": 45,
   "id": "lucky-crazy",
   "metadata": {},
   "outputs": [],
   "source": [
    "us = [G_nodes[i] for i in orgnds[0]]\n",
    "up = [G_nodes[i] for i in orgnds[1]]"
   ]
  },
  {
   "cell_type": "code",
   "execution_count": 46,
   "id": "modular-alpha",
   "metadata": {},
   "outputs": [
    {
     "data": {
      "text/plain": [
       "['p1',\n",
       " 'p11',\n",
       " 'p35',\n",
       " 'p44',\n",
       " 'p10',\n",
       " 'p89',\n",
       " 'p20',\n",
       " 'p87',\n",
       " 'p142',\n",
       " 'p156',\n",
       " 'p9',\n",
       " 'p22',\n",
       " 'p15',\n",
       " 'p255',\n",
       " 'p4',\n",
       " 'p113',\n",
       " 'p249',\n",
       " 'p96',\n",
       " 'p118',\n",
       " 'p146',\n",
       " 'p154',\n",
       " 'p158',\n",
       " 'p115',\n",
       " 'p174',\n",
       " 'p124',\n",
       " 'p95',\n",
       " 'p116',\n",
       " 'p491',\n",
       " 'p67',\n",
       " 'p29',\n",
       " 'p123',\n",
       " 'p117',\n",
       " 'p7603',\n",
       " 'p75',\n",
       " 'p72',\n",
       " 'p90',\n",
       " 'p155',\n",
       " 'p42',\n",
       " 'p2',\n",
       " 'p37',\n",
       " 'p40',\n",
       " 'p185',\n",
       " 'p188',\n",
       " 'p31',\n",
       " 'p8',\n",
       " 'p47',\n",
       " 'p17',\n",
       " 'p145',\n",
       " 'p107',\n",
       " 'p24',\n",
       " 'p7',\n",
       " 'p66',\n",
       " 'p21',\n",
       " 'p14',\n",
       " 'p13',\n",
       " 'p19',\n",
       " 'p51',\n",
       " 'p77',\n",
       " 'p133',\n",
       " 'p70',\n",
       " 'p211',\n",
       " 'p272',\n",
       " 'p140',\n",
       " 'p106',\n",
       " 'p43',\n",
       " 'p5',\n",
       " 'p111',\n",
       " 'p16',\n",
       " 'p5342',\n",
       " 'p85',\n",
       " 'p3',\n",
       " 'p219',\n",
       " 'p93',\n",
       " 'p25',\n",
       " 'p52',\n",
       " 'p97',\n",
       " 'p83',\n",
       " 'p39',\n",
       " 'p65',\n",
       " 'p7552',\n",
       " 'p798',\n",
       " 'p92',\n",
       " 'p6',\n",
       " 'p207',\n",
       " 'p103',\n",
       " 'p34',\n",
       " 'p56',\n",
       " 'p120',\n",
       " 'p32',\n",
       " 'p105',\n",
       " 'p197',\n",
       " 'p36',\n",
       " 'p30',\n",
       " 'p136',\n",
       " 'p7595',\n",
       " 'p88',\n",
       " 'p163',\n",
       " 'p244',\n",
       " 'p295',\n",
       " 'p12',\n",
       " 'p203',\n",
       " 'p288',\n",
       " 'p49',\n",
       " 'p2336',\n",
       " 'p205',\n",
       " 'p27',\n",
       " 'p135',\n",
       " 'p173',\n",
       " 'p125',\n",
       " 'p266',\n",
       " 'p100',\n",
       " 'p53',\n",
       " 'p62',\n",
       " 'p172',\n",
       " 'p7604',\n",
       " 'p159',\n",
       " 'p177',\n",
       " 'p26',\n",
       " 'p58',\n",
       " 'p122',\n",
       " 'p82',\n",
       " 'p280',\n",
       " 'p33',\n",
       " 'p41',\n",
       " 'p7565',\n",
       " 'p110',\n",
       " 'p166',\n",
       " 'p487',\n",
       " 'p78',\n",
       " 'p277',\n",
       " 'p73',\n",
       " 'p69',\n",
       " 'p48']"
      ]
     },
     "execution_count": 46,
     "metadata": {},
     "output_type": "execute_result"
    }
   ],
   "source": [
    "up"
   ]
  }
 ],
 "metadata": {
  "kernelspec": {
   "display_name": "dgl",
   "language": "python",
   "name": "dgl"
  },
  "language_info": {
   "codemirror_mode": {
    "name": "ipython",
    "version": 3
   },
   "file_extension": ".py",
   "mimetype": "text/x-python",
   "name": "python",
   "nbconvert_exporter": "python",
   "pygments_lexer": "ipython3",
   "version": "3.8.5"
  }
 },
 "nbformat": 4,
 "nbformat_minor": 5
}

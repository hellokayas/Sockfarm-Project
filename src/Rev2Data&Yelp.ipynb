{
 "cells": [
  {
   "cell_type": "code",
   "execution_count": 1,
   "metadata": {},
   "outputs": [],
   "source": [
    "import numpy as np\n",
    "import pandas as pd\n",
    "import seaborn as sns"
   ]
  },
  {
   "cell_type": "code",
   "execution_count": 5,
   "metadata": {},
   "outputs": [
    {
     "data": {
      "text/html": [
       "<div>\n",
       "<style scoped>\n",
       "    .dataframe tbody tr th:only-of-type {\n",
       "        vertical-align: middle;\n",
       "    }\n",
       "\n",
       "    .dataframe tbody tr th {\n",
       "        vertical-align: top;\n",
       "    }\n",
       "\n",
       "    .dataframe thead th {\n",
       "        text-align: right;\n",
       "    }\n",
       "</style>\n",
       "<table border=\"1\" class=\"dataframe\">\n",
       "  <thead>\n",
       "    <tr style=\"text-align: right;\">\n",
       "      <th></th>\n",
       "      <th>src</th>\n",
       "      <th>Dest</th>\n",
       "      <th>Rating</th>\n",
       "      <th>Timestamp</th>\n",
       "    </tr>\n",
       "  </thead>\n",
       "  <tbody>\n",
       "    <tr>\n",
       "      <th>1275</th>\n",
       "      <td>2</td>\n",
       "      <td>402</td>\n",
       "      <td>1</td>\n",
       "      <td>1289192400</td>\n",
       "    </tr>\n",
       "    <tr>\n",
       "      <th>4003</th>\n",
       "      <td>10</td>\n",
       "      <td>970</td>\n",
       "      <td>8</td>\n",
       "      <td>1289192400</td>\n",
       "    </tr>\n",
       "    <tr>\n",
       "      <th>4004</th>\n",
       "      <td>10</td>\n",
       "      <td>271</td>\n",
       "      <td>8</td>\n",
       "      <td>1289192400</td>\n",
       "    </tr>\n",
       "    <tr>\n",
       "      <th>10468</th>\n",
       "      <td>113</td>\n",
       "      <td>54</td>\n",
       "      <td>4</td>\n",
       "      <td>1289192400</td>\n",
       "    </tr>\n",
       "  </tbody>\n",
       "</table>\n",
       "</div>"
      ],
      "text/plain": [
       "       src  Dest  Rating   Timestamp\n",
       "1275     2   402       1  1289192400\n",
       "4003    10   970       8  1289192400\n",
       "4004    10   271       8  1289192400\n",
       "10468  113    54       4  1289192400"
      ]
     },
     "execution_count": 5,
     "metadata": {},
     "output_type": "execute_result"
    }
   ],
   "source": [
    "alpha_network_data = pd.read_csv(\"alpha_network.csv\")\n",
    "alpha_network_data.columns=[\"src\", \"Dest\", \"Rating\", \"Timestamp\"]\n",
    "#alpha_network_data = alpha_network_data[[\"src\", \"Dest\"]]\n",
    "#alpha_network_data1 = alpha_network_data.astype(str).groupby(\"Dest\").agg(','.join).reset_index()\n",
    "#alpha_network_data\n",
    "alpha_network_data[alpha_network_data[\"Timestamp\"]==alpha_network_data[\"Timestamp\"].min()]"
   ]
  },
  {
   "cell_type": "code",
   "execution_count": 6,
   "metadata": {},
   "outputs": [
    {
     "data": {
      "text/html": [
       "<div>\n",
       "<style scoped>\n",
       "    .dataframe tbody tr th:only-of-type {\n",
       "        vertical-align: middle;\n",
       "    }\n",
       "\n",
       "    .dataframe tbody tr th {\n",
       "        vertical-align: top;\n",
       "    }\n",
       "\n",
       "    .dataframe thead th {\n",
       "        text-align: right;\n",
       "    }\n",
       "</style>\n",
       "<table border=\"1\" class=\"dataframe\">\n",
       "  <thead>\n",
       "    <tr style=\"text-align: right;\">\n",
       "      <th></th>\n",
       "      <th>src</th>\n",
       "      <th>Dest</th>\n",
       "      <th>Rating</th>\n",
       "      <th>Timestamp</th>\n",
       "    </tr>\n",
       "  </thead>\n",
       "  <tbody>\n",
       "    <tr>\n",
       "      <th>5381</th>\n",
       "      <td>15</td>\n",
       "      <td>3451</td>\n",
       "      <td>1</td>\n",
       "      <td>1453438800</td>\n",
       "    </tr>\n",
       "    <tr>\n",
       "      <th>13593</th>\n",
       "      <td>3451</td>\n",
       "      <td>98</td>\n",
       "      <td>5</td>\n",
       "      <td>1453438800</td>\n",
       "    </tr>\n",
       "  </tbody>\n",
       "</table>\n",
       "</div>"
      ],
      "text/plain": [
       "        src  Dest  Rating   Timestamp\n",
       "5381     15  3451       1  1453438800\n",
       "13593  3451    98       5  1453438800"
      ]
     },
     "execution_count": 6,
     "metadata": {},
     "output_type": "execute_result"
    }
   ],
   "source": [
    "alpha_gt_data = pd.read_csv(\"alpha_gt.csv\")\n",
    "alpha_gt_data.columns = [\"ID\",\"Label\"]\n",
    "#alpha_gt_data\n",
    "\n",
    "alpha_network_data = pd.read_csv(\"alpha_network.csv\")\n",
    "alpha_network_data.columns=[\"src\", \"Dest\", \"Rating\", \"Timestamp\"]\n",
    "#alpha_network_data = alpha_network_data[[\"src\", \"Dest\"]]\n",
    "#alpha_network_data1 = alpha_network_data.astype(str).groupby(\"Dest\").agg(','.join).reset_index()\n",
    "#alpha_network_data\n",
    "alpha_network_data[alpha_network_data[\"Timestamp\"]==alpha_network_data[\"Timestamp\"].max()]"
   ]
  },
  {
   "cell_type": "code",
   "execution_count": 18,
   "metadata": {},
   "outputs": [
    {
     "data": {
      "text/html": [
       "<div>\n",
       "<style scoped>\n",
       "    .dataframe tbody tr th:only-of-type {\n",
       "        vertical-align: middle;\n",
       "    }\n",
       "\n",
       "    .dataframe tbody tr th {\n",
       "        vertical-align: top;\n",
       "    }\n",
       "\n",
       "    .dataframe thead th {\n",
       "        text-align: right;\n",
       "    }\n",
       "</style>\n",
       "<table border=\"1\" class=\"dataframe\">\n",
       "  <thead>\n",
       "    <tr style=\"text-align: right;\">\n",
       "      <th></th>\n",
       "      <th>src</th>\n",
       "      <th>Dest</th>\n",
       "      <th>Rating</th>\n",
       "      <th>Timestamp</th>\n",
       "    </tr>\n",
       "  </thead>\n",
       "  <tbody>\n",
       "    <tr>\n",
       "      <th>5381</th>\n",
       "      <td>15</td>\n",
       "      <td>3451</td>\n",
       "      <td>1</td>\n",
       "      <td>1453438800</td>\n",
       "    </tr>\n",
       "  </tbody>\n",
       "</table>\n",
       "</div>"
      ],
      "text/plain": [
       "      src  Dest  Rating   Timestamp\n",
       "5381   15  3451       1  1453438800"
      ]
     },
     "execution_count": 18,
     "metadata": {},
     "output_type": "execute_result"
    }
   ],
   "source": [
    "alpha_network_gt = alpha_network_data[alpha_network_data[\"src\"].isin(alpha_gt_data[\"ID\"])]\n",
    "#alpha_network_gt\n",
    "alpha_network_gt[alpha_network_gt[\"Timestamp\"]==alpha_network_gt[\"Timestamp\"].max()]"
   ]
  },
  {
   "cell_type": "code",
   "execution_count": 19,
   "metadata": {},
   "outputs": [
    {
     "data": {
      "text/html": [
       "<div>\n",
       "<style scoped>\n",
       "    .dataframe tbody tr th:only-of-type {\n",
       "        vertical-align: middle;\n",
       "    }\n",
       "\n",
       "    .dataframe tbody tr th {\n",
       "        vertical-align: top;\n",
       "    }\n",
       "\n",
       "    .dataframe thead th {\n",
       "        text-align: right;\n",
       "    }\n",
       "</style>\n",
       "<table border=\"1\" class=\"dataframe\">\n",
       "  <thead>\n",
       "    <tr style=\"text-align: right;\">\n",
       "      <th></th>\n",
       "      <th>src</th>\n",
       "      <th>Dest</th>\n",
       "      <th>Rating</th>\n",
       "      <th>Timestamp</th>\n",
       "    </tr>\n",
       "  </thead>\n",
       "  <tbody>\n",
       "    <tr>\n",
       "      <th>1275</th>\n",
       "      <td>2</td>\n",
       "      <td>402</td>\n",
       "      <td>1</td>\n",
       "      <td>1289192400</td>\n",
       "    </tr>\n",
       "    <tr>\n",
       "      <th>4003</th>\n",
       "      <td>10</td>\n",
       "      <td>970</td>\n",
       "      <td>8</td>\n",
       "      <td>1289192400</td>\n",
       "    </tr>\n",
       "    <tr>\n",
       "      <th>4004</th>\n",
       "      <td>10</td>\n",
       "      <td>271</td>\n",
       "      <td>8</td>\n",
       "      <td>1289192400</td>\n",
       "    </tr>\n",
       "    <tr>\n",
       "      <th>10468</th>\n",
       "      <td>113</td>\n",
       "      <td>54</td>\n",
       "      <td>4</td>\n",
       "      <td>1289192400</td>\n",
       "    </tr>\n",
       "  </tbody>\n",
       "</table>\n",
       "</div>"
      ],
      "text/plain": [
       "       src  Dest  Rating   Timestamp\n",
       "1275     2   402       1  1289192400\n",
       "4003    10   970       8  1289192400\n",
       "4004    10   271       8  1289192400\n",
       "10468  113    54       4  1289192400"
      ]
     },
     "execution_count": 19,
     "metadata": {},
     "output_type": "execute_result"
    }
   ],
   "source": [
    "alpha_network_gt[alpha_network_gt[\"Timestamp\"]==alpha_network_gt[\"Timestamp\"].min()]"
   ]
  },
  {
   "cell_type": "code",
   "execution_count": null,
   "metadata": {},
   "outputs": [],
   "source": [
    "amazon_network_data = pd.read_csv(\"amazon_network.csv\")\n",
    "amazon_network_data.columns=[\"src\", \"Dest\", \"Rating\", \"Timestamp\"]\n",
    "#amazon_network_data = amazon_network_data[[\"src\", \"Dest\"]]\n",
    "#amazon_network_data1 = amazon_network_data.astype(str).groupby(\"src\").agg(','.join).reset_index()\n",
    "#amazon_network_data\n",
    "amazon_network_data[amazon_network_data[\"Timestamp\"]==amazon_network_data[\"Timestamp\"].min()]"
   ]
  },
  {
   "cell_type": "code",
   "execution_count": null,
   "metadata": {},
   "outputs": [],
   "source": [
    "amazon_gt_data = pd.read_csv(\"amazon_gt.csv\")\n",
    "amazon_gt_data.columns = [\"ID\",\"Label\"]\n",
    "#amazon_gt_data"
   ]
  },
  {
   "cell_type": "code",
   "execution_count": null,
   "metadata": {},
   "outputs": [],
   "source": [
    "amazon_network_data[amazon_network_data[\"Timestamp\"]==amazon_network_data[\"Timestamp\"].max()]"
   ]
  },
  {
   "cell_type": "code",
   "execution_count": null,
   "metadata": {},
   "outputs": [],
   "source": [
    "amazon_network_gt = amazon_network_data[amazon_network_data[\"src\"].isin(amazon_gt_data[\"ID\"])]\n",
    "#alpha_network_gt\n",
    "amazon_network_gt[amazon_network_gt[\"Timestamp\"]==amazon_network_gt[\"Timestamp\"].max()]"
   ]
  },
  {
   "cell_type": "code",
   "execution_count": null,
   "metadata": {},
   "outputs": [],
   "source": [
    "amazon_network_gt[amazon_network_gt[\"Timestamp\"]==amazon_network_gt[\"Timestamp\"].min()]"
   ]
  },
  {
   "cell_type": "code",
   "execution_count": 13,
   "metadata": {},
   "outputs": [
    {
     "data": {
      "text/html": [
       "<div>\n",
       "<style scoped>\n",
       "    .dataframe tbody tr th:only-of-type {\n",
       "        vertical-align: middle;\n",
       "    }\n",
       "\n",
       "    .dataframe tbody tr th {\n",
       "        vertical-align: top;\n",
       "    }\n",
       "\n",
       "    .dataframe thead th {\n",
       "        text-align: right;\n",
       "    }\n",
       "</style>\n",
       "<table border=\"1\" class=\"dataframe\">\n",
       "  <thead>\n",
       "    <tr style=\"text-align: right;\">\n",
       "      <th></th>\n",
       "      <th>src</th>\n",
       "      <th>Dest</th>\n",
       "      <th>Rating</th>\n",
       "      <th>Timestamp</th>\n",
       "    </tr>\n",
       "  </thead>\n",
       "  <tbody>\n",
       "    <tr>\n",
       "      <th>3285224</th>\n",
       "      <td>243102</td>\n",
       "      <td>494191</td>\n",
       "      <td>5</td>\n",
       "      <td>2001/0</td>\n",
       "    </tr>\n",
       "  </tbody>\n",
       "</table>\n",
       "</div>"
      ],
      "text/plain": [
       "            src    Dest  Rating Timestamp\n",
       "3285224  243102  494191       5    2001/0"
      ]
     },
     "execution_count": 13,
     "metadata": {},
     "output_type": "execute_result"
    }
   ],
   "source": [
    "epinions_network_data = pd.read_csv(\"epinions_network.csv\")\n",
    "epinions_network_data.columns=[\"src\", \"Dest\", \"Rating\", \"Timestamp\"]\n",
    "#epinions_network_data = epinions_network_data[[\"src\", \"Dest\"]]\n",
    "#epinions_network_data1 = epinions_network_data.astype(str).groupby(\"Dest\").agg(','.join).reset_index()\n",
    "#epinions_network_data\n",
    "epinions_network_data[epinions_network_data[\"Timestamp\"]==epinions_network_data[\"Timestamp\"].min()]"
   ]
  },
  {
   "cell_type": "code",
   "execution_count": 14,
   "metadata": {},
   "outputs": [
    {
     "data": {
      "text/html": [
       "<div>\n",
       "<style scoped>\n",
       "    .dataframe tbody tr th:only-of-type {\n",
       "        vertical-align: middle;\n",
       "    }\n",
       "\n",
       "    .dataframe tbody tr th {\n",
       "        vertical-align: top;\n",
       "    }\n",
       "\n",
       "    .dataframe thead th {\n",
       "        text-align: right;\n",
       "    }\n",
       "</style>\n",
       "<table border=\"1\" class=\"dataframe\">\n",
       "  <thead>\n",
       "    <tr style=\"text-align: right;\">\n",
       "      <th></th>\n",
       "      <th>src</th>\n",
       "      <th>Dest</th>\n",
       "      <th>Rating</th>\n",
       "      <th>Timestamp</th>\n",
       "    </tr>\n",
       "  </thead>\n",
       "  <tbody>\n",
       "    <tr>\n",
       "      <th>2654134</th>\n",
       "      <td>32790122372</td>\n",
       "      <td>6811848580</td>\n",
       "      <td>5</td>\n",
       "      <td>2002/05/30</td>\n",
       "    </tr>\n",
       "    <tr>\n",
       "      <th>2654135</th>\n",
       "      <td>45789974404</td>\n",
       "      <td>31462363012</td>\n",
       "      <td>5</td>\n",
       "      <td>2002/05/30</td>\n",
       "    </tr>\n",
       "    <tr>\n",
       "      <th>2654136</th>\n",
       "      <td>32790122372</td>\n",
       "      <td>6811848580</td>\n",
       "      <td>5</td>\n",
       "      <td>2002/05/30</td>\n",
       "    </tr>\n",
       "    <tr>\n",
       "      <th>2654137</th>\n",
       "      <td>45789974404</td>\n",
       "      <td>235766</td>\n",
       "      <td>5</td>\n",
       "      <td>2002/05/30</td>\n",
       "    </tr>\n",
       "    <tr>\n",
       "      <th>2654138</th>\n",
       "      <td>350170</td>\n",
       "      <td>203078</td>\n",
       "      <td>5</td>\n",
       "      <td>2002/05/30</td>\n",
       "    </tr>\n",
       "    <tr>\n",
       "      <th>...</th>\n",
       "      <td>...</td>\n",
       "      <td>...</td>\n",
       "      <td>...</td>\n",
       "      <td>...</td>\n",
       "    </tr>\n",
       "    <tr>\n",
       "      <th>2655280</th>\n",
       "      <td>207186</td>\n",
       "      <td>44656725892</td>\n",
       "      <td>5</td>\n",
       "      <td>2002/05/30</td>\n",
       "    </tr>\n",
       "    <tr>\n",
       "      <th>2655281</th>\n",
       "      <td>494199</td>\n",
       "      <td>276559</td>\n",
       "      <td>5</td>\n",
       "      <td>2002/05/30</td>\n",
       "    </tr>\n",
       "    <tr>\n",
       "      <th>2655282</th>\n",
       "      <td>502205</td>\n",
       "      <td>6811848580</td>\n",
       "      <td>5</td>\n",
       "      <td>2002/05/30</td>\n",
       "    </tr>\n",
       "    <tr>\n",
       "      <th>2655283</th>\n",
       "      <td>233009</td>\n",
       "      <td>46328811396</td>\n",
       "      <td>3</td>\n",
       "      <td>2002/05/30</td>\n",
       "    </tr>\n",
       "    <tr>\n",
       "      <th>2655284</th>\n",
       "      <td>5425500036</td>\n",
       "      <td>204622</td>\n",
       "      <td>5</td>\n",
       "      <td>2002/05/30</td>\n",
       "    </tr>\n",
       "  </tbody>\n",
       "</table>\n",
       "<p>1151 rows × 4 columns</p>\n",
       "</div>"
      ],
      "text/plain": [
       "                 src         Dest  Rating   Timestamp\n",
       "2654134  32790122372   6811848580       5  2002/05/30\n",
       "2654135  45789974404  31462363012       5  2002/05/30\n",
       "2654136  32790122372   6811848580       5  2002/05/30\n",
       "2654137  45789974404       235766       5  2002/05/30\n",
       "2654138       350170       203078       5  2002/05/30\n",
       "...              ...          ...     ...         ...\n",
       "2655280       207186  44656725892       5  2002/05/30\n",
       "2655281       494199       276559       5  2002/05/30\n",
       "2655282       502205   6811848580       5  2002/05/30\n",
       "2655283       233009  46328811396       3  2002/05/30\n",
       "2655284   5425500036       204622       5  2002/05/30\n",
       "\n",
       "[1151 rows x 4 columns]"
      ]
     },
     "execution_count": 14,
     "metadata": {},
     "output_type": "execute_result"
    }
   ],
   "source": [
    "epinions_network_data[epinions_network_data[\"Timestamp\"]==epinions_network_data[\"Timestamp\"].max()]"
   ]
  },
  {
   "cell_type": "code",
   "execution_count": 23,
   "metadata": {},
   "outputs": [],
   "source": [
    "epinions_gt_data = pd.read_csv(\"epinions_gt.csv\")\n",
    "epinions_gt_data.columns = [\"ID\",\"Label\"]\n",
    "#epinions_gt_data"
   ]
  },
  {
   "cell_type": "code",
   "execution_count": 24,
   "metadata": {
    "scrolled": true
   },
   "outputs": [
    {
     "data": {
      "text/html": [
       "<div>\n",
       "<style scoped>\n",
       "    .dataframe tbody tr th:only-of-type {\n",
       "        vertical-align: middle;\n",
       "    }\n",
       "\n",
       "    .dataframe tbody tr th {\n",
       "        vertical-align: top;\n",
       "    }\n",
       "\n",
       "    .dataframe thead th {\n",
       "        text-align: right;\n",
       "    }\n",
       "</style>\n",
       "<table border=\"1\" class=\"dataframe\">\n",
       "  <thead>\n",
       "    <tr style=\"text-align: right;\">\n",
       "      <th></th>\n",
       "      <th>src</th>\n",
       "      <th>Dest</th>\n",
       "      <th>Rating</th>\n",
       "      <th>Timestamp</th>\n",
       "    </tr>\n",
       "  </thead>\n",
       "  <tbody>\n",
       "    <tr>\n",
       "      <th>2654134</th>\n",
       "      <td>32790122372</td>\n",
       "      <td>6811848580</td>\n",
       "      <td>5</td>\n",
       "      <td>2002/05/30</td>\n",
       "    </tr>\n",
       "    <tr>\n",
       "      <th>2654136</th>\n",
       "      <td>32790122372</td>\n",
       "      <td>6811848580</td>\n",
       "      <td>5</td>\n",
       "      <td>2002/05/30</td>\n",
       "    </tr>\n",
       "    <tr>\n",
       "      <th>2654138</th>\n",
       "      <td>350170</td>\n",
       "      <td>203078</td>\n",
       "      <td>5</td>\n",
       "      <td>2002/05/30</td>\n",
       "    </tr>\n",
       "    <tr>\n",
       "      <th>2654140</th>\n",
       "      <td>200396</td>\n",
       "      <td>349865</td>\n",
       "      <td>4</td>\n",
       "      <td>2002/05/30</td>\n",
       "    </tr>\n",
       "    <tr>\n",
       "      <th>2654141</th>\n",
       "      <td>420738</td>\n",
       "      <td>5806067588</td>\n",
       "      <td>5</td>\n",
       "      <td>2002/05/30</td>\n",
       "    </tr>\n",
       "    <tr>\n",
       "      <th>...</th>\n",
       "      <td>...</td>\n",
       "      <td>...</td>\n",
       "      <td>...</td>\n",
       "      <td>...</td>\n",
       "    </tr>\n",
       "    <tr>\n",
       "      <th>2655279</th>\n",
       "      <td>233009</td>\n",
       "      <td>46236405636</td>\n",
       "      <td>5</td>\n",
       "      <td>2002/05/30</td>\n",
       "    </tr>\n",
       "    <tr>\n",
       "      <th>2655280</th>\n",
       "      <td>207186</td>\n",
       "      <td>44656725892</td>\n",
       "      <td>5</td>\n",
       "      <td>2002/05/30</td>\n",
       "    </tr>\n",
       "    <tr>\n",
       "      <th>2655282</th>\n",
       "      <td>502205</td>\n",
       "      <td>6811848580</td>\n",
       "      <td>5</td>\n",
       "      <td>2002/05/30</td>\n",
       "    </tr>\n",
       "    <tr>\n",
       "      <th>2655283</th>\n",
       "      <td>233009</td>\n",
       "      <td>46328811396</td>\n",
       "      <td>3</td>\n",
       "      <td>2002/05/30</td>\n",
       "    </tr>\n",
       "    <tr>\n",
       "      <th>2655284</th>\n",
       "      <td>5425500036</td>\n",
       "      <td>204622</td>\n",
       "      <td>5</td>\n",
       "      <td>2002/05/30</td>\n",
       "    </tr>\n",
       "  </tbody>\n",
       "</table>\n",
       "<p>1040 rows × 4 columns</p>\n",
       "</div>"
      ],
      "text/plain": [
       "                 src         Dest  Rating   Timestamp\n",
       "2654134  32790122372   6811848580       5  2002/05/30\n",
       "2654136  32790122372   6811848580       5  2002/05/30\n",
       "2654138       350170       203078       5  2002/05/30\n",
       "2654140       200396       349865       4  2002/05/30\n",
       "2654141       420738   5806067588       5  2002/05/30\n",
       "...              ...          ...     ...         ...\n",
       "2655279       233009  46236405636       5  2002/05/30\n",
       "2655280       207186  44656725892       5  2002/05/30\n",
       "2655282       502205   6811848580       5  2002/05/30\n",
       "2655283       233009  46328811396       3  2002/05/30\n",
       "2655284   5425500036       204622       5  2002/05/30\n",
       "\n",
       "[1040 rows x 4 columns]"
      ]
     },
     "execution_count": 24,
     "metadata": {},
     "output_type": "execute_result"
    }
   ],
   "source": [
    "epinions_network_gt = epinions_network_data[epinions_network_data[\"src\"].isin(epinions_gt_data[\"ID\"])]\n",
    "#alpha_network_gt\n",
    "epinions_network_gt[epinions_network_gt[\"Timestamp\"]==epinions_network_gt[\"Timestamp\"].max()]"
   ]
  },
  {
   "cell_type": "code",
   "execution_count": 25,
   "metadata": {},
   "outputs": [
    {
     "data": {
      "text/html": [
       "<div>\n",
       "<style scoped>\n",
       "    .dataframe tbody tr th:only-of-type {\n",
       "        vertical-align: middle;\n",
       "    }\n",
       "\n",
       "    .dataframe tbody tr th {\n",
       "        vertical-align: top;\n",
       "    }\n",
       "\n",
       "    .dataframe thead th {\n",
       "        text-align: right;\n",
       "    }\n",
       "</style>\n",
       "<table border=\"1\" class=\"dataframe\">\n",
       "  <thead>\n",
       "    <tr style=\"text-align: right;\">\n",
       "      <th></th>\n",
       "      <th>src</th>\n",
       "      <th>Dest</th>\n",
       "      <th>Rating</th>\n",
       "      <th>Timestamp</th>\n",
       "    </tr>\n",
       "  </thead>\n",
       "  <tbody>\n",
       "    <tr>\n",
       "      <th>3285224</th>\n",
       "      <td>243102</td>\n",
       "      <td>494191</td>\n",
       "      <td>5</td>\n",
       "      <td>2001/0</td>\n",
       "    </tr>\n",
       "  </tbody>\n",
       "</table>\n",
       "</div>"
      ],
      "text/plain": [
       "            src    Dest  Rating Timestamp\n",
       "3285224  243102  494191       5    2001/0"
      ]
     },
     "execution_count": 25,
     "metadata": {},
     "output_type": "execute_result"
    }
   ],
   "source": [
    "epinions_network_gt[epinions_network_gt[\"Timestamp\"]==epinions_network_gt[\"Timestamp\"].min()]"
   ]
  },
  {
   "cell_type": "code",
   "execution_count": 10,
   "metadata": {},
   "outputs": [
    {
     "data": {
      "text/html": [
       "<div>\n",
       "<style scoped>\n",
       "    .dataframe tbody tr th:only-of-type {\n",
       "        vertical-align: middle;\n",
       "    }\n",
       "\n",
       "    .dataframe tbody tr th {\n",
       "        vertical-align: top;\n",
       "    }\n",
       "\n",
       "    .dataframe thead th {\n",
       "        text-align: right;\n",
       "    }\n",
       "</style>\n",
       "<table border=\"1\" class=\"dataframe\">\n",
       "  <thead>\n",
       "    <tr style=\"text-align: right;\">\n",
       "      <th></th>\n",
       "      <th>src</th>\n",
       "      <th>Dest</th>\n",
       "      <th>Rating</th>\n",
       "      <th>Timestamp</th>\n",
       "    </tr>\n",
       "  </thead>\n",
       "  <tbody>\n",
       "    <tr>\n",
       "      <th>0</th>\n",
       "      <td>6</td>\n",
       "      <td>5</td>\n",
       "      <td>2</td>\n",
       "      <td>1.289242e+09</td>\n",
       "    </tr>\n",
       "  </tbody>\n",
       "</table>\n",
       "</div>"
      ],
      "text/plain": [
       "   src  Dest  Rating     Timestamp\n",
       "0    6     5       2  1.289242e+09"
      ]
     },
     "execution_count": 10,
     "metadata": {},
     "output_type": "execute_result"
    }
   ],
   "source": [
    "otc_network_data = pd.read_csv(\"otc_network.csv\")\n",
    "otc_network_data.columns=[\"src\", \"Dest\", \"Rating\", \"Timestamp\"]\n",
    "#otc_network_data = otc_network_data[[\"src\", \"Dest\"]]\n",
    "#otc_network_data1 = otc_network_data.astype(str).groupby(\"Dest\").agg(','.join).reset_index()\n",
    "#otc_network_data\n",
    "otc_network_data[otc_network_data[\"Timestamp\"]==otc_network_data[\"Timestamp\"].min()]"
   ]
  },
  {
   "cell_type": "code",
   "execution_count": 11,
   "metadata": {},
   "outputs": [
    {
     "data": {
      "text/html": [
       "<div>\n",
       "<style scoped>\n",
       "    .dataframe tbody tr th:only-of-type {\n",
       "        vertical-align: middle;\n",
       "    }\n",
       "\n",
       "    .dataframe tbody tr th {\n",
       "        vertical-align: top;\n",
       "    }\n",
       "\n",
       "    .dataframe thead th {\n",
       "        text-align: right;\n",
       "    }\n",
       "</style>\n",
       "<table border=\"1\" class=\"dataframe\">\n",
       "  <thead>\n",
       "    <tr style=\"text-align: right;\">\n",
       "      <th></th>\n",
       "      <th>src</th>\n",
       "      <th>Dest</th>\n",
       "      <th>Rating</th>\n",
       "      <th>Timestamp</th>\n",
       "    </tr>\n",
       "  </thead>\n",
       "  <tbody>\n",
       "    <tr>\n",
       "      <th>35590</th>\n",
       "      <td>1128</td>\n",
       "      <td>13</td>\n",
       "      <td>2</td>\n",
       "      <td>1.453684e+09</td>\n",
       "    </tr>\n",
       "  </tbody>\n",
       "</table>\n",
       "</div>"
      ],
      "text/plain": [
       "        src  Dest  Rating     Timestamp\n",
       "35590  1128    13       2  1.453684e+09"
      ]
     },
     "execution_count": 11,
     "metadata": {},
     "output_type": "execute_result"
    }
   ],
   "source": [
    "otc_network_data[otc_network_data[\"Timestamp\"]==otc_network_data[\"Timestamp\"].max()]"
   ]
  },
  {
   "cell_type": "code",
   "execution_count": 20,
   "metadata": {},
   "outputs": [],
   "source": [
    "otc_gt_data = pd.read_csv(\"otc_gt.csv\")\n",
    "otc_gt_data.columns = [\"ID\",\"Label\"]\n",
    "#otc_gt_data"
   ]
  },
  {
   "cell_type": "code",
   "execution_count": 21,
   "metadata": {},
   "outputs": [
    {
     "data": {
      "text/html": [
       "<div>\n",
       "<style scoped>\n",
       "    .dataframe tbody tr th:only-of-type {\n",
       "        vertical-align: middle;\n",
       "    }\n",
       "\n",
       "    .dataframe tbody tr th {\n",
       "        vertical-align: top;\n",
       "    }\n",
       "\n",
       "    .dataframe thead th {\n",
       "        text-align: right;\n",
       "    }\n",
       "</style>\n",
       "<table border=\"1\" class=\"dataframe\">\n",
       "  <thead>\n",
       "    <tr style=\"text-align: right;\">\n",
       "      <th></th>\n",
       "      <th>src</th>\n",
       "      <th>Dest</th>\n",
       "      <th>Rating</th>\n",
       "      <th>Timestamp</th>\n",
       "    </tr>\n",
       "  </thead>\n",
       "  <tbody>\n",
       "    <tr>\n",
       "      <th>35589</th>\n",
       "      <td>13</td>\n",
       "      <td>1128</td>\n",
       "      <td>1</td>\n",
       "      <td>1.453680e+09</td>\n",
       "    </tr>\n",
       "  </tbody>\n",
       "</table>\n",
       "</div>"
      ],
      "text/plain": [
       "       src  Dest  Rating     Timestamp\n",
       "35589   13  1128       1  1.453680e+09"
      ]
     },
     "execution_count": 21,
     "metadata": {},
     "output_type": "execute_result"
    }
   ],
   "source": [
    "otc_network_gt = otc_network_data[otc_network_data[\"src\"].isin(otc_gt_data[\"ID\"])]\n",
    "#alpha_network_gt\n",
    "otc_network_gt[otc_network_gt[\"Timestamp\"]==otc_network_gt[\"Timestamp\"].max()]"
   ]
  },
  {
   "cell_type": "code",
   "execution_count": 22,
   "metadata": {
    "scrolled": false
   },
   "outputs": [
    {
     "data": {
      "text/html": [
       "<div>\n",
       "<style scoped>\n",
       "    .dataframe tbody tr th:only-of-type {\n",
       "        vertical-align: middle;\n",
       "    }\n",
       "\n",
       "    .dataframe tbody tr th {\n",
       "        vertical-align: top;\n",
       "    }\n",
       "\n",
       "    .dataframe thead th {\n",
       "        text-align: right;\n",
       "    }\n",
       "</style>\n",
       "<table border=\"1\" class=\"dataframe\">\n",
       "  <thead>\n",
       "    <tr style=\"text-align: right;\">\n",
       "      <th></th>\n",
       "      <th>src</th>\n",
       "      <th>Dest</th>\n",
       "      <th>Rating</th>\n",
       "      <th>Timestamp</th>\n",
       "    </tr>\n",
       "  </thead>\n",
       "  <tbody>\n",
       "    <tr>\n",
       "      <th>0</th>\n",
       "      <td>6</td>\n",
       "      <td>5</td>\n",
       "      <td>2</td>\n",
       "      <td>1.289242e+09</td>\n",
       "    </tr>\n",
       "  </tbody>\n",
       "</table>\n",
       "</div>"
      ],
      "text/plain": [
       "   src  Dest  Rating     Timestamp\n",
       "0    6     5       2  1.289242e+09"
      ]
     },
     "execution_count": 22,
     "metadata": {},
     "output_type": "execute_result"
    }
   ],
   "source": [
    "otc_network_gt[otc_network_gt[\"Timestamp\"]==otc_network_gt[\"Timestamp\"].min()]"
   ]
  },
  {
   "cell_type": "code",
   "execution_count": 3,
   "metadata": {},
   "outputs": [
    {
     "name": "stdout",
     "output_type": "stream",
     "text": [
      "2004-10-20 2015-01-07\n"
     ]
    }
   ],
   "source": [
    "Yelp_NYC = pd.read_csv('metadata_YelpNYC.txt',delimiter= '\\s+', index_col=False)\n",
    "Yelp_NYC.columns = [\"user_id\", \"prod_id\", \"rating\", \"Label\",\"date\"]\n",
    "Yelp_NYC\n",
    "print(Yelp_NYC[\"date\"].min(), Yelp_NYC[\"date\"].max())"
   ]
  },
  {
   "cell_type": "code",
   "execution_count": 2,
   "metadata": {
    "scrolled": false
   },
   "outputs": [
    {
     "data": {
      "text/html": [
       "<div>\n",
       "<style scoped>\n",
       "    .dataframe tbody tr th:only-of-type {\n",
       "        vertical-align: middle;\n",
       "    }\n",
       "\n",
       "    .dataframe tbody tr th {\n",
       "        vertical-align: top;\n",
       "    }\n",
       "\n",
       "    .dataframe thead th {\n",
       "        text-align: right;\n",
       "    }\n",
       "</style>\n",
       "<table border=\"1\" class=\"dataframe\">\n",
       "  <thead>\n",
       "    <tr style=\"text-align: right;\">\n",
       "      <th></th>\n",
       "      <th>user_id</th>\n",
       "      <th>Label</th>\n",
       "    </tr>\n",
       "  </thead>\n",
       "  <tbody>\n",
       "    <tr>\n",
       "      <th>0</th>\n",
       "      <td>1000</td>\n",
       "      <td>1</td>\n",
       "    </tr>\n",
       "    <tr>\n",
       "      <th>1</th>\n",
       "      <td>10000</td>\n",
       "      <td>1,1,1,1,1,1,1,1,1,1</td>\n",
       "    </tr>\n",
       "    <tr>\n",
       "      <th>2</th>\n",
       "      <td>100000</td>\n",
       "      <td>1</td>\n",
       "    </tr>\n",
       "    <tr>\n",
       "      <th>3</th>\n",
       "      <td>100001</td>\n",
       "      <td>1,1,1</td>\n",
       "    </tr>\n",
       "    <tr>\n",
       "      <th>4</th>\n",
       "      <td>100002</td>\n",
       "      <td>1</td>\n",
       "    </tr>\n",
       "    <tr>\n",
       "      <th>...</th>\n",
       "      <td>...</td>\n",
       "      <td>...</td>\n",
       "    </tr>\n",
       "    <tr>\n",
       "      <th>160220</th>\n",
       "      <td>99995</td>\n",
       "      <td>1</td>\n",
       "    </tr>\n",
       "    <tr>\n",
       "      <th>160221</th>\n",
       "      <td>99996</td>\n",
       "      <td>1,1,1</td>\n",
       "    </tr>\n",
       "    <tr>\n",
       "      <th>160222</th>\n",
       "      <td>99997</td>\n",
       "      <td>1</td>\n",
       "    </tr>\n",
       "    <tr>\n",
       "      <th>160223</th>\n",
       "      <td>99998</td>\n",
       "      <td>1,1</td>\n",
       "    </tr>\n",
       "    <tr>\n",
       "      <th>160224</th>\n",
       "      <td>99999</td>\n",
       "      <td>1</td>\n",
       "    </tr>\n",
       "  </tbody>\n",
       "</table>\n",
       "<p>160225 rows × 2 columns</p>\n",
       "</div>"
      ],
      "text/plain": [
       "       user_id                Label\n",
       "0         1000                    1\n",
       "1        10000  1,1,1,1,1,1,1,1,1,1\n",
       "2       100000                    1\n",
       "3       100001                1,1,1\n",
       "4       100002                    1\n",
       "...        ...                  ...\n",
       "160220   99995                    1\n",
       "160221   99996                1,1,1\n",
       "160222   99997                    1\n",
       "160223   99998                  1,1\n",
       "160224   99999                    1\n",
       "\n",
       "[160225 rows x 2 columns]"
      ]
     },
     "execution_count": 2,
     "metadata": {},
     "output_type": "execute_result"
    }
   ],
   "source": [
    "#https://stackoverflow.com/questions/21546739/load-data-from-txt-with-pandas\n",
    "Yelp_NYC = pd.read_csv('metadata_YelpNYC.txt',delimiter= '\\s+', index_col=False)\n",
    "Yelp_NYC.columns = [\"user_id\", \"prod_id\", \"rating\", \"Label\",\"date\"]\n",
    "Yelp_NYC1 = Yelp_NYC[[\"user_id\",\"Label\"]]\n",
    "Yelp_NYC1 = Yelp_NYC1.astype(str).groupby(\"user_id\").agg(','.join).reset_index()\n",
    "Yelp_NYC1"
   ]
  },
  {
   "cell_type": "code",
   "execution_count": 9,
   "metadata": {
    "scrolled": true
   },
   "outputs": [
    {
     "data": {
      "text/plain": [
       "'1'"
      ]
     },
     "execution_count": 9,
     "metadata": {},
     "output_type": "execute_result"
    }
   ],
   "source": [
    "Yelp_NYC1.iat[1,1][0]"
   ]
  },
  {
   "cell_type": "code",
   "execution_count": 11,
   "metadata": {},
   "outputs": [
    {
     "data": {
      "text/plain": [
       "132154"
      ]
     },
     "execution_count": 11,
     "metadata": {},
     "output_type": "execute_result"
    }
   ],
   "source": [
    "benign = 0\n",
    "for i in range(160225):\n",
    "    if Yelp_NYC1.iat[i,1][0] == '1':\n",
    "        benign += 1\n",
    "benign"
   ]
  },
  {
   "cell_type": "code",
   "execution_count": 4,
   "metadata": {},
   "outputs": [
    {
     "name": "stdout",
     "output_type": "stream",
     "text": [
      "1/1/2006 9/9/2012\n"
     ]
    }
   ],
   "source": [
    "Yelp_Chi_hotel = pd.read_csv('output_meta_yelpHotelData_NRYRcleaned.txt',delimiter= '\\s+', index_col=False)\n",
    "Yelp_Chi_hotel.columns = [\"date\", \"review_id\", \"reviewer_id\", \"product_id\",\"Label\",\"?\",\"?\",\"?\",\"star_rating\"]\n",
    "print(Yelp_Chi_hotel[\"date\"].min(), Yelp_Chi_hotel[\"date\"].max())"
   ]
  },
  {
   "cell_type": "code",
   "execution_count": 3,
   "metadata": {
    "scrolled": false
   },
   "outputs": [
    {
     "data": {
      "text/html": [
       "<div>\n",
       "<style scoped>\n",
       "    .dataframe tbody tr th:only-of-type {\n",
       "        vertical-align: middle;\n",
       "    }\n",
       "\n",
       "    .dataframe tbody tr th {\n",
       "        vertical-align: top;\n",
       "    }\n",
       "\n",
       "    .dataframe thead th {\n",
       "        text-align: right;\n",
       "    }\n",
       "</style>\n",
       "<table border=\"1\" class=\"dataframe\">\n",
       "  <thead>\n",
       "    <tr style=\"text-align: right;\">\n",
       "      <th></th>\n",
       "      <th>reviewer_id</th>\n",
       "      <th>Label</th>\n",
       "    </tr>\n",
       "  </thead>\n",
       "  <tbody>\n",
       "    <tr>\n",
       "      <th>0</th>\n",
       "      <td>-0avJ-EVYjNCVwh0r_irUQ</td>\n",
       "      <td>Y</td>\n",
       "    </tr>\n",
       "    <tr>\n",
       "      <th>1</th>\n",
       "      <td>-2N-pSWoeBa6L06_5QLrQQ</td>\n",
       "      <td>N</td>\n",
       "    </tr>\n",
       "    <tr>\n",
       "      <th>2</th>\n",
       "      <td>-2aZoH_YaC-1s1BFzo7GcA</td>\n",
       "      <td>Y</td>\n",
       "    </tr>\n",
       "    <tr>\n",
       "      <th>3</th>\n",
       "      <td>-3s52C4zL_DHRK0ULG6qtg</td>\n",
       "      <td>N</td>\n",
       "    </tr>\n",
       "    <tr>\n",
       "      <th>4</th>\n",
       "      <td>-6ouGOTjGYr03u5TP6Z-Iw</td>\n",
       "      <td>Y</td>\n",
       "    </tr>\n",
       "    <tr>\n",
       "      <th>...</th>\n",
       "      <td>...</td>\n",
       "      <td>...</td>\n",
       "    </tr>\n",
       "    <tr>\n",
       "      <th>5020</th>\n",
       "      <td>zyEo2NRpiRhJS1pWpvaZoQ</td>\n",
       "      <td>Y</td>\n",
       "    </tr>\n",
       "    <tr>\n",
       "      <th>5021</th>\n",
       "      <td>zyNGr5Tlg1rK1frevXCx2g</td>\n",
       "      <td>N</td>\n",
       "    </tr>\n",
       "    <tr>\n",
       "      <th>5022</th>\n",
       "      <td>zyk-YPhtFZK6kkbpzEKrWw</td>\n",
       "      <td>N,N</td>\n",
       "    </tr>\n",
       "    <tr>\n",
       "      <th>5023</th>\n",
       "      <td>zzK05ZbEva9FGAjEFWlGFg</td>\n",
       "      <td>N</td>\n",
       "    </tr>\n",
       "    <tr>\n",
       "      <th>5024</th>\n",
       "      <td>zzzW81llRc2vMWX0VrTJzw</td>\n",
       "      <td>Y</td>\n",
       "    </tr>\n",
       "  </tbody>\n",
       "</table>\n",
       "<p>5025 rows × 2 columns</p>\n",
       "</div>"
      ],
      "text/plain": [
       "                 reviewer_id Label\n",
       "0     -0avJ-EVYjNCVwh0r_irUQ     Y\n",
       "1     -2N-pSWoeBa6L06_5QLrQQ     N\n",
       "2     -2aZoH_YaC-1s1BFzo7GcA     Y\n",
       "3     -3s52C4zL_DHRK0ULG6qtg     N\n",
       "4     -6ouGOTjGYr03u5TP6Z-Iw     Y\n",
       "...                      ...   ...\n",
       "5020  zyEo2NRpiRhJS1pWpvaZoQ     Y\n",
       "5021  zyNGr5Tlg1rK1frevXCx2g     N\n",
       "5022  zyk-YPhtFZK6kkbpzEKrWw   N,N\n",
       "5023  zzK05ZbEva9FGAjEFWlGFg     N\n",
       "5024  zzzW81llRc2vMWX0VrTJzw     Y\n",
       "\n",
       "[5025 rows x 2 columns]"
      ]
     },
     "execution_count": 3,
     "metadata": {},
     "output_type": "execute_result"
    }
   ],
   "source": [
    "Yelp_Chi_hotel = pd.read_csv('output_meta_yelpHotelData_NRYRcleaned.txt',delimiter= '\\s+', index_col=False)\n",
    "Yelp_Chi_hotel.columns = [\"date\", \"review_id\", \"reviewer_id\", \"product_id\",\"Label\",\"?\",\"?\",\"?\",\"star_rating\"]\n",
    "Yelp_Chi_hotel = Yelp_Chi_hotel[[\"reviewer_id\",\"Label\"]]\n",
    "Yelp_Chi_hotel1 = Yelp_Chi_hotel.astype(str).groupby(\"reviewer_id\").agg(','.join).reset_index()\n",
    "Yelp_Chi_hotel1"
   ]
  },
  {
   "cell_type": "code",
   "execution_count": 13,
   "metadata": {},
   "outputs": [
    {
     "data": {
      "text/plain": [
       "750"
      ]
     },
     "execution_count": 13,
     "metadata": {},
     "output_type": "execute_result"
    }
   ],
   "source": [
    "benign = 0\n",
    "for i in range(5025):\n",
    "    if Yelp_Chi_hotel1.iat[i,1][0] == 'Y':\n",
    "        benign += 1\n",
    "benign"
   ]
  },
  {
   "cell_type": "code",
   "execution_count": 5,
   "metadata": {
    "scrolled": true
   },
   "outputs": [
    {
     "name": "stdout",
     "output_type": "stream",
     "text": [
      "1/1/2006 9/9/2012\n"
     ]
    }
   ],
   "source": [
    "Yelp_Chi_res = pd.read_csv('output_meta_yelpResData_NRYRcleaned.txt',delimiter= '\\s+', index_col=False)\n",
    "Yelp_Chi_res.columns = [\"date\", \"review_id\", \"reviewer_id\", \"product_id\",\"Label\",\"?\",\"?\",\"?\",\"star_rating\"]\n",
    "print(Yelp_Chi_res[\"date\"].min(), Yelp_Chi_res[\"date\"].max())"
   ]
  },
  {
   "cell_type": "code",
   "execution_count": 4,
   "metadata": {
    "scrolled": true
   },
   "outputs": [
    {
     "data": {
      "text/html": [
       "<div>\n",
       "<style scoped>\n",
       "    .dataframe tbody tr th:only-of-type {\n",
       "        vertical-align: middle;\n",
       "    }\n",
       "\n",
       "    .dataframe tbody tr th {\n",
       "        vertical-align: top;\n",
       "    }\n",
       "\n",
       "    .dataframe thead th {\n",
       "        text-align: right;\n",
       "    }\n",
       "</style>\n",
       "<table border=\"1\" class=\"dataframe\">\n",
       "  <thead>\n",
       "    <tr style=\"text-align: right;\">\n",
       "      <th></th>\n",
       "      <th>reviewer_id</th>\n",
       "      <th>Label</th>\n",
       "    </tr>\n",
       "  </thead>\n",
       "  <tbody>\n",
       "    <tr>\n",
       "      <th>0</th>\n",
       "      <td>--1-HgcfL1vWbG-1hgn1oA</td>\n",
       "      <td>Y</td>\n",
       "    </tr>\n",
       "    <tr>\n",
       "      <th>1</th>\n",
       "      <td>--AGQM8GPHljgKdnLisXgQ</td>\n",
       "      <td>Y</td>\n",
       "    </tr>\n",
       "    <tr>\n",
       "      <th>2</th>\n",
       "      <td>--KQJPdrU0Md97DiOliDzw</td>\n",
       "      <td>N</td>\n",
       "    </tr>\n",
       "    <tr>\n",
       "      <th>3</th>\n",
       "      <td>--KXo_HCYq9hB8NOdEUMKw</td>\n",
       "      <td>N</td>\n",
       "    </tr>\n",
       "    <tr>\n",
       "      <th>4</th>\n",
       "      <td>--Qh8yKWAvIP4V4K8ZPfHA</td>\n",
       "      <td>N</td>\n",
       "    </tr>\n",
       "    <tr>\n",
       "      <th>...</th>\n",
       "      <td>...</td>\n",
       "      <td>...</td>\n",
       "    </tr>\n",
       "    <tr>\n",
       "      <th>33959</th>\n",
       "      <td>zz1xkuwGqxdpH-JJZUYp4g</td>\n",
       "      <td>N</td>\n",
       "    </tr>\n",
       "    <tr>\n",
       "      <th>33960</th>\n",
       "      <td>zz4qBQ-W2AE2g0-ePD0v-Q</td>\n",
       "      <td>N,N,N,N,N,N,N,N,N,N,N,N</td>\n",
       "    </tr>\n",
       "    <tr>\n",
       "      <th>33961</th>\n",
       "      <td>zz71QiP13ESB37uuzspRMA</td>\n",
       "      <td>N,N</td>\n",
       "    </tr>\n",
       "    <tr>\n",
       "      <th>33962</th>\n",
       "      <td>zzGRHRDrx8H7LXFd5QFJ_w</td>\n",
       "      <td>N,N</td>\n",
       "    </tr>\n",
       "    <tr>\n",
       "      <th>33963</th>\n",
       "      <td>zzmVpziv5OsjmtshptyA9Q</td>\n",
       "      <td>N</td>\n",
       "    </tr>\n",
       "  </tbody>\n",
       "</table>\n",
       "<p>33964 rows × 2 columns</p>\n",
       "</div>"
      ],
      "text/plain": [
       "                  reviewer_id                    Label\n",
       "0      --1-HgcfL1vWbG-1hgn1oA                        Y\n",
       "1      --AGQM8GPHljgKdnLisXgQ                        Y\n",
       "2      --KQJPdrU0Md97DiOliDzw                        N\n",
       "3      --KXo_HCYq9hB8NOdEUMKw                        N\n",
       "4      --Qh8yKWAvIP4V4K8ZPfHA                        N\n",
       "...                       ...                      ...\n",
       "33959  zz1xkuwGqxdpH-JJZUYp4g                        N\n",
       "33960  zz4qBQ-W2AE2g0-ePD0v-Q  N,N,N,N,N,N,N,N,N,N,N,N\n",
       "33961  zz71QiP13ESB37uuzspRMA                      N,N\n",
       "33962  zzGRHRDrx8H7LXFd5QFJ_w                      N,N\n",
       "33963  zzmVpziv5OsjmtshptyA9Q                        N\n",
       "\n",
       "[33964 rows x 2 columns]"
      ]
     },
     "execution_count": 4,
     "metadata": {},
     "output_type": "execute_result"
    }
   ],
   "source": [
    "Yelp_Chi_res = pd.read_csv('output_meta_yelpResData_NRYRcleaned.txt',delimiter= '\\s+', index_col=False)\n",
    "Yelp_Chi_res.columns = [\"date\", \"review_id\", \"reviewer_id\", \"product_id\",\"Label\",\"?\",\"?\",\"?\",\"star_rating\"]\n",
    "Yelp_Chi_res = Yelp_Chi_res[[\"reviewer_id\",\"Label\"]]\n",
    "Yelp_Chi_res1 = Yelp_Chi_res.astype(str).groupby(\"reviewer_id\").agg(','.join).reset_index()\n",
    "Yelp_Chi_res1"
   ]
  },
  {
   "cell_type": "code",
   "execution_count": 14,
   "metadata": {},
   "outputs": [
    {
     "data": {
      "text/plain": [
       "6857"
      ]
     },
     "execution_count": 14,
     "metadata": {},
     "output_type": "execute_result"
    }
   ],
   "source": [
    "benign = 0\n",
    "for i in range(33964):\n",
    "    if Yelp_Chi_res1.iat[i,1][0] == 'Y':\n",
    "        benign += 1\n",
    "benign"
   ]
  },
  {
   "cell_type": "code",
   "execution_count": null,
   "metadata": {},
   "outputs": [],
   "source": [
    "#https://stackoverflow.com/questions/16729574/how-to-get-a-value-from-a-cell-of-a-dataframe\n",
    "Yelp_Zip = pd.read_csv('metadata_YelpZip.txt',delimiter= '\\s+', index_col=False)\n",
    "Yelp_Zip.columns = [\"user_id\", \"prod_id\", \"rating\", \"Label\",\"date\"]\n",
    "#Yelp_Zip\n",
    "print(Yelp_Zip[\"date\"].min(), Yelp_Zip[\"date\"].max())"
   ]
  }
 ],
 "metadata": {
  "kernelspec": {
   "display_name": "myenv",
   "language": "python",
   "name": "myenv"
  },
  "language_info": {
   "codemirror_mode": {
    "name": "ipython",
    "version": 3
   },
   "file_extension": ".py",
   "mimetype": "text/x-python",
   "name": "python",
   "nbconvert_exporter": "python",
   "pygments_lexer": "ipython3",
   "version": "3.8.5"
  }
 },
 "nbformat": 4,
 "nbformat_minor": 4
}

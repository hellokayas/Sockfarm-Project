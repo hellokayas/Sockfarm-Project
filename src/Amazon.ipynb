{
 "cells": [
  {
   "cell_type": "code",
   "execution_count": 16,
   "metadata": {},
   "outputs": [
    {
     "name": "stdout",
     "output_type": "stream",
     "text": [
      "[]\n"
     ]
    }
   ],
   "source": [
    "import gzip\n",
    "import json\n",
    "import ast\n",
    "import numpy as np\n",
    "\n",
    "def parse(path, limit):# limit+1 many reviews will get printed\n",
    "    i = 0\n",
    "    reviews_in_bytes = []\n",
    "    file = gzip.open(path,'r')\n",
    "    for line in file:\n",
    "        if i > limit:\n",
    "            break\n",
    "        reviews_in_bytes.append(line)\n",
    "        i += 1\n",
    "    return reviews_in_bytes\n",
    "    \n",
    "        \n",
    "mylist = parse('reviews_Musical_Instruments.json.gz',10**2)\n",
    "reviewer_item_pair = []\n",
    "reviewer_list = []\n",
    "item_list = []\n",
    "for review in mylist:\n",
    "    byte_str = review\n",
    "    dict_str = byte_str.decode(\"UTF-8\")\n",
    "    mydata = ast.literal_eval(dict_str)\n",
    "    #reviewer_item_pair.append((mydata[\"reviewerID\"],mydata[\"asin\"]))\n",
    "    reviewer_list.append(mydata[\"reviewerID\"])\n",
    "    item_list.append(mydata[\"asin\"])\n",
    "    \n",
    "print(reviewer_item_pair)\n"
   ]
  },
  {
   "cell_type": "code",
   "execution_count": 3,
   "metadata": {},
   "outputs": [
    {
     "name": "stdout",
     "output_type": "stream",
     "text": [
      "4.0\n"
     ]
    }
   ],
   "source": [
    "import gzip\n",
    "import json\n",
    "import ast\n",
    "\n",
    "limit = 10**5 * 5\n",
    "i = 0\n",
    "#reviewer_list = []\n",
    "#item_list = []\n",
    "d = {}\n",
    "s = 0\n",
    "count = 0\n",
    "file = gzip.open('reviews_Musical_Instruments.json.gz','r')\n",
    "for line in file:\n",
    "    if i > limit:\n",
    "        break\n",
    "    dict_str = line.decode(\"UTF-8\")\n",
    "    mydata = ast.literal_eval(dict_str)\n",
    "    #reviewerid = mydata[\"reviewerID\"]\n",
    "    #itemid = mydata[\"asin\"]\n",
    "    s += mydata[\"overall\"]\n",
    "    count += 1\n",
    "    i += 1\n",
    "    \n",
    "print(s//count)"
   ]
  },
  {
   "cell_type": "code",
   "execution_count": 4,
   "metadata": {},
   "outputs": [
    {
     "name": "stdout",
     "output_type": "stream",
     "text": [
      "{'key1': [10, 50], 'key2': [23], 'key10': [40]}\n"
     ]
    }
   ],
   "source": [
    "d = {\"key1\": [10], \"key2\": [23]}\n",
    "\n",
    "if \"key10\" not in d:\n",
    "    d[\"key10\"] = [40]\n",
    "if \"key1\" in d:\n",
    "    d[\"key1\"].append(50)\n",
    "print(d)\n"
   ]
  },
  {
   "cell_type": "code",
   "execution_count": 5,
   "metadata": {
    "scrolled": true
   },
   "outputs": [
    {
     "name": "stdout",
     "output_type": "stream",
     "text": [
      "{'A1YS9MDZP93857': ['0006428320', '0006428320'], 'A3TS466QBAWB9D': ['0014072149', '0014072149'], 'A3BUDYITWUSIS7': ['0041291905', '0041291905'], 'A19K10Z0D2NTZK': ['0041913574', '0041913574'], 'A14X336IB4JD89': ['0201891859', '0201891859'], 'A2HR0IL3TC4CKL': ['0577088726', '0577088726'], 'A2DHYD72O52WS5': ['0634029231', '0634029231'], 'A1MUVHT8BONL5K': ['0634029347', '0634029347', '0634029355'], 'A15GZQZWKG6KZM': ['0634029347', '0634029347'], 'A16WE7UU0QD33D': ['0634029347', '0634029347', '0634029363'], 'AXMWZYP2IROMP': ['0634029355', '0634029355'], 'A6DCKXX4659CR': ['0634029355', '0634029355'], 'A28YJZCV43ZWQW': ['0634029355', '0634029355'], 'A2I4CV4PGZCNAF': ['0634029355', '0634029355'], 'A1M7OWNI93N1Y3': ['0634029363', '0634029363'], 'A2FEDDUHQAEN97': ['0634029363', '0634029363'], 'A338HVUM4AWJY7': ['0634029363', '0634029363'], 'AKKQM6B0KI6F4': ['0634029363', '0634029363'], 'A1BX81N79C9BVT': ['0634050028', '0634050028'], 'A11ER3801T7KRP': ['0634055429', '0634055429'], 'A175UOHOVXRYMW': ['0634055534', '0634055534'], 'A2P1Z9NUJ9H1RT': ['0634055534', '0634055534'], 'A1D1S69ZMKYCCV': ['0634061801', '0634061801'], 'A7R79JLQ5Q28M': ['0634061801', '0634061801'], 'A3T7SXCKJUYXT3': ['0634061801', '0634061801'], 'A1JZM0YIYHL6JW': ['0634061801', '0634061801'], 'A372SXZ39TUWTZ': ['0634061801', '0634061801'], 'A331DOWXV50UMT': ['0634061801', '0634061801'], 'A16ZE9MJ0703UB': ['0634061801', '0634061801'], 'A3DM7ADJV144TZ': ['0634061801', '0634061801'], 'A2FIMQIKNOHFPK': ['0634061801', '0634061801'], 'A1QVR0ZIG59ZAG': ['0634061801', '0634061801'], 'A2788UYAD532T': ['0634061801', '0634061801'], 'A1746NHDF3PF3H': ['0634065459', '0634065459'], 'A26LIKTL5KW29E': ['0739003755', '0739003755'], 'A4TE45TH7L2MW': ['0739003755', '0739003755'], 'A732DZLEGXSEQ': ['0739003755', '0739003755'], 'A142DE4DV7NKTQ': ['0739003755', '0739003755'], 'AAUUICXM1YE8L': ['0739003755', '0739003755'], 'A153V2QD4BJT1Z': ['0739003755', '0739003755'], 'A2TKRYCS1POPOA': ['0739003755', '0739003755'], 'A1IRFW13NXF08Z': ['0739003755', '0739003755'], 'A25UM6A6A4SEDT': ['0739037986', '0739037986'], 'ADM67P7K66F41': ['0739037986', '0739037986'], 'A18C8JYM2161KE': ['0739037986', '0739037986'], 'AK3MEBCSQ18LO': ['0739037986', '0739037986'], 'A307SOXS9WP4GI': ['0739040251', '0739040251'], 'ASP16LVGFITDE': ['0739040251', '0739040251'], 'A2HYLAESK4RRTI': ['0739040251', '0739040251'], 'ASEVEFG1SSYJK': ['0739040251', '0739040251'], 'AARB5F3HPXV0V': ['0739040251', '0739040251'], 'AQFYZ8N5SQ1Y7': ['0739040251', '0739040251'], 'A1Z5471UG451G9': ['0739040251', '0739040251'], 'A2PI3IIBPG2VI2': ['0739040251', '0739040251'], 'A370T379VAAP4B': ['0739040251', '0739040251'], 'A2BXUV043WWTKW': ['0739040251', '0739040251'], 'A1PXB4OVLPLT4H': ['0739040308', '0739040308'], 'A2RI4VW44924NH': ['0739040308', '0739040308'], 'A3O2TMYU7E1V81': ['0739040308', '0739040308'], 'AVBWSI19JRCPQ': ['0739040308', '0739040308'], 'A2WNDXINN9PXEL': ['0739040308', '0739040308'], 'AZY4GP1W5N5KO': ['0739040308', '0739040308'], 'A1JHCSJLJA3M21': ['0739040308', '0739040308'], 'A3FYONMMFY4VK6': ['0739040375', '0739040375'], 'A31NJVE7JDIPR2': ['0739040375', '0739040375'], 'A1HXA6YKQJ7FNT': ['0739040375', '0739040375'], 'AFA6HGI3MW3SA': ['0739040375', '0739040375'], 'A1FPATLQSFTLC9': ['0739040375', '0739040375'], 'A30TM3EBHF2C7R': ['0739040375', '0739040375'], 'A2WIO7VLFWV4YV': ['0739040375', '0739040375'], 'A2GAXE9X97WYTW': ['0739040375', '0739040375'], 'A3QJ54LWTFXBIB': ['0739040375', '0739040375'], 'A1AO3SP66Q9ZWJ': ['0739040375', '0739040375'], 'AL1HYP266NWOJ': ['0739040375', '0739040375'], 'A1R8OFZY6CYX7G': ['0739040375', '0739040375'], 'AQ46HO28ZVEL3': ['0739040375', '0739040375'], 'A1GUCW7L3QYQ33': ['0739040375', '0739040375'], 'A3TITKW06F1W0': ['0739040375', '0739040375'], 'A35DFRN89NRVU1': ['0739040375', '0739040375'], 'A1MFT8DXOQJA9L': ['0739040375', '0739040375'], 'A29MLKCAZXX7AB': ['0739040375', '0739040375'], 'A1ZMV5QSAR8V2L': ['0739040375', '0739040375'], 'A2G7DYW6ILDGKL': ['0739040375', '0739040375'], 'AVU79AEIZQL8': ['0739040375', '0739040375'], 'A2FFKX759L9RFT': ['0739040375', '0739040375'], 'A31DJ1X8OARWYG': ['0739040375', '0739040375'], 'ALLHLOG4NLA0A': ['0739040375', '0739040375'], 'A3PNCYFSZW7JQ9': ['0739040375', '0739040375'], 'A1HOMEHH9SE7X3': ['0739040375', '0739040375'], 'A3DMR234MWQYSE': ['0739040375', '0739040375'], 'AX5ZI7JZMA2SY': ['0739040375', '0739040375'], 'A1K1ZKOHP4RQTW': ['0739040375', '0739040375'], 'A1FWCIDD38DYMU': ['0739040375', '0739040375'], 'AWU110TP1HTPF': ['0739040375', '0739040375'], 'A1JQDMDHOZTYCV': ['0739040375', '0739040375'], 'A3P3QBFRD6LR3L': ['0739040375', '0739040375'], 'APR59BMJNHKHX': ['0739040375', '0739040375'], 'ALKPRBP7WIUE2': ['0739040375', '0739040375'], 'A1GK60UC3GWN0V': ['0739042726', '0739042726']}\n"
     ]
    }
   ],
   "source": [
    "import gzip\n",
    "import json\n",
    "import ast\n",
    "\n",
    "limit = 10**2\n",
    "i = 0\n",
    "#reviewer_list = []\n",
    "#item_list = []\n",
    "d = {}\n",
    "file = gzip.open('reviews_Musical_Instruments.json.gz','r')\n",
    "for line in file:\n",
    "    if i > limit:\n",
    "        break\n",
    "    dict_str = line.decode(\"UTF-8\")\n",
    "    mydata = ast.literal_eval(dict_str)\n",
    "    reviewerid = mydata[\"reviewerID\"]\n",
    "    itemid = mydata[\"asin\"]\n",
    "    if reviewerid not in d:\n",
    "        d[reviewerid] = [itemid]\n",
    "    if reviewerid in d:\n",
    "        d[reviewerid].append(itemid)\n",
    "    i += 1\n",
    "\n",
    "print(d)\n"
   ]
  },
  {
   "cell_type": "code",
   "execution_count": 4,
   "metadata": {},
   "outputs": [
    {
     "data": {
      "text/html": [
       "<div>\n",
       "<style scoped>\n",
       "    .dataframe tbody tr th:only-of-type {\n",
       "        vertical-align: middle;\n",
       "    }\n",
       "\n",
       "    .dataframe tbody tr th {\n",
       "        vertical-align: top;\n",
       "    }\n",
       "\n",
       "    .dataframe thead th {\n",
       "        text-align: right;\n",
       "    }\n",
       "</style>\n",
       "<table border=\"1\" class=\"dataframe\">\n",
       "  <thead>\n",
       "    <tr style=\"text-align: right;\">\n",
       "      <th></th>\n",
       "      <th>reviewerID</th>\n",
       "      <th>asin</th>\n",
       "    </tr>\n",
       "  </thead>\n",
       "  <tbody>\n",
       "    <tr>\n",
       "      <th>0</th>\n",
       "      <td>A0002382258OFJJ2UYNTR</td>\n",
       "      <td>B0002F6IVI</td>\n",
       "    </tr>\n",
       "    <tr>\n",
       "      <th>1</th>\n",
       "      <td>A000744229JN9C72EHIVF</td>\n",
       "      <td>B005PWPUW6</td>\n",
       "    </tr>\n",
       "    <tr>\n",
       "      <th>2</th>\n",
       "      <td>A00097363JKNBC4UZRGPX</td>\n",
       "      <td>B002L2QAK4</td>\n",
       "    </tr>\n",
       "    <tr>\n",
       "      <th>3</th>\n",
       "      <td>A00116463B7B37ZYMF04A</td>\n",
       "      <td>B009E3EWPI</td>\n",
       "    </tr>\n",
       "    <tr>\n",
       "      <th>4</th>\n",
       "      <td>A001211614UB7M3DVLGSE</td>\n",
       "      <td>B000LCRP14</td>\n",
       "    </tr>\n",
       "    <tr>\n",
       "      <th>...</th>\n",
       "      <td>...</td>\n",
       "      <td>...</td>\n",
       "    </tr>\n",
       "    <tr>\n",
       "      <th>339226</th>\n",
       "      <td>AZZWPNME0GQZ2</td>\n",
       "      <td>B001E442NW,B002BIGD0U</td>\n",
       "    </tr>\n",
       "    <tr>\n",
       "      <th>339227</th>\n",
       "      <td>AZZX23UGJGKTT</td>\n",
       "      <td>B00006LVEU,B003GEF0YS,B005IQGKX2,B00CMRBWSI</td>\n",
       "    </tr>\n",
       "    <tr>\n",
       "      <th>339228</th>\n",
       "      <td>AZZXW4PH4OEEK</td>\n",
       "      <td>B002RGPQJ0</td>\n",
       "    </tr>\n",
       "    <tr>\n",
       "      <th>339229</th>\n",
       "      <td>AZZYI1EW1WY3M</td>\n",
       "      <td>B000J4I9VO</td>\n",
       "    </tr>\n",
       "    <tr>\n",
       "      <th>339230</th>\n",
       "      <td>AZZZTAPYKI9RD</td>\n",
       "      <td>B00169U96Y</td>\n",
       "    </tr>\n",
       "  </tbody>\n",
       "</table>\n",
       "<p>339231 rows × 2 columns</p>\n",
       "</div>"
      ],
      "text/plain": [
       "                   reviewerID                                         asin\n",
       "0       A0002382258OFJJ2UYNTR                                   B0002F6IVI\n",
       "1       A000744229JN9C72EHIVF                                   B005PWPUW6\n",
       "2       A00097363JKNBC4UZRGPX                                   B002L2QAK4\n",
       "3       A00116463B7B37ZYMF04A                                   B009E3EWPI\n",
       "4       A001211614UB7M3DVLGSE                                   B000LCRP14\n",
       "...                       ...                                          ...\n",
       "339226          AZZWPNME0GQZ2                        B001E442NW,B002BIGD0U\n",
       "339227          AZZX23UGJGKTT  B00006LVEU,B003GEF0YS,B005IQGKX2,B00CMRBWSI\n",
       "339228          AZZXW4PH4OEEK                                   B002RGPQJ0\n",
       "339229          AZZYI1EW1WY3M                                   B000J4I9VO\n",
       "339230          AZZZTAPYKI9RD                                   B00169U96Y\n",
       "\n",
       "[339231 rows x 2 columns]"
      ]
     },
     "execution_count": 4,
     "metadata": {},
     "output_type": "execute_result"
    }
   ],
   "source": [
    "# The code to set the whole table on pandas is the following:\n",
    "import gzip\n",
    "import json\n",
    "import ast\n",
    "import numpy as np\n",
    "import pandas as pd\n",
    "\n",
    "def parse(path):\n",
    "    g = gzip.open(path, 'rb')\n",
    "    for l in g:\n",
    "        yield eval(l)\n",
    "def getDF(path):\n",
    "    i = 0\n",
    "    df = {}\n",
    "    for d in parse(path):\n",
    "        df[i] = d\n",
    "        i += 1\n",
    "    return pd.DataFrame.from_dict(df, orient='index')\n",
    "df = getDF('reviews_Musical_Instruments.json.gz')\n",
    "#df  is the whole table of data, we need to act on this\n",
    "# very imp code : https://stackoverflow.com/questions/49405101/grouping-all-rows-of-a-pandas-dataframewith-many-columns-with-the-same-value-i\n",
    "df = df[['reviewerID','asin']]\n",
    "df1 = df.astype(str).groupby('reviewerID').agg(','.join).reset_index()\n",
    "df1"
   ]
  },
  {
   "cell_type": "code",
   "execution_count": null,
   "metadata": {},
   "outputs": [],
   "source": []
  }
 ],
 "metadata": {
  "kernelspec": {
   "display_name": "Python 3",
   "language": "python",
   "name": "python3"
  },
  "language_info": {
   "codemirror_mode": {
    "name": "ipython",
    "version": 3
   },
   "file_extension": ".py",
   "mimetype": "text/x-python",
   "name": "python",
   "nbconvert_exporter": "python",
   "pygments_lexer": "ipython3",
   "version": "3.8.5"
  }
 },
 "nbformat": 4,
 "nbformat_minor": 4
}

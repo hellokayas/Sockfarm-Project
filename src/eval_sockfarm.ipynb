{
 "cells": [
  {
   "cell_type": "code",
   "execution_count": null,
   "metadata": {},
   "outputs": [],
   "source": [
    "import argparse\n",
    "import pickle\n",
    "from pathlib import Path\n",
    "\n",
    "import fraud_eagle as feagle\n",
    "import fraudar\n",
    "import networkx as nx\n",
    "import numpy as np\n",
    "import pandas as pd\n",
    "import rsd\n",
    "\n",
    "from rev2 import rev2compute\n",
    "from utils import load_data, split_data_by_time\n",
    "\n",
    "import seaborn as sns\n",
    "import matplotlib.pyplot as plt\n",
    "\n",
    "import sklearn.metrics\n",
    "\n",
    "import warnings\n",
    "from sklearn.exceptions import UndefinedMetricWarning\n",
    "warnings.filterwarnings(action='ignore', category=UndefinedMetricWarning)"
   ]
  },
  {
   "cell_type": "code",
   "execution_count": null,
   "metadata": {},
   "outputs": [],
   "source": [
    "alg_list = [\"fraudar\", \"rsd\", \"rev2\"][:3]\n",
    "data_list = [\"alpha\", \"otc\", \"amazon\", \"epinions\"][:3]\n",
    "budget_list = [100.0, 200.0, 300.0, 400.0]\n",
    "frac_list = [0.0, 0.2, 0.4, 0.6, 0.8]"
   ]
  },
  {
   "cell_type": "code",
   "execution_count": null,
   "metadata": {},
   "outputs": [],
   "source": [
    "def get_results(data_name=\"alpha\", alg=\"fraudar\", attack_name=\"ilp_attack\", budget=100):\n",
    "    data_nw_df, data_gt_df = load_data(data_name=data_name)\n",
    "    p = Path(f\"../res/{attack_name}/{alg}-{data_name}/{budget}.pkl\")\n",
    "    if not p.exists():\n",
    "        print(p)\n",
    "        return None\n",
    "    with open(p, \"rb\") as fp:\n",
    "        scores = pickle.load(fp)\n",
    "        scores = dict(zip(range(len(scores)), scores))\n",
    "        # 1 means fraudster, 0 means benign\n",
    "        scores[\"truth\"] = {\n",
    "            a: dict(zip(data_gt_df[\"id\"], (1-data_gt_df[\"label\"])/2))\n",
    "            for a in alg_list\n",
    "        }\n",
    "    # df = pd.DataFrame({sp: {u: scores[sp][u] for u in scores[sp] if u in data_gt_df[\"id\"].tolist()} for sp in scores})\n",
    "    df = pd.DataFrame({(a, sp): {u: scores[sp][a][u] for u in scores[sp][a]} for a in alg_list for sp in scores})\n",
    "    df.loc[[u[:5]==\"usock\" for u in df.index.tolist()], (slice(None), \"truth\")] = 1\n",
    "    df.loc[[u[:6]==\"udummy\" for u in df.index.tolist()], (slice(None), \"truth\")] = 1\n",
    "    return df"
   ]
  },
  {
   "cell_type": "code",
   "execution_count": null,
   "metadata": {},
   "outputs": [],
   "source": [
    "def get_metrics(df_res, splits=4, K=None, th_dict=None):\n",
    "    if df_res is None:\n",
    "        return None\n",
    "    ret = {}\n",
    "    for sp in range(splits):\n",
    "        # df_res[\"truth\"] = df_res[\"truth\"].fillna(1)\n",
    "        # df_res.loc[[u[:5]==\"usock\" for u in df_res.index.tolist()], \"truth\"] = 1\n",
    "        # df_res.loc[[u[:6]==\"udummy\" for u in df_res.index.tolist()], \"truth\"] = 1\n",
    "        for a in alg_list:\n",
    "            df = df_res[[(a, sp), (a, \"truth\")]].dropna()\n",
    "            t = df[(a, \"truth\")].sum() if K is None else K\n",
    "            t_frac = t / df.shape[0]\n",
    "            # df[\"pred\"] = (df[sp].rank(ascending=False, method=\"min\") <= t) * 1\n",
    "            # df[\"pred\"] = df[sp] >= t_frac\n",
    "            df[(a, \"pred\")] = df[(a, sp)] >= th_dict[a]\n",
    "\n",
    "            ret[(a, sp)] = {\n",
    "                \"precision\": sklearn.metrics.precision_score(y_true=df[(a, \"truth\")], y_pred=df[(a, \"pred\")]),\n",
    "                \"recall\": sklearn.metrics.recall_score(y_true=df[(a, \"truth\")], y_pred=df[(a, \"pred\")]),\n",
    "                \"f1\": sklearn.metrics.f1_score(y_true=df[(a, \"truth\")], y_pred=df[(a, \"pred\")])\n",
    "            }\n",
    "    return ret"
   ]
  },
  {
   "cell_type": "code",
   "execution_count": null,
   "metadata": {},
   "outputs": [],
   "source": [
    "attack_res = {\n",
    "    (d, a, b): get_results(data_name=d, alg=a, attack_name=\"sockfarm_attack\", budget=b)\n",
    "    for d in data_list for a in alg_list\n",
    "    for b in budget_list\n",
    "}"
   ]
  },
  {
   "cell_type": "code",
   "execution_count": null,
   "metadata": {},
   "outputs": [],
   "source": [
    "# attack_res[(\"otc\", \"rev2\", 400.0)].to_csv(\"ar.csv\")"
   ]
  },
  {
   "cell_type": "code",
   "execution_count": null,
   "metadata": {},
   "outputs": [],
   "source": [
    "th_dict = {\n",
    "    \"fraudar\": 0.5,\n",
    "    \"rsd\": 0.6,\n",
    "    \"rev2\": 0.5,\n",
    "}\n",
    "\n",
    "\n",
    "dict_met = {\n",
    "    (d, a, b): pd.DataFrame.from_dict(get_metrics(df_res=attack_res[(d, a, b)], splits=4, K=None, th_dict=th_dict))\n",
    "    for d, a, b in attack_res\n",
    "}\n",
    "df_met = pd.concat(dict_met, keys=dict_met.keys())\n",
    "df_met.index = df_met.index.set_names([\"data\", \"algo\", \"budget\", \"metrics\"])\n",
    "df_met = df_met.mean(axis=1, level=0)\n",
    "display(df_met)"
   ]
  },
  {
   "cell_type": "code",
   "execution_count": null,
   "metadata": {},
   "outputs": [],
   "source": [
    "def get_sockfarm_alg_data_met(df_met, data=\"alpha\", met=\"f1\"):\n",
    "    rdf = df_met.reset_index().pivot(index=[\"data\", \"algo\", \"metrics\"], columns=[\"budget\"]).loc[(data, slice(None), met)].droplevel([0, 2], axis=0)\n",
    "    rdf.index = [f\"sockfarm-{i}\" for i in rdf.index]\n",
    "    return rdf"
   ]
  },
  {
   "cell_type": "code",
   "execution_count": null,
   "metadata": {},
   "outputs": [],
   "source": [
    "get_sockfarm_alg_data_met(df_met, data=\"amazon\", met=\"precision\")"
   ]
  }
 ],
 "metadata": {
  "kernelspec": {
   "display_name": "dgl",
   "language": "python",
   "name": "dgl"
  },
  "language_info": {
   "codemirror_mode": {
    "name": "ipython",
    "version": 3
   },
   "file_extension": ".py",
   "mimetype": "text/x-python",
   "name": "python",
   "nbconvert_exporter": "python",
   "pygments_lexer": "ipython3",
   "version": "3.8.5"
  }
 },
 "nbformat": 4,
 "nbformat_minor": 4
}

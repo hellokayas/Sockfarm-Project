{
 "cells": [
  {
   "cell_type": "code",
   "execution_count": 1,
   "metadata": {},
   "outputs": [],
   "source": [
    "import numpy as np\n",
    "import pandas as pd\n",
    "import seaborn as sns\n",
    "\n",
    "from datetime import datetime"
   ]
  },
  {
   "cell_type": "code",
   "execution_count": 2,
   "metadata": {},
   "outputs": [],
   "source": [
    "data_name = \"amazon\"\n",
    "\n",
    "data_nw_df = pd.read_csv(f\"../rev2data/{data_name}/{data_name}_network.csv\", header=None, names=['src', 'dest', 'rating', 'timestamp'], parse_dates=[3], infer_datetime_format=True)\n",
    "data_gt_df = pd.read_csv(f\"../rev2data/{data_name}/{data_name}_gt.csv\", header=None, names=['id', 'label'])\n",
    "\n",
    "if data_name != \"epinions\":\n",
    "    data_nw_df[\"timestamp\"] = data_nw_df[\"timestamp\"].astype(int).apply(datetime.fromtimestamp)"
   ]
  },
  {
   "cell_type": "code",
   "execution_count": 3,
   "metadata": {
    "scrolled": true
   },
   "outputs": [
    {
     "name": "stdout",
     "output_type": "stream",
     "text": [
      "1999-10-07 20:00:00 2012-10-25 20:00:00\n"
     ]
    }
   ],
   "source": [
    "print(data_nw_df[\"timestamp\"].min(), data_nw_df[\"timestamp\"].max())"
   ]
  },
  {
   "cell_type": "code",
   "execution_count": 2,
   "metadata": {},
   "outputs": [],
   "source": [
    "data_name = \"alpha\"\n",
    "\n",
    "data_nw_df = pd.read_csv(\"alpha_network.csv\", header=None, names=['src', 'dest', 'rating', 'timestamp'], parse_dates=[3], infer_datetime_format=True)\n",
    "data_gt_df = pd.read_csv(\"alpha_gt.csv\", header=None, names=['id', 'label'])\n",
    "\n",
    "if data_name != \"epinions\":\n",
    "    data_nw_df[\"timestamp\"] = data_nw_df[\"timestamp\"].astype(int).apply(datetime.fromtimestamp)"
   ]
  },
  {
   "cell_type": "code",
   "execution_count": 3,
   "metadata": {
    "scrolled": true
   },
   "outputs": [
    {
     "name": "stdout",
     "output_type": "stream",
     "text": [
      "2010-11-08 00:00:00 2016-01-22 00:00:00\n"
     ]
    }
   ],
   "source": [
    "print(data_nw_df[\"timestamp\"].min(), data_nw_df[\"timestamp\"].max())"
   ]
  },
  {
   "cell_type": "code",
   "execution_count": 4,
   "metadata": {
    "scrolled": true
   },
   "outputs": [
    {
     "name": "stdout",
     "output_type": "stream",
     "text": [
      "2001/0 2002/05/30\n"
     ]
    }
   ],
   "source": [
    "epdata_nw_df = pd.read_csv(\"epinions_network.csv\", header=None, names=['src', 'dest', 'rating', 'timestamp'], parse_dates=[3], infer_datetime_format=True)\n",
    "print(epdata_nw_df[\"timestamp\"].min(), epdata_nw_df[\"timestamp\"].max())"
   ]
  },
  {
   "cell_type": "code",
   "execution_count": 6,
   "metadata": {},
   "outputs": [
    {
     "name": "stdout",
     "output_type": "stream",
     "text": [
      "1289241911.72836 1453684323.75728\n"
     ]
    }
   ],
   "source": [
    "data_name = \"otc\"\n",
    "\n",
    "data_nw_df = pd.read_csv(\"otc_network.csv\", header=None, names=['src', 'dest', 'rating', 'timestamp'], parse_dates=[3], infer_datetime_format=True)\n",
    "\n",
    "print(data_nw_df[\"timestamp\"].min(), data_nw_df[\"timestamp\"].max())"
   ]
  },
  {
   "cell_type": "code",
   "execution_count": 4,
   "metadata": {},
   "outputs": [
    {
     "data": {
      "text/plain": [
       "Text(0.5, 0, '#reviews from user')"
      ]
     },
     "execution_count": 4,
     "metadata": {},
     "output_type": "execute_result"
    },
    {
     "data": {
      "image/png": "[encoded data removed]",
      "text/plain": [
       "<Figure size 432x288 with 1 Axes>"
      ]
     },
     "metadata": {
      "needs_background": "light"
     },
     "output_type": "display_data"
    }
   ],
   "source": [
    "data_src_cnt = data_nw_df.groupby(\"src\").size()\n",
    "ax = sns.histplot(data_src_cnt, stat=\"probability\", bins=50, kde=False)\n",
    "ax.set_xlabel(\"#reviews from user\")"
   ]
  },
  {
   "cell_type": "code",
   "execution_count": 5,
   "metadata": {},
   "outputs": [
    {
     "data": {
      "text/plain": [
       "Text(0.5, 0, '#reviews to product')"
      ]
     },
     "execution_count": 5,
     "metadata": {},
     "output_type": "execute_result"
    },
    {
     "data": {
      "image/png": "[encoded data removed]",
      "text/plain": [
       "<Figure size 432x288 with 1 Axes>"
      ]
     },
     "metadata": {
      "needs_background": "light"
     },
     "output_type": "display_data"
    }
   ],
   "source": [
    "data_dest_cnt = data_nw_df.groupby(\"dest\").size()\n",
    "ax = sns.histplot(data_dest_cnt, stat=\"probability\", bins=50, kde=False)\n",
    "ax.set_xlabel(\"#reviews to product\")"
   ]
  },
  {
   "cell_type": "code",
   "execution_count": 6,
   "metadata": {},
   "outputs": [
    {
     "data": {
      "text/plain": [
       "Text(0.5, 0, '#reviews from labeled user')"
      ]
     },
     "execution_count": 6,
     "metadata": {},
     "output_type": "execute_result"
    },
    {
     "data": {
      "image/png": "[encoded data removed]",
      "text/plain": [
       "<Figure size 432x288 with 1 Axes>"
      ]
     },
     "metadata": {
      "needs_background": "light"
     },
     "output_type": "display_data"
    }
   ],
   "source": [
    "data_nw_gt = data_nw_df[data_nw_df[\"src\"].isin(data_gt_df[\"id\"])]\n",
    "data_src_cnt = data_nw_gt.groupby(\"src\").size()\n",
    "ax = sns.histplot(data_src_cnt, stat=\"probability\", bins=50, kde=False)\n",
    "ax.set_xlabel(\"#reviews from labeled user\")"
   ]
  },
  {
   "cell_type": "code",
   "execution_count": 7,
   "metadata": {
    "scrolled": true
   },
   "outputs": [
    {
     "data": {
      "text/plain": [
       "Text(0.5, 0, '#reviews to product by labeled user')"
      ]
     },
     "execution_count": 7,
     "metadata": {},
     "output_type": "execute_result"
    },
    {
     "data": {
      "image/png": "[encoded data removed]",
      "text/plain": [
       "<Figure size 432x288 with 1 Axes>"
      ]
     },
     "metadata": {
      "needs_background": "light"
     },
     "output_type": "display_data"
    }
   ],
   "source": [
    "data_dest_cnt = data_nw_gt.groupby(\"dest\").size()\n",
    "ax = sns.histplot(data_dest_cnt, stat=\"probability\", bins=50, kde=False)\n",
    "ax.set_xlabel(\"#reviews to product by labeled user\")"
   ]
  },
  {
   "cell_type": "code",
   "execution_count": null,
   "metadata": {},
   "outputs": [],
   "source": []
  }
 ],
 "metadata": {
  "kernelspec": {
   "display_name": "myenv",
   "language": "python",
   "name": "myenv"
  },
  "language_info": {
   "codemirror_mode": {
    "name": "ipython",
    "version": 3
   },
   "file_extension": ".py",
   "mimetype": "text/x-python",
   "name": "python",
   "nbconvert_exporter": "python",
   "pygments_lexer": "ipython3",
   "version": "3.8.5"
  }
 },
 "nbformat": 4,
 "nbformat_minor": 4
}

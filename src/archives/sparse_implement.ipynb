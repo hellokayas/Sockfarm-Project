{
 "cells": [
  {
   "cell_type": "code",
   "execution_count": 9,
   "metadata": {},
   "outputs": [
    {
     "data": {
      "text/plain": [
       "([8081, 851, 482, 3845, 3625, 7605, 8160, 5095, 8910, 6398],\n",
       " [2022, 431, 8667, 1513, 9974, 4990, 2259, 4551, 2995, 2168])"
      ]
     },
     "execution_count": 9,
     "metadata": {},
     "output_type": "execute_result"
    }
   ],
   "source": [
    "import random\n",
    "#data = np.ones(1000)\n",
    "# making sure that the elems in each row and cols are unique will guarnatee that elems in matrix are bin\n",
    "# %reset\n",
    "def createRandomSortedList(num, start, end): \n",
    "    arr = [] \n",
    "    tmp = random.randint(start, end) \n",
    "      \n",
    "    for x in range(num): \n",
    "          \n",
    "        while tmp in arr: \n",
    "            tmp = random.randint(start, end) \n",
    "              \n",
    "        arr.append(tmp) \n",
    "    return arr \n",
    "myrow = createRandomSortedList(10, 1, 10000)\n",
    "mycol = createRandomSortedList(10, 1, 10000)\n",
    "myrow,mycol"
   ]
  },
  {
   "cell_type": "code",
   "execution_count": 12,
   "metadata": {},
   "outputs": [
    {
     "data": {
      "text/plain": [
       "array([[ 9.70596995e-17, -8.10218659e-17, -5.52113835e-17, ...,\n",
       "         2.71402893e-18,  7.70577946e-20,  1.59466049e-32],\n",
       "       [-9.09590747e-17, -8.73848320e-17, -6.08409685e-17, ...,\n",
       "        -9.09039705e-18,  4.95001094e-18, -4.60883355e-32],\n",
       "       [ 6.17013691e-17,  9.96107008e-17, -3.12623960e-17, ...,\n",
       "        -1.52549242e-19, -2.39751997e-18,  5.88033479e-32],\n",
       "       ...,\n",
       "       [ 0.00000000e+00,  0.00000000e+00,  0.00000000e+00, ...,\n",
       "         0.00000000e+00,  0.00000000e+00,  0.00000000e+00],\n",
       "       [ 0.00000000e+00,  0.00000000e+00,  0.00000000e+00, ...,\n",
       "         0.00000000e+00,  0.00000000e+00,  0.00000000e+00],\n",
       "       [ 0.00000000e+00,  0.00000000e+00,  0.00000000e+00, ...,\n",
       "         0.00000000e+00,  0.00000000e+00,  0.00000000e+00]])"
      ]
     },
     "execution_count": 12,
     "metadata": {},
     "output_type": "execute_result"
    }
   ],
   "source": [
    "import gzip\n",
    "import json\n",
    "import ast\n",
    "import numpy as np\n",
    "import pandas as pd\n",
    "from scipy.sparse import coo_matrix\n",
    "from scipy.sparse import lil_matrix\n",
    "from numpy.random import rand\n",
    "from scipy.sparse import csr_matrix, isspmatrix_csr\n",
    "\n",
    "\n",
    "row  = np.array(myrow)\n",
    "col  = np.array(mycol)\n",
    "newdata = np.array(np.ones(10))\n",
    "data = np.array(newdata)\n",
    "A = coo_matrix((data, (row, col)), shape=(10000, 10000)).tocsr()\n",
    "#At = coo_matrix((data, (col, row)), shape=(10000, 10000)).tocsr()\n",
    "k = 300\n",
    "l = k+20\n",
    "m = 10000\n",
    "n = 10000\n",
    "# now in the first step we choose k = 100, l = 102, i = 2, A is considered mxn , so m = 10000, n= 5000\n",
    "# In the first step, Using a random number generator, form a real n × l matrix G whose entries are independent and identically distributed\n",
    "# Gaussian random variables of zero mean and unit variance\n",
    "mu = 0\n",
    "sigma = 1.0\n",
    "G = np.random.normal(mu, sigma, (n,l))\n",
    "#Compute B = AG (B ∈ R^ m×l )\n",
    "#B = np.matmul(A,G)#---------------------------------------------------------one multiplication by A\n",
    "B = []\n",
    "for i in range(l):\n",
    "    v = G[:,i]\n",
    "    x = A.dot(v)\n",
    "    B.append(x)\n",
    "B = np.array(B).T\n",
    "A = None # no more needed\n",
    "G = None# not reqd anymore\n",
    "X, lamda, Yt = np.linalg.svd(B, full_matrices=True)\n",
    "\n",
    "lamda = None\n",
    "Yt =  None\n",
    "Q = X[:, : k] #(Q ∈ R m×k )\n",
    "#Qt = Q.transpose()\n",
    "\n",
    "#T = np.matmul(Qt,A)#-------------------------------2nd mult by A, only these two are there in this algo\n",
    "At = coo_matrix((data, (col, row)), shape=(10000, 10000)).tocsr()\n",
    "T = []\n",
    "for i in range(k):\n",
    "    v = Q[:,i]\n",
    "    x = At.dot(v)\n",
    "    T.append(x)\n",
    "T = np.array(T)\n",
    "At = None# not needed anymore\n",
    "row = None\n",
    "col = None\n",
    "W, singlr, Vt = np.linalg.svd(T, full_matrices=True)\n",
    "T = None# not needed anymore\n",
    "Vt = None# not needed for the smaller dim matrix creation\n",
    "U = np.matmul(Q,W)\n",
    "Q = None\n",
    "W = None\n",
    "final = np.multiply(U,singlr)\n",
    "\n",
    "final\n",
    "#df = pd.DataFrame (final)\n",
    "#filepath = 'output.xlsx'\n",
    "#df.to_excel(filepath, index=False)"
   ]
  },
  {
   "cell_type": "code",
   "execution_count": 6,
   "metadata": {},
   "outputs": [
    {
     "data": {
      "text/plain": [
       "array([1., 1., 1., 1., 1., 1., 1., 1., 1., 1.])"
      ]
     },
     "execution_count": 6,
     "metadata": {},
     "output_type": "execute_result"
    }
   ],
   "source": [
    "import numpy as np\n",
    "newdata = np.ones(10)\n",
    "newdata"
   ]
  },
  {
   "cell_type": "code",
   "execution_count": 11,
   "metadata": {},
   "outputs": [],
   "source": [
    "# this is how we can clear the memory for further computations\n",
    "a = 1\n",
    "a = None\n",
    "#del a\n",
    "a"
   ]
  },
  {
   "cell_type": "code",
   "execution_count": null,
   "metadata": {},
   "outputs": [],
   "source": []
  }
 ],
 "metadata": {
  "kernelspec": {
   "display_name": "Python 3",
   "language": "python",
   "name": "python3"
  },
  "language_info": {
   "codemirror_mode": {
    "name": "ipython",
    "version": 3
   },
   "file_extension": ".py",
   "mimetype": "text/x-python",
   "name": "python",
   "nbconvert_exporter": "python",
   "pygments_lexer": "ipython3",
   "version": "3.7.3"
  }
 },
 "nbformat": 4,
 "nbformat_minor": 4
}

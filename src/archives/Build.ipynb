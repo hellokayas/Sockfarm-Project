{
 "cells": [
  {
   "cell_type": "code",
   "execution_count": 1,
   "metadata": {},
   "outputs": [],
   "source": [
    "import numpy as np\n",
    "import pandas as pd\n",
    "from numpy.random import rand\n",
    "import gzip\n",
    "import json\n",
    "import ast\n",
    "from scipy.cluster.vq import kmeans2\n",
    "import matplotlib.pyplot as plt"
   ]
  },
  {
   "cell_type": "code",
   "execution_count": 5,
   "metadata": {},
   "outputs": [
    {
     "data": {
      "text/plain": [
       "(1, 1, 0)"
      ]
     },
     "execution_count": 5,
     "metadata": {},
     "output_type": "execute_result"
    }
   ],
   "source": [
    "# we test with bin matrices which has 300 columns corresponding to dimension of points\n",
    "# we take 10 rows which is the number of accounts, this value should be around 10^6 to be set later\n",
    "mu = 0\n",
    "sigma = 1.0\n",
    "A = np.random.normal(mu, sigma, (10,300))\n",
    "#Now do the 2-means and get the output.\n",
    "centroid, label = kmeans2(A, 2, minit='points')\n",
    "#centroid will be two arrays each of 10 dimension for the two clusters\n",
    "# label[i] is the code or index of the centroid the ith observation is closest to.\n",
    "label[2],label[4],label[7]# sample testing"
   ]
  },
  {
   "cell_type": "code",
   "execution_count": 7,
   "metadata": {},
   "outputs": [
    {
     "data": {
      "text/plain": [
       "[1, 2, 7]"
      ]
     },
     "execution_count": 7,
     "metadata": {},
     "output_type": "execute_result"
    }
   ],
   "source": [
    "# Now we write the function that partitons A into A0 and A1\n",
    "# A0 and A1 are lists which will contain only the indices of the rows which are supposed to be in A0 and A1\n",
    "# partition takes an arr which means it contains the matrix made up of A[arr[i]]\n",
    "# we need to form matrix from the rows of A as mentioned in arr\n",
    "arr = list(range(10))# later this should be list(range(10**6))\n",
    "def partition(arr):\n",
    "    matrix = []\n",
    "    for i in range(len(arr)):\n",
    "        matrix.append(A[i,:])\n",
    "    matrix = np.array(matrix)\n",
    "    centroid, label = kmeans2(matrix, 2, minit='points')\n",
    "    A0,A1 = [],[]\n",
    "    for i in range(len(arr)):# this is the num of the rows, i.e. the num of accts\n",
    "        if label[i] == 0:\n",
    "            A0.append(i)# means A[i] should be in this as a row\n",
    "        else:\n",
    "            A1.append(i)# means A[i] should be in this as a row\n",
    "    #A0 = np.array(A0)\n",
    "    #A1 = np.array(A1)\n",
    "    return (A0,A1)# returns two lists so that x = A0[i], A[x] will give the reqd row\n",
    "\n",
    "x,y = partition(A)\n",
    "x"
   ]
  },
  {
   "cell_type": "code",
   "execution_count": 17,
   "metadata": {},
   "outputs": [
    {
     "name": "stdout",
     "output_type": "stream",
     "text": [
      "[10, [7, [2], [5, [1], [4]]], [3]]\n"
     ]
    }
   ],
   "source": [
    "tau = 3\n",
    "# data contains lists which contain indices i. A[i] will be the reqd rows, to start with data = [0,...,9]\n",
    "class Node:\n",
    "    def __init__ (self, data, parent = None):\n",
    "        #self.width = width\n",
    "        #self.height = height\n",
    "        self.parent = parent\n",
    "        self.children = []\n",
    "        self.data = data\n",
    "\n",
    "    @property\n",
    "    def level (self):\n",
    "        return 0 if not self.parent else 1 + self.parent.level\n",
    "\n",
    "    def split (self):\n",
    "        #if self.children == []: return\n",
    "        numrow = len(self.data)\n",
    "        if numrow <= tau:\n",
    "            self.children = []\n",
    "            return\n",
    "        A1,A2 = partition(self.data)\n",
    "        self.children = [Node(A1, self),Node(A2, self)]\n",
    "        \n",
    "    def splitUntilLevel (self, maxLevel):\n",
    "        if maxLevel <= self.level: return\n",
    "        self.split ()\n",
    "        for child in self.children: child.splitUntilLevel (maxLevel)\n",
    "\n",
    "    #def __str__ (self):# this needs to be written suiably for printing the tree\n",
    "     #   s = \"{}\".format(self.data)\n",
    "      #  for child in self.children: s += str (child)\n",
    "       # return s\n",
    "    def sizeofNodes(self):\n",
    "        s = [len(self.data)]\n",
    "        for child in self.children:\n",
    "            s.append(child.sizeofNodes())\n",
    "        #print(s)\n",
    "        return s\n",
    "    \n",
    "N = Node(list(range(10)))\n",
    "N.splitUntilLevel (3)\n",
    "print(N.sizeofNodes())\n"
   ]
  },
  {
   "cell_type": "code",
   "execution_count": null,
   "metadata": {},
   "outputs": [],
   "source": []
  }
 ],
 "metadata": {
  "kernelspec": {
   "display_name": "Python 3",
   "language": "python",
   "name": "python3"
  },
  "language_info": {
   "codemirror_mode": {
    "name": "ipython",
    "version": 3
   },
   "file_extension": ".py",
   "mimetype": "text/x-python",
   "name": "python",
   "nbconvert_exporter": "python",
   "pygments_lexer": "ipython3",
   "version": "3.8.5"
  }
 },
 "nbformat": 4,
 "nbformat_minor": 4
}

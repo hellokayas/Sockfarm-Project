{
 "cells": [
  {
   "cell_type": "code",
   "execution_count": 1,
   "metadata": {},
   "outputs": [],
   "source": [
    "import numpy as np\n",
    "import pandas as pd\n",
    "import seaborn as sns"
   ]
  },
  {
   "cell_type": "code",
   "execution_count": 5,
   "metadata": {},
   "outputs": [
    {
     "data": {
      "text/html": [
       "<div>\n",
       "<style scoped>\n",
       "    .dataframe tbody tr th:only-of-type {\n",
       "        vertical-align: middle;\n",
       "    }\n",
       "\n",
       "    .dataframe tbody tr th {\n",
       "        vertical-align: top;\n",
       "    }\n",
       "\n",
       "    .dataframe thead th {\n",
       "        text-align: right;\n",
       "    }\n",
       "</style>\n",
       "<table border=\"1\" class=\"dataframe\">\n",
       "  <thead>\n",
       "    <tr style=\"text-align: right;\">\n",
       "      <th></th>\n",
       "      <th>src</th>\n",
       "      <th>Dest</th>\n",
       "      <th>Rating</th>\n",
       "      <th>Timestamp</th>\n",
       "    </tr>\n",
       "  </thead>\n",
       "  <tbody>\n",
       "    <tr>\n",
       "      <th>1275</th>\n",
       "      <td>2</td>\n",
       "      <td>402</td>\n",
       "      <td>1</td>\n",
       "      <td>1289192400</td>\n",
       "    </tr>\n",
       "    <tr>\n",
       "      <th>4003</th>\n",
       "      <td>10</td>\n",
       "      <td>970</td>\n",
       "      <td>8</td>\n",
       "      <td>1289192400</td>\n",
       "    </tr>\n",
       "    <tr>\n",
       "      <th>4004</th>\n",
       "      <td>10</td>\n",
       "      <td>271</td>\n",
       "      <td>8</td>\n",
       "      <td>1289192400</td>\n",
       "    </tr>\n",
       "    <tr>\n",
       "      <th>10468</th>\n",
       "      <td>113</td>\n",
       "      <td>54</td>\n",
       "      <td>4</td>\n",
       "      <td>1289192400</td>\n",
       "    </tr>\n",
       "  </tbody>\n",
       "</table>\n",
       "</div>"
      ],
      "text/plain": [
       "       src  Dest  Rating   Timestamp\n",
       "1275     2   402       1  1289192400\n",
       "4003    10   970       8  1289192400\n",
       "4004    10   271       8  1289192400\n",
       "10468  113    54       4  1289192400"
      ]
     },
     "execution_count": 5,
     "metadata": {},
     "output_type": "execute_result"
    }
   ],
   "source": [
    "alpha_network_data = pd.read_csv(\"alpha_network.csv\")\n",
    "alpha_network_data.columns=[\"src\", \"Dest\", \"Rating\", \"Timestamp\"]\n",
    "#alpha_network_data = alpha_network_data[[\"src\", \"Dest\"]]\n",
    "#alpha_network_data1 = alpha_network_data.astype(str).groupby(\"Dest\").agg(','.join).reset_index()\n",
    "#alpha_network_data\n",
    "alpha_network_data[alpha_network_data[\"Timestamp\"]==alpha_network_data[\"Timestamp\"].min()]"
   ]
  },
  {
   "cell_type": "code",
   "execution_count": 6,
   "metadata": {},
   "outputs": [
    {
     "data": {
      "text/html": [
       "<div>\n",
       "<style scoped>\n",
       "    .dataframe tbody tr th:only-of-type {\n",
       "        vertical-align: middle;\n",
       "    }\n",
       "\n",
       "    .dataframe tbody tr th {\n",
       "        vertical-align: top;\n",
       "    }\n",
       "\n",
       "    .dataframe thead th {\n",
       "        text-align: right;\n",
       "    }\n",
       "</style>\n",
       "<table border=\"1\" class=\"dataframe\">\n",
       "  <thead>\n",
       "    <tr style=\"text-align: right;\">\n",
       "      <th></th>\n",
       "      <th>src</th>\n",
       "      <th>Dest</th>\n",
       "      <th>Rating</th>\n",
       "      <th>Timestamp</th>\n",
       "    </tr>\n",
       "  </thead>\n",
       "  <tbody>\n",
       "    <tr>\n",
       "      <th>5381</th>\n",
       "      <td>15</td>\n",
       "      <td>3451</td>\n",
       "      <td>1</td>\n",
       "      <td>1453438800</td>\n",
       "    </tr>\n",
       "    <tr>\n",
       "      <th>13593</th>\n",
       "      <td>3451</td>\n",
       "      <td>98</td>\n",
       "      <td>5</td>\n",
       "      <td>1453438800</td>\n",
       "    </tr>\n",
       "  </tbody>\n",
       "</table>\n",
       "</div>"
      ],
      "text/plain": [
       "        src  Dest  Rating   Timestamp\n",
       "5381     15  3451       1  1453438800\n",
       "13593  3451    98       5  1453438800"
      ]
     },
     "execution_count": 6,
     "metadata": {},
     "output_type": "execute_result"
    }
   ],
   "source": [
    "alpha_gt_data = pd.read_csv(\"alpha_gt.csv\")\n",
    "alpha_gt_data.columns = [\"ID\",\"Label\"]\n",
    "#alpha_gt_data\n",
    "\n",
    "alpha_network_data = pd.read_csv(\"alpha_network.csv\")\n",
    "alpha_network_data.columns=[\"src\", \"Dest\", \"Rating\", \"Timestamp\"]\n",
    "#alpha_network_data = alpha_network_data[[\"src\", \"Dest\"]]\n",
    "#alpha_network_data1 = alpha_network_data.astype(str).groupby(\"Dest\").agg(','.join).reset_index()\n",
    "#alpha_network_data\n",
    "alpha_network_data[alpha_network_data[\"Timestamp\"]==alpha_network_data[\"Timestamp\"].max()]"
   ]
  },
  {
   "cell_type": "code",
   "execution_count": 18,
   "metadata": {},
   "outputs": [
    {
     "data": {
      "text/html": [
       "<div>\n",
       "<style scoped>\n",
       "    .dataframe tbody tr th:only-of-type {\n",
       "        vertical-align: middle;\n",
       "    }\n",
       "\n",
       "    .dataframe tbody tr th {\n",
       "        vertical-align: top;\n",
       "    }\n",
       "\n",
       "    .dataframe thead th {\n",
       "        text-align: right;\n",
       "    }\n",
       "</style>\n",
       "<table border=\"1\" class=\"dataframe\">\n",
       "  <thead>\n",
       "    <tr style=\"text-align: right;\">\n",
       "      <th></th>\n",
       "      <th>src</th>\n",
       "      <th>Dest</th>\n",
       "      <th>Rating</th>\n",
       "      <th>Timestamp</th>\n",
       "    </tr>\n",
       "  </thead>\n",
       "  <tbody>\n",
       "    <tr>\n",
       "      <th>5381</th>\n",
       "      <td>15</td>\n",
       "      <td>3451</td>\n",
       "      <td>1</td>\n",
       "      <td>1453438800</td>\n",
       "    </tr>\n",
       "  </tbody>\n",
       "</table>\n",
       "</div>"
      ],
      "text/plain": [
       "      src  Dest  Rating   Timestamp\n",
       "5381   15  3451       1  1453438800"
      ]
     },
     "execution_count": 18,
     "metadata": {},
     "output_type": "execute_result"
    }
   ],
   "source": [
    "alpha_network_gt = alpha_network_data[alpha_network_data[\"src\"].isin(alpha_gt_data[\"ID\"])]\n",
    "#alpha_network_gt\n",
    "alpha_network_gt[alpha_network_gt[\"Timestamp\"]==alpha_network_gt[\"Timestamp\"].max()]"
   ]
  },
  {
   "cell_type": "code",
   "execution_count": 19,
   "metadata": {},
   "outputs": [
    {
     "data": {
      "text/html": [
       "<div>\n",
       "<style scoped>\n",
       "    .dataframe tbody tr th:only-of-type {\n",
       "        vertical-align: middle;\n",
       "    }\n",
       "\n",
       "    .dataframe tbody tr th {\n",
       "        vertical-align: top;\n",
       "    }\n",
       "\n",
       "    .dataframe thead th {\n",
       "        text-align: right;\n",
       "    }\n",
       "</style>\n",
       "<table border=\"1\" class=\"dataframe\">\n",
       "  <thead>\n",
       "    <tr style=\"text-align: right;\">\n",
       "      <th></th>\n",
       "      <th>src</th>\n",
       "      <th>Dest</th>\n",
       "      <th>Rating</th>\n",
       "      <th>Timestamp</th>\n",
       "    </tr>\n",
       "  </thead>\n",
       "  <tbody>\n",
       "    <tr>\n",
       "      <th>1275</th>\n",
       "      <td>2</td>\n",
       "      <td>402</td>\n",
       "      <td>1</td>\n",
       "      <td>1289192400</td>\n",
       "    </tr>\n",
       "    <tr>\n",
       "      <th>4003</th>\n",
       "      <td>10</td>\n",
       "      <td>970</td>\n",
       "      <td>8</td>\n",
       "      <td>1289192400</td>\n",
       "    </tr>\n",
       "    <tr>\n",
       "      <th>4004</th>\n",
       "      <td>10</td>\n",
       "      <td>271</td>\n",
       "      <td>8</td>\n",
       "      <td>1289192400</td>\n",
       "    </tr>\n",
       "    <tr>\n",
       "      <th>10468</th>\n",
       "      <td>113</td>\n",
       "      <td>54</td>\n",
       "      <td>4</td>\n",
       "      <td>1289192400</td>\n",
       "    </tr>\n",
       "  </tbody>\n",
       "</table>\n",
       "</div>"
      ],
      "text/plain": [
       "       src  Dest  Rating   Timestamp\n",
       "1275     2   402       1  1289192400\n",
       "4003    10   970       8  1289192400\n",
       "4004    10   271       8  1289192400\n",
       "10468  113    54       4  1289192400"
      ]
     },
     "execution_count": 19,
     "metadata": {},
     "output_type": "execute_result"
    }
   ],
   "source": [
    "alpha_network_gt[alpha_network_gt[\"Timestamp\"]==alpha_network_gt[\"Timestamp\"].min()]"
   ]
  },
  {
   "cell_type": "code",
   "execution_count": null,
   "metadata": {},
   "outputs": [],
   "source": [
    "amazon_network_data = pd.read_csv(\"amazon_network.csv\")\n",
    "amazon_network_data.columns=[\"src\", \"Dest\", \"Rating\", \"Timestamp\"]\n",
    "#amazon_network_data = amazon_network_data[[\"src\", \"Dest\"]]\n",
    "#amazon_network_data1 = amazon_network_data.astype(str).groupby(\"src\").agg(','.join).reset_index()\n",
    "#amazon_network_data\n",
    "amazon_network_data[amazon_network_data[\"Timestamp\"]==amazon_network_data[\"Timestamp\"].min()]"
   ]
  },
  {
   "cell_type": "code",
   "execution_count": null,
   "metadata": {},
   "outputs": [],
   "source": [
    "amazon_gt_data = pd.read_csv(\"amazon_gt.csv\")\n",
    "amazon_gt_data.columns = [\"ID\",\"Label\"]\n",
    "#amazon_gt_data"
   ]
  },
  {
   "cell_type": "code",
   "execution_count": null,
   "metadata": {},
   "outputs": [],
   "source": [
    "amazon_network_data[amazon_network_data[\"Timestamp\"]==amazon_network_data[\"Timestamp\"].max()]"
   ]
  },
  {
   "cell_type": "code",
   "execution_count": null,
   "metadata": {},
   "outputs": [],
   "source": [
    "amazon_network_gt = amazon_network_data[amazon_network_data[\"src\"].isin(amazon_gt_data[\"ID\"])]\n",
    "#alpha_network_gt\n",
    "amazon_network_gt[amazon_network_gt[\"Timestamp\"]==amazon_network_gt[\"Timestamp\"].max()]"
   ]
  },
  {
   "cell_type": "code",
   "execution_count": null,
   "metadata": {},
   "outputs": [],
   "source": [
    "amazon_network_gt[amazon_network_gt[\"Timestamp\"]==amazon_network_gt[\"Timestamp\"].min()]"
   ]
  },
  {
   "cell_type": "code",
   "execution_count": 13,
   "metadata": {},
   "outputs": [
    {
     "data": {
      "text/html": [
       "<div>\n",
       "<style scoped>\n",
       "    .dataframe tbody tr th:only-of-type {\n",
       "        vertical-align: middle;\n",
       "    }\n",
       "\n",
       "    .dataframe tbody tr th {\n",
       "        vertical-align: top;\n",
       "    }\n",
       "\n",
       "    .dataframe thead th {\n",
       "        text-align: right;\n",
       "    }\n",
       "</style>\n",
       "<table border=\"1\" class=\"dataframe\">\n",
       "  <thead>\n",
       "    <tr style=\"text-align: right;\">\n",
       "      <th></th>\n",
       "      <th>src</th>\n",
       "      <th>Dest</th>\n",
       "      <th>Rating</th>\n",
       "      <th>Timestamp</th>\n",
       "    </tr>\n",
       "  </thead>\n",
       "  <tbody>\n",
       "    <tr>\n",
       "      <th>3285224</th>\n",
       "      <td>243102</td>\n",
       "      <td>494191</td>\n",
       "      <td>5</td>\n",
       "      <td>2001/0</td>\n",
       "    </tr>\n",
       "  </tbody>\n",
       "</table>\n",
       "</div>"
      ],
      "text/plain": [
       "            src    Dest  Rating Timestamp\n",
       "3285224  243102  494191       5    2001/0"
      ]
     },
     "execution_count": 13,
     "metadata": {},
     "output_type": "execute_result"
    }
   ],
   "source": [
    "epinions_network_data = pd.read_csv(\"epinions_network.csv\")\n",
    "epinions_network_data.columns=[\"src\", \"Dest\", \"Rating\", \"Timestamp\"]\n",
    "#epinions_network_data = epinions_network_data[[\"src\", \"Dest\"]]\n",
    "#epinions_network_data1 = epinions_network_data.astype(str).groupby(\"Dest\").agg(','.join).reset_index()\n",
    "#epinions_network_data\n",
    "epinions_network_data[epinions_network_data[\"Timestamp\"]==epinions_network_data[\"Timestamp\"].min()]"
   ]
  },
  {
   "cell_type": "code",
   "execution_count": 14,
   "metadata": {},
   "outputs": [
    {
     "data": {
      "text/html": [
       "<div>\n",
       "<style scoped>\n",
       "    .dataframe tbody tr th:only-of-type {\n",
       "        vertical-align: middle;\n",
       "    }\n",
       "\n",
       "    .dataframe tbody tr th {\n",
       "        vertical-align: top;\n",
       "    }\n",
       "\n",
       "    .dataframe thead th {\n",
       "        text-align: right;\n",
       "    }\n",
       "</style>\n",
       "<table border=\"1\" class=\"dataframe\">\n",
       "  <thead>\n",
       "    <tr style=\"text-align: right;\">\n",
       "      <th></th>\n",
       "      <th>src</th>\n",
       "      <th>Dest</th>\n",
       "      <th>Rating</th>\n",
       "      <th>Timestamp</th>\n",
       "    </tr>\n",
       "  </thead>\n",
       "  <tbody>\n",
       "    <tr>\n",
       "      <th>2654134</th>\n",
       "      <td>32790122372</td>\n",
       "      <td>6811848580</td>\n",
       "      <td>5</td>\n",
       "      <td>2002/05/30</td>\n",
       "    </tr>\n",
       "    <tr>\n",
       "      <th>2654135</th>\n",
       "      <td>45789974404</td>\n",
       "      <td>31462363012</td>\n",
       "      <td>5</td>\n",
       "      <td>2002/05/30</td>\n",
       "    </tr>\n",
       "    <tr>\n",
       "      <th>2654136</th>\n",
       "      <td>32790122372</td>\n",
       "      <td>6811848580</td>\n",
       "      <td>5</td>\n",
       "      <td>2002/05/30</td>\n",
       "    </tr>\n",
       "    <tr>\n",
       "      <th>2654137</th>\n",
       "      <td>45789974404</td>\n",
       "      <td>235766</td>\n",
       "      <td>5</td>\n",
       "      <td>2002/05/30</td>\n",
       "    </tr>\n",
       "    <tr>\n",
       "      <th>2654138</th>\n",
       "      <td>350170</td>\n",
       "      <td>203078</td>\n",
       "      <td>5</td>\n",
       "      <td>2002/05/30</td>\n",
       "    </tr>\n",
       "    <tr>\n",
       "      <th>...</th>\n",
       "      <td>...</td>\n",
       "      <td>...</td>\n",
       "      <td>...</td>\n",
       "      <td>...</td>\n",
       "    </tr>\n",
       "    <tr>\n",
       "      <th>2655280</th>\n",
       "      <td>207186</td>\n",
       "      <td>44656725892</td>\n",
       "      <td>5</td>\n",
       "      <td>2002/05/30</td>\n",
       "    </tr>\n",
       "    <tr>\n",
       "      <th>2655281</th>\n",
       "      <td>494199</td>\n",
       "      <td>276559</td>\n",
       "      <td>5</td>\n",
       "      <td>2002/05/30</td>\n",
       "    </tr>\n",
       "    <tr>\n",
       "      <th>2655282</th>\n",
       "      <td>502205</td>\n",
       "      <td>6811848580</td>\n",
       "      <td>5</td>\n",
       "      <td>2002/05/30</td>\n",
       "    </tr>\n",
       "    <tr>\n",
       "      <th>2655283</th>\n",
       "      <td>233009</td>\n",
       "      <td>46328811396</td>\n",
       "      <td>3</td>\n",
       "      <td>2002/05/30</td>\n",
       "    </tr>\n",
       "    <tr>\n",
       "      <th>2655284</th>\n",
       "      <td>5425500036</td>\n",
       "      <td>204622</td>\n",
       "      <td>5</td>\n",
       "      <td>2002/05/30</td>\n",
       "    </tr>\n",
       "  </tbody>\n",
       "</table>\n",
       "<p>1151 rows × 4 columns</p>\n",
       "</div>"
      ],
      "text/plain": [
       "                 src         Dest  Rating   Timestamp\n",
       "2654134  32790122372   6811848580       5  2002/05/30\n",
       "2654135  45789974404  31462363012       5  2002/05/30\n",
       "2654136  32790122372   6811848580       5  2002/05/30\n",
       "2654137  45789974404       235766       5  2002/05/30\n",
       "2654138       350170       203078       5  2002/05/30\n",
       "...              ...          ...     ...         ...\n",
       "2655280       207186  44656725892       5  2002/05/30\n",
       "2655281       494199       276559       5  2002/05/30\n",
       "2655282       502205   6811848580       5  2002/05/30\n",
       "2655283       233009  46328811396       3  2002/05/30\n",
       "2655284   5425500036       204622       5  2002/05/30\n",
       "\n",
       "[1151 rows x 4 columns]"
      ]
     },
     "execution_count": 14,
     "metadata": {},
     "output_type": "execute_result"
    }
   ],
   "source": [
    "epinions_network_data[epinions_network_data[\"Timestamp\"]==epinions_network_data[\"Timestamp\"].max()]"
   ]
  },
  {
   "cell_type": "code",
   "execution_count": 23,
   "metadata": {},
   "outputs": [],
   "source": [
    "epinions_gt_data = pd.read_csv(\"epinions_gt.csv\")\n",
    "epinions_gt_data.columns = [\"ID\",\"Label\"]\n",
    "#epinions_gt_data"
   ]
  },
  {
   "cell_type": "code",
   "execution_count": 24,
   "metadata": {
    "scrolled": true
   },
   "outputs": [
    {
     "data": {
      "text/html": [
       "<div>\n",
       "<style scoped>\n",
       "    .dataframe tbody tr th:only-of-type {\n",
       "        vertical-align: middle;\n",
       "    }\n",
       "\n",
       "    .dataframe tbody tr th {\n",
       "        vertical-align: top;\n",
       "    }\n",
       "\n",
       "    .dataframe thead th {\n",
       "        text-align: right;\n",
       "    }\n",
       "</style>\n",
       "<table border=\"1\" class=\"dataframe\">\n",
       "  <thead>\n",
       "    <tr style=\"text-align: right;\">\n",
       "      <th></th>\n",
       "      <th>src</th>\n",
       "      <th>Dest</th>\n",
       "      <th>Rating</th>\n",
       "      <th>Timestamp</th>\n",
       "    </tr>\n",
       "  </thead>\n",
       "  <tbody>\n",
       "    <tr>\n",
       "      <th>2654134</th>\n",
       "      <td>32790122372</td>\n",
       "      <td>6811848580</td>\n",
       "      <td>5</td>\n",
       "      <td>2002/05/30</td>\n",
       "    </tr>\n",
       "    <tr>\n",
       "      <th>2654136</th>\n",
       "      <td>32790122372</td>\n",
       "      <td>6811848580</td>\n",
       "      <td>5</td>\n",
       "      <td>2002/05/30</td>\n",
       "    </tr>\n",
       "    <tr>\n",
       "      <th>2654138</th>\n",
       "      <td>350170</td>\n",
       "      <td>203078</td>\n",
       "      <td>5</td>\n",
       "      <td>2002/05/30</td>\n",
       "    </tr>\n",
       "    <tr>\n",
       "      <th>2654140</th>\n",
       "      <td>200396</td>\n",
       "      <td>349865</td>\n",
       "      <td>4</td>\n",
       "      <td>2002/05/30</td>\n",
       "    </tr>\n",
       "    <tr>\n",
       "      <th>2654141</th>\n",
       "      <td>420738</td>\n",
       "      <td>5806067588</td>\n",
       "      <td>5</td>\n",
       "      <td>2002/05/30</td>\n",
       "    </tr>\n",
       "    <tr>\n",
       "      <th>...</th>\n",
       "      <td>...</td>\n",
       "      <td>...</td>\n",
       "      <td>...</td>\n",
       "      <td>...</td>\n",
       "    </tr>\n",
       "    <tr>\n",
       "      <th>2655279</th>\n",
       "      <td>233009</td>\n",
       "      <td>46236405636</td>\n",
       "      <td>5</td>\n",
       "      <td>2002/05/30</td>\n",
       "    </tr>\n",
       "    <tr>\n",
       "      <th>2655280</th>\n",
       "      <td>207186</td>\n",
       "      <td>44656725892</td>\n",
       "      <td>5</td>\n",
       "      <td>2002/05/30</td>\n",
       "    </tr>\n",
       "    <tr>\n",
       "      <th>2655282</th>\n",
       "      <td>502205</td>\n",
       "      <td>6811848580</td>\n",
       "      <td>5</td>\n",
       "      <td>2002/05/30</td>\n",
       "    </tr>\n",
       "    <tr>\n",
       "      <th>2655283</th>\n",
       "      <td>233009</td>\n",
       "      <td>46328811396</td>\n",
       "      <td>3</td>\n",
       "      <td>2002/05/30</td>\n",
       "    </tr>\n",
       "    <tr>\n",
       "      <th>2655284</th>\n",
       "      <td>5425500036</td>\n",
       "      <td>204622</td>\n",
       "      <td>5</td>\n",
       "      <td>2002/05/30</td>\n",
       "    </tr>\n",
       "  </tbody>\n",
       "</table>\n",
       "<p>1040 rows × 4 columns</p>\n",
       "</div>"
      ],
      "text/plain": [
       "                 src         Dest  Rating   Timestamp\n",
       "2654134  32790122372   6811848580       5  2002/05/30\n",
       "2654136  32790122372   6811848580       5  2002/05/30\n",
       "2654138       350170       203078       5  2002/05/30\n",
       "2654140       200396       349865       4  2002/05/30\n",
       "2654141       420738   5806067588       5  2002/05/30\n",
       "...              ...          ...     ...         ...\n",
       "2655279       233009  46236405636       5  2002/05/30\n",
       "2655280       207186  44656725892       5  2002/05/30\n",
       "2655282       502205   6811848580       5  2002/05/30\n",
       "2655283       233009  46328811396       3  2002/05/30\n",
       "2655284   5425500036       204622       5  2002/05/30\n",
       "\n",
       "[1040 rows x 4 columns]"
      ]
     },
     "execution_count": 24,
     "metadata": {},
     "output_type": "execute_result"
    }
   ],
   "source": [
    "epinions_network_gt = epinions_network_data[epinions_network_data[\"src\"].isin(epinions_gt_data[\"ID\"])]\n",
    "#alpha_network_gt\n",
    "epinions_network_gt[epinions_network_gt[\"Timestamp\"]==epinions_network_gt[\"Timestamp\"].max()]"
   ]
  },
  {
   "cell_type": "code",
   "execution_count": 25,
   "metadata": {},
   "outputs": [
    {
     "data": {
      "text/html": [
       "<div>\n",
       "<style scoped>\n",
       "    .dataframe tbody tr th:only-of-type {\n",
       "        vertical-align: middle;\n",
       "    }\n",
       "\n",
       "    .dataframe tbody tr th {\n",
       "        vertical-align: top;\n",
       "    }\n",
       "\n",
       "    .dataframe thead th {\n",
       "        text-align: right;\n",
       "    }\n",
       "</style>\n",
       "<table border=\"1\" class=\"dataframe\">\n",
       "  <thead>\n",
       "    <tr style=\"text-align: right;\">\n",
       "      <th></th>\n",
       "      <th>src</th>\n",
       "      <th>Dest</th>\n",
       "      <th>Rating</th>\n",
       "      <th>Timestamp</th>\n",
       "    </tr>\n",
       "  </thead>\n",
       "  <tbody>\n",
       "    <tr>\n",
       "      <th>3285224</th>\n",
       "      <td>243102</td>\n",
       "      <td>494191</td>\n",
       "      <td>5</td>\n",
       "      <td>2001/0</td>\n",
       "    </tr>\n",
       "  </tbody>\n",
       "</table>\n",
       "</div>"
      ],
      "text/plain": [
       "            src    Dest  Rating Timestamp\n",
       "3285224  243102  494191       5    2001/0"
      ]
     },
     "execution_count": 25,
     "metadata": {},
     "output_type": "execute_result"
    }
   ],
   "source": [
    "epinions_network_gt[epinions_network_gt[\"Timestamp\"]==epinions_network_gt[\"Timestamp\"].min()]"
   ]
  },
  {
   "cell_type": "code",
   "execution_count": 10,
   "metadata": {},
   "outputs": [
    {
     "data": {
      "text/html": [
       "<div>\n",
       "<style scoped>\n",
       "    .dataframe tbody tr th:only-of-type {\n",
       "        vertical-align: middle;\n",
       "    }\n",
       "\n",
       "    .dataframe tbody tr th {\n",
       "        vertical-align: top;\n",
       "    }\n",
       "\n",
       "    .dataframe thead th {\n",
       "        text-align: right;\n",
       "    }\n",
       "</style>\n",
       "<table border=\"1\" class=\"dataframe\">\n",
       "  <thead>\n",
       "    <tr style=\"text-align: right;\">\n",
       "      <th></th>\n",
       "      <th>src</th>\n",
       "      <th>Dest</th>\n",
       "      <th>Rating</th>\n",
       "      <th>Timestamp</th>\n",
       "    </tr>\n",
       "  </thead>\n",
       "  <tbody>\n",
       "    <tr>\n",
       "      <th>0</th>\n",
       "      <td>6</td>\n",
       "      <td>5</td>\n",
       "      <td>2</td>\n",
       "      <td>1.289242e+09</td>\n",
       "    </tr>\n",
       "  </tbody>\n",
       "</table>\n",
       "</div>"
      ],
      "text/plain": [
       "   src  Dest  Rating     Timestamp\n",
       "0    6     5       2  1.289242e+09"
      ]
     },
     "execution_count": 10,
     "metadata": {},
     "output_type": "execute_result"
    }
   ],
   "source": [
    "otc_network_data = pd.read_csv(\"otc_network.csv\")\n",
    "otc_network_data.columns=[\"src\", \"Dest\", \"Rating\", \"Timestamp\"]\n",
    "#otc_network_data = otc_network_data[[\"src\", \"Dest\"]]\n",
    "#otc_network_data1 = otc_network_data.astype(str).groupby(\"Dest\").agg(','.join).reset_index()\n",
    "#otc_network_data\n",
    "otc_network_data[otc_network_data[\"Timestamp\"]==otc_network_data[\"Timestamp\"].min()]"
   ]
  },
  {
   "cell_type": "code",
   "execution_count": 11,
   "metadata": {},
   "outputs": [
    {
     "data": {
      "text/html": [
       "<div>\n",
       "<style scoped>\n",
       "    .dataframe tbody tr th:only-of-type {\n",
       "        vertical-align: middle;\n",
       "    }\n",
       "\n",
       "    .dataframe tbody tr th {\n",
       "        vertical-align: top;\n",
       "    }\n",
       "\n",
       "    .dataframe thead th {\n",
       "        text-align: right;\n",
       "    }\n",
       "</style>\n",
       "<table border=\"1\" class=\"dataframe\">\n",
       "  <thead>\n",
       "    <tr style=\"text-align: right;\">\n",
       "      <th></th>\n",
       "      <th>src</th>\n",
       "      <th>Dest</th>\n",
       "      <th>Rating</th>\n",
       "      <th>Timestamp</th>\n",
       "    </tr>\n",
       "  </thead>\n",
       "  <tbody>\n",
       "    <tr>\n",
       "      <th>35590</th>\n",
       "      <td>1128</td>\n",
       "      <td>13</td>\n",
       "      <td>2</td>\n",
       "      <td>1.453684e+09</td>\n",
       "    </tr>\n",
       "  </tbody>\n",
       "</table>\n",
       "</div>"
      ],
      "text/plain": [
       "        src  Dest  Rating     Timestamp\n",
       "35590  1128    13       2  1.453684e+09"
      ]
     },
     "execution_count": 11,
     "metadata": {},
     "output_type": "execute_result"
    }
   ],
   "source": [
    "otc_network_data[otc_network_data[\"Timestamp\"]==otc_network_data[\"Timestamp\"].max()]"
   ]
  },
  {
   "cell_type": "code",
   "execution_count": 20,
   "metadata": {},
   "outputs": [],
   "source": [
    "otc_gt_data = pd.read_csv(\"otc_gt.csv\")\n",
    "otc_gt_data.columns = [\"ID\",\"Label\"]\n",
    "#otc_gt_data"
   ]
  },
  {
   "cell_type": "code",
   "execution_count": 21,
   "metadata": {},
   "outputs": [
    {
     "data": {
      "text/html": [
       "<div>\n",
       "<style scoped>\n",
       "    .dataframe tbody tr th:only-of-type {\n",
       "        vertical-align: middle;\n",
       "    }\n",
       "\n",
       "    .dataframe tbody tr th {\n",
       "        vertical-align: top;\n",
       "    }\n",
       "\n",
       "    .dataframe thead th {\n",
       "        text-align: right;\n",
       "    }\n",
       "</style>\n",
       "<table border=\"1\" class=\"dataframe\">\n",
       "  <thead>\n",
       "    <tr style=\"text-align: right;\">\n",
       "      <th></th>\n",
       "      <th>src</th>\n",
       "      <th>Dest</th>\n",
       "      <th>Rating</th>\n",
       "      <th>Timestamp</th>\n",
       "    </tr>\n",
       "  </thead>\n",
       "  <tbody>\n",
       "    <tr>\n",
       "      <th>35589</th>\n",
       "      <td>13</td>\n",
       "      <td>1128</td>\n",
       "      <td>1</td>\n",
       "      <td>1.453680e+09</td>\n",
       "    </tr>\n",
       "  </tbody>\n",
       "</table>\n",
       "</div>"
      ],
      "text/plain": [
       "       src  Dest  Rating     Timestamp\n",
       "35589   13  1128       1  1.453680e+09"
      ]
     },
     "execution_count": 21,
     "metadata": {},
     "output_type": "execute_result"
    }
   ],
   "source": [
    "otc_network_gt = otc_network_data[otc_network_data[\"src\"].isin(otc_gt_data[\"ID\"])]\n",
    "#alpha_network_gt\n",
    "otc_network_gt[otc_network_gt[\"Timestamp\"]==otc_network_gt[\"Timestamp\"].max()]"
   ]
  },
  {
   "cell_type": "code",
   "execution_count": 22,
   "metadata": {},
   "outputs": [
    {
     "data": {
      "text/html": [
       "<div>\n",
       "<style scoped>\n",
       "    .dataframe tbody tr th:only-of-type {\n",
       "        vertical-align: middle;\n",
       "    }\n",
       "\n",
       "    .dataframe tbody tr th {\n",
       "        vertical-align: top;\n",
       "    }\n",
       "\n",
       "    .dataframe thead th {\n",
       "        text-align: right;\n",
       "    }\n",
       "</style>\n",
       "<table border=\"1\" class=\"dataframe\">\n",
       "  <thead>\n",
       "    <tr style=\"text-align: right;\">\n",
       "      <th></th>\n",
       "      <th>src</th>\n",
       "      <th>Dest</th>\n",
       "      <th>Rating</th>\n",
       "      <th>Timestamp</th>\n",
       "    </tr>\n",
       "  </thead>\n",
       "  <tbody>\n",
       "    <tr>\n",
       "      <th>0</th>\n",
       "      <td>6</td>\n",
       "      <td>5</td>\n",
       "      <td>2</td>\n",
       "      <td>1.289242e+09</td>\n",
       "    </tr>\n",
       "  </tbody>\n",
       "</table>\n",
       "</div>"
      ],
      "text/plain": [
       "   src  Dest  Rating     Timestamp\n",
       "0    6     5       2  1.289242e+09"
      ]
     },
     "execution_count": 22,
     "metadata": {},
     "output_type": "execute_result"
    }
   ],
   "source": [
    "otc_network_gt[otc_network_gt[\"Timestamp\"]==otc_network_gt[\"Timestamp\"].min()]"
   ]
  }
 ],
 "metadata": {
  "kernelspec": {
   "display_name": "rl",
   "language": "python",
   "name": "rl"
  },
  "language_info": {
   "codemirror_mode": {
    "name": "ipython",
    "version": 3
   },
   "file_extension": ".py",
   "mimetype": "text/x-python",
   "name": "python",
   "nbconvert_exporter": "python",
   "pygments_lexer": "ipython3",
   "version": "3.8.5"
  }
 },
 "nbformat": 4,
 "nbformat_minor": 4
}

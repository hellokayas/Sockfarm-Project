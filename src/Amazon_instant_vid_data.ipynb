{
 "cells": [
  {
   "cell_type": "code",
   "execution_count": 16,
   "metadata": {},
   "outputs": [
    {
     "name": "stdout",
     "output_type": "stream",
     "text": [
      "[]\n"
     ]
    }
   ],
   "source": [
    "import gzip\n",
    "import json\n",
    "import ast\n",
    "import numpy as np\n",
    "\n",
    "def parse(path, limit):# limit+1 many reviews will get printed\n",
    "    i = 0\n",
    "    reviews_in_bytes = []\n",
    "    file = gzip.open(path,'r')\n",
    "    for line in file:\n",
    "        if i > limit:\n",
    "            break\n",
    "        reviews_in_bytes.append(line)\n",
    "        i += 1\n",
    "    return reviews_in_bytes\n",
    "    \n",
    "        \n",
    "mylist = parse('reviews_Musical_Instruments.json.gz',10**2)\n",
    "reviewer_item_pair = []\n",
    "reviewer_list = []\n",
    "item_list = []\n",
    "for review in mylist:\n",
    "    byte_str = review\n",
    "    dict_str = byte_str.decode(\"UTF-8\")\n",
    "    mydata = ast.literal_eval(dict_str)\n",
    "    #reviewer_item_pair.append((mydata[\"reviewerID\"],mydata[\"asin\"]))\n",
    "    reviewer_list.append(mydata[\"reviewerID\"])\n",
    "    item_list.append(mydata[\"asin\"])\n",
    "    \n",
    "print(reviewer_item_pair)\n"
   ]
  },
  {
   "cell_type": "code",
   "execution_count": 1,
   "metadata": {},
   "outputs": [
    {
     "data": {
      "text/html": [
       "<div>\n",
       "<style scoped>\n",
       "    .dataframe tbody tr th:only-of-type {\n",
       "        vertical-align: middle;\n",
       "    }\n",
       "\n",
       "    .dataframe tbody tr th {\n",
       "        vertical-align: top;\n",
       "    }\n",
       "\n",
       "    .dataframe thead th {\n",
       "        text-align: right;\n",
       "    }\n",
       "</style>\n",
       "<table border=\"1\" class=\"dataframe\">\n",
       "  <thead>\n",
       "    <tr style=\"text-align: right;\">\n",
       "      <th></th>\n",
       "      <th>asin</th>\n",
       "      <th>reviewerID</th>\n",
       "    </tr>\n",
       "  </thead>\n",
       "  <tbody>\n",
       "    <tr>\n",
       "      <th>0</th>\n",
       "      <td>B000GFDAUG</td>\n",
       "      <td>A1EE2E3N7PW666,AGZ8SM1BGK3CK</td>\n",
       "    </tr>\n",
       "    <tr>\n",
       "      <th>1</th>\n",
       "      <td>B000GIOPK2</td>\n",
       "      <td>A2VHZ21245KBT7,ACX8YW2D5EGP6,A9RNMO9MUSMTJ,A3S...</td>\n",
       "    </tr>\n",
       "    <tr>\n",
       "      <th>2</th>\n",
       "      <td>B000GIPKWY</td>\n",
       "      <td>A1ZAVMB4XZL8KA,A223A5BICW5T32,A3I8OURC83NM6V,A...</td>\n",
       "    </tr>\n",
       "    <tr>\n",
       "      <th>3</th>\n",
       "      <td>B000GJUQ7M</td>\n",
       "      <td>A21YD7FBMV01HP,A1LMX2N66EYKB4,AGPOJFLTYSMFW</td>\n",
       "    </tr>\n",
       "    <tr>\n",
       "      <th>4</th>\n",
       "      <td>B000GK0NBK</td>\n",
       "      <td>A35O4YSNIEHCR,A1ALC8JP5D7C3C</td>\n",
       "    </tr>\n",
       "    <tr>\n",
       "      <th>...</th>\n",
       "      <td>...</td>\n",
       "      <td>...</td>\n",
       "    </tr>\n",
       "    <tr>\n",
       "      <th>23960</th>\n",
       "      <td>B00LTMFX9Q</td>\n",
       "      <td>A37IYQC8EKLDYJ,AJE4MXRQ5W9JU</td>\n",
       "    </tr>\n",
       "    <tr>\n",
       "      <th>23961</th>\n",
       "      <td>B00LTMHUW4</td>\n",
       "      <td>A9MBSKL8LTFN9</td>\n",
       "    </tr>\n",
       "    <tr>\n",
       "      <th>23962</th>\n",
       "      <td>B00LTMJ29S</td>\n",
       "      <td>A3U3RFL0XE4F7V</td>\n",
       "    </tr>\n",
       "    <tr>\n",
       "      <th>23963</th>\n",
       "      <td>B00LU8ONBI</td>\n",
       "      <td>AEO407GROR6JB,A2YXWWVABHWIXN</td>\n",
       "    </tr>\n",
       "    <tr>\n",
       "      <th>23964</th>\n",
       "      <td>B00LXQXLGU</td>\n",
       "      <td>ANZJEQZRYUCBC</td>\n",
       "    </tr>\n",
       "  </tbody>\n",
       "</table>\n",
       "<p>23965 rows × 2 columns</p>\n",
       "</div>"
      ],
      "text/plain": [
       "             asin                                         reviewerID\n",
       "0      B000GFDAUG                       A1EE2E3N7PW666,AGZ8SM1BGK3CK\n",
       "1      B000GIOPK2  A2VHZ21245KBT7,ACX8YW2D5EGP6,A9RNMO9MUSMTJ,A3S...\n",
       "2      B000GIPKWY  A1ZAVMB4XZL8KA,A223A5BICW5T32,A3I8OURC83NM6V,A...\n",
       "3      B000GJUQ7M        A21YD7FBMV01HP,A1LMX2N66EYKB4,AGPOJFLTYSMFW\n",
       "4      B000GK0NBK                       A35O4YSNIEHCR,A1ALC8JP5D7C3C\n",
       "...           ...                                                ...\n",
       "23960  B00LTMFX9Q                       A37IYQC8EKLDYJ,AJE4MXRQ5W9JU\n",
       "23961  B00LTMHUW4                                      A9MBSKL8LTFN9\n",
       "23962  B00LTMJ29S                                     A3U3RFL0XE4F7V\n",
       "23963  B00LU8ONBI                       AEO407GROR6JB,A2YXWWVABHWIXN\n",
       "23964  B00LXQXLGU                                      ANZJEQZRYUCBC\n",
       "\n",
       "[23965 rows x 2 columns]"
      ]
     },
     "execution_count": 1,
     "metadata": {},
     "output_type": "execute_result"
    }
   ],
   "source": [
    "# The code to set the whole table on pandas is the following:\n",
    "import gzip\n",
    "import json\n",
    "import ast\n",
    "import numpy as np\n",
    "import pandas as pd\n",
    "\n",
    "def parse(path):\n",
    "    g = gzip.open(path, 'rb')\n",
    "    for l in g:\n",
    "        yield eval(l)\n",
    "def getDF(path):\n",
    "    i = 0\n",
    "    df = {}\n",
    "    for d in parse(path):\n",
    "        df[i] = d\n",
    "        i += 1\n",
    "    return pd.DataFrame.from_dict(df, orient='index')\n",
    "df = getDF('reviews_Amazon_Instant_Video.json.gz')[['reviewerID','asin']]\n",
    "#df  is the whole table of data, we need to act on this\n",
    "# very imp code : https://stackoverflow.com/questions/49405101/grouping-all-rows-of-a-pandas-dataframewith-many-columns-with-the-same-value-i\n",
    "#df = df[['reviewerID','asin']]\n",
    "df1 = df.astype(str).groupby('asin').agg(','.join).reset_index()\n",
    "df1"
   ]
  },
  {
   "cell_type": "code",
   "execution_count": 19,
   "metadata": {},
   "outputs": [
    {
     "data": {
      "text/plain": [
       "array([    0,     1,     2, ..., 23962, 23963, 23964])"
      ]
     },
     "execution_count": 19,
     "metadata": {},
     "output_type": "execute_result"
    }
   ],
   "source": [
    "#test = df1.head()\n",
    "user_arr = df1['reviewerID'].tolist()\n",
    "for i in range(len(user_arr)):\n",
    "    x = user_arr[i]\n",
    "    newx = x.split(\",\")\n",
    "    user_arr[i] = len(newx)\n",
    "arr = np.array(user_arr)\n",
    "l = list(range(23965))\n",
    "l = np.array(l)\n",
    "len(user_arr)"
   ]
  },
  {
   "cell_type": "code",
   "execution_count": 20,
   "metadata": {},
   "outputs": [
    {
     "data": {
      "text/plain": [
       "<AxesSubplot:xlabel='products'>"
      ]
     },
     "execution_count": 20,
     "metadata": {},
     "output_type": "execute_result"
    },
    {
     "data": {
      "image/png": "[encoded data removed]",
      "text/plain": [
       "<Figure size 432x288 with 1 Axes>"
      ]
     },
     "metadata": {
      "needs_background": "light"
     },
     "output_type": "display_data"
    }
   ],
   "source": [
    "import matplotlib.pyplot as plt\n",
    "sample_data={'products':l,\n",
    "      'frequency': arr}\n",
    "newdf= pd.DataFrame(sample_data)\n",
    "newdf.plot(x='products', y='frequency', style='o')"
   ]
  },
  {
   "cell_type": "code",
   "execution_count": 22,
   "metadata": {},
   "outputs": [
    {
     "data": {
      "text/html": [
       "<div>\n",
       "<style scoped>\n",
       "    .dataframe tbody tr th:only-of-type {\n",
       "        vertical-align: middle;\n",
       "    }\n",
       "\n",
       "    .dataframe tbody tr th {\n",
       "        vertical-align: top;\n",
       "    }\n",
       "\n",
       "    .dataframe thead th {\n",
       "        text-align: right;\n",
       "    }\n",
       "</style>\n",
       "<table border=\"1\" class=\"dataframe\">\n",
       "  <thead>\n",
       "    <tr style=\"text-align: right;\">\n",
       "      <th></th>\n",
       "      <th>reviewerID</th>\n",
       "      <th>asin</th>\n",
       "    </tr>\n",
       "  </thead>\n",
       "  <tbody>\n",
       "    <tr>\n",
       "      <th>0</th>\n",
       "      <td>A00019103H5DUGXXX2UPR</td>\n",
       "      <td>B007427XS4</td>\n",
       "    </tr>\n",
       "    <tr>\n",
       "      <th>1</th>\n",
       "      <td>A00026003EPLG5C4D6XFL</td>\n",
       "      <td>B00LCDVU8A</td>\n",
       "    </tr>\n",
       "    <tr>\n",
       "      <th>2</th>\n",
       "      <td>A00028442OH78WL2CMSVT</td>\n",
       "      <td>B008QTTGGG</td>\n",
       "    </tr>\n",
       "    <tr>\n",
       "      <th>3</th>\n",
       "      <td>A00032403IMUSNRLR3XK7</td>\n",
       "      <td>B009FZFONO</td>\n",
       "    </tr>\n",
       "    <tr>\n",
       "      <th>4</th>\n",
       "      <td>A00039704LRQG87MSTUJ</td>\n",
       "      <td>B004CTBG1W</td>\n",
       "    </tr>\n",
       "    <tr>\n",
       "      <th>...</th>\n",
       "      <td>...</td>\n",
       "      <td>...</td>\n",
       "    </tr>\n",
       "    <tr>\n",
       "      <th>426917</th>\n",
       "      <td>AZZYKX2KZ0Q82</td>\n",
       "      <td>B00FL7UCB4</td>\n",
       "    </tr>\n",
       "    <tr>\n",
       "      <th>426918</th>\n",
       "      <td>AZZYN72HX9NHS</td>\n",
       "      <td>B003E8ZYGK</td>\n",
       "    </tr>\n",
       "    <tr>\n",
       "      <th>426919</th>\n",
       "      <td>AZZYUA6JI1MO0</td>\n",
       "      <td>B00CBLGJY2,B00DVFR6PI</td>\n",
       "    </tr>\n",
       "    <tr>\n",
       "      <th>426920</th>\n",
       "      <td>AZZYW4YOE1B6E</td>\n",
       "      <td>B009AP3HQK</td>\n",
       "    </tr>\n",
       "    <tr>\n",
       "      <th>426921</th>\n",
       "      <td>AZZZEU6VXDYKX</td>\n",
       "      <td>B000WFFAIA</td>\n",
       "    </tr>\n",
       "  </tbody>\n",
       "</table>\n",
       "<p>426922 rows × 2 columns</p>\n",
       "</div>"
      ],
      "text/plain": [
       "                   reviewerID                   asin\n",
       "0       A00019103H5DUGXXX2UPR             B007427XS4\n",
       "1       A00026003EPLG5C4D6XFL             B00LCDVU8A\n",
       "2       A00028442OH78WL2CMSVT             B008QTTGGG\n",
       "3       A00032403IMUSNRLR3XK7             B009FZFONO\n",
       "4        A00039704LRQG87MSTUJ             B004CTBG1W\n",
       "...                       ...                    ...\n",
       "426917          AZZYKX2KZ0Q82             B00FL7UCB4\n",
       "426918          AZZYN72HX9NHS             B003E8ZYGK\n",
       "426919          AZZYUA6JI1MO0  B00CBLGJY2,B00DVFR6PI\n",
       "426920          AZZYW4YOE1B6E             B009AP3HQK\n",
       "426921          AZZZEU6VXDYKX             B000WFFAIA\n",
       "\n",
       "[426922 rows x 2 columns]"
      ]
     },
     "execution_count": 22,
     "metadata": {},
     "output_type": "execute_result"
    }
   ],
   "source": [
    "# The code to set the whole table on pandas is the following:\n",
    "import gzip\n",
    "import json\n",
    "import ast\n",
    "import numpy as np\n",
    "import pandas as pd\n",
    "\n",
    "def parse(path):\n",
    "    g = gzip.open(path, 'rb')\n",
    "    for l in g:\n",
    "        yield eval(l)\n",
    "def getDF(path):\n",
    "    i = 0\n",
    "    df = {}\n",
    "    for d in parse(path):\n",
    "        df[i] = d\n",
    "        i += 1\n",
    "    return pd.DataFrame.from_dict(df, orient='index')\n",
    "df = getDF('reviews_Amazon_Instant_Video.json.gz')[['reviewerID','asin']]\n",
    "#df  is the whole table of data, we need to act on this\n",
    "# very imp code : https://stackoverflow.com/questions/49405101/grouping-all-rows-of-a-pandas-dataframewith-many-columns-with-the-same-value-i\n",
    "#df = df[['reviewerID','asin']]\n",
    "df2 = df.astype(str).groupby('reviewerID').agg(','.join).reset_index()\n",
    "df2"
   ]
  },
  {
   "cell_type": "code",
   "execution_count": 29,
   "metadata": {},
   "outputs": [
    {
     "data": {
      "text/plain": [
       "426922"
      ]
     },
     "execution_count": 29,
     "metadata": {},
     "output_type": "execute_result"
    }
   ],
   "source": [
    "item_arr = df2['asin'].tolist()\n",
    "for i in range(len(item_arr)):\n",
    "    x = item_arr[i]\n",
    "    newx = x.split(\",\")\n",
    "    item_arr[i] = len(newx)\n",
    "newarr = np.array(item_arr)\n",
    "L = list(range(426922))\n",
    "L = np.array(L)\n",
    "len(item_arr)"
   ]
  },
  {
   "cell_type": "code",
   "execution_count": 30,
   "metadata": {},
   "outputs": [
    {
     "data": {
      "text/plain": [
       "<AxesSubplot:xlabel='reviewers'>"
      ]
     },
     "execution_count": 30,
     "metadata": {},
     "output_type": "execute_result"
    },
    {
     "data": {
      "image/png": "[encoded data removed]",
      "text/plain": [
       "<Figure size 432x288 with 1 Axes>"
      ]
     },
     "metadata": {
      "needs_background": "light"
     },
     "output_type": "display_data"
    }
   ],
   "source": [
    "import matplotlib.pyplot as plt\n",
    "sample_data={'reviewers':L,\n",
    "      'frequency': newarr}\n",
    "new_df= pd.DataFrame(sample_data)\n",
    "new_df.plot(x='reviewers', y='frequency', style='o')"
   ]
  },
  {
   "cell_type": "code",
   "execution_count": null,
   "metadata": {},
   "outputs": [],
   "source": []
  }
 ],
 "metadata": {
  "kernelspec": {
   "display_name": "Python 3",
   "language": "python",
   "name": "python3"
  },
  "language_info": {
   "codemirror_mode": {
    "name": "ipython",
    "version": 3
   },
   "file_extension": ".py",
   "mimetype": "text/x-python",
   "name": "python",
   "nbconvert_exporter": "python",
   "pygments_lexer": "ipython3",
   "version": "3.8.5"
  }
 },
 "nbformat": 4,
 "nbformat_minor": 4
}
